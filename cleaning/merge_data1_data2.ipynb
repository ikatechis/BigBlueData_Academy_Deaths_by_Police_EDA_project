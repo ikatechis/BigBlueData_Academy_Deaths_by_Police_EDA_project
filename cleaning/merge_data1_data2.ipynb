{
 "cells": [
  {
   "cell_type": "code",
   "execution_count": 1,
   "id": "50fe715b-3e54-4547-9484-00874911a04a",
   "metadata": {},
   "outputs": [],
   "source": [
    "import pandas as pd\n",
    "import numpy as np\n",
    "\n",
    "pd.set_option('display.max_rows', 100)\n",
    "pd.set_option('display.max_colwidth', 30)"
   ]
  },
  {
   "cell_type": "code",
   "execution_count": 2,
   "id": "1f09e19c-e67e-4e42-b47d-e80521a1eb37",
   "metadata": {},
   "outputs": [],
   "source": [
    "df1 = pd.read_csv ('../data/Innocent Deaths caused by Police (All time)_cleaned.csv')\n",
    "df2 = pd.read_csv('../data/Visualizing inequity - 2013-2020 Police Killings_cleaned.csv')"
   ]
  },
  {
   "cell_type": "code",
   "execution_count": 3,
   "id": "6ba25959-9956-4b4d-96ae-b605165cbcd7",
   "metadata": {},
   "outputs": [
    {
     "data": {
      "text/html": [
       "<div>\n",
       "<style scoped>\n",
       "    .dataframe tbody tr th:only-of-type {\n",
       "        vertical-align: middle;\n",
       "    }\n",
       "\n",
       "    .dataframe tbody tr th {\n",
       "        vertical-align: top;\n",
       "    }\n",
       "\n",
       "    .dataframe thead th {\n",
       "        text-align: right;\n",
       "    }\n",
       "</style>\n",
       "<table border=\"1\" class=\"dataframe\">\n",
       "  <thead>\n",
       "    <tr style=\"text-align: right;\">\n",
       "      <th></th>\n",
       "      <th>name_key</th>\n",
       "      <th>name</th>\n",
       "      <th>age</th>\n",
       "      <th>gender</th>\n",
       "      <th>race</th>\n",
       "      <th>image_url</th>\n",
       "      <th>date</th>\n",
       "      <th>address</th>\n",
       "      <th>city</th>\n",
       "      <th>state</th>\n",
       "      <th>zipcode</th>\n",
       "      <th>county</th>\n",
       "      <th>full_address</th>\n",
       "      <th>latitude</th>\n",
       "      <th>longitude</th>\n",
       "      <th>agency</th>\n",
       "      <th>force_level</th>\n",
       "      <th>weapon</th>\n",
       "      <th>aggressive_movement</th>\n",
       "      <th>fleeing</th>\n",
       "      <th>description_temp</th>\n",
       "      <th>url_temp</th>\n",
       "      <th>description</th>\n",
       "      <th>dispositions</th>\n",
       "      <th>intented_force</th>\n",
       "      <th>document_link</th>\n",
       "      <th>mental_illness</th>\n",
       "      <th>weapon_category</th>\n",
       "      <th>dispositions_cat</th>\n",
       "    </tr>\n",
       "  </thead>\n",
       "  <tbody>\n",
       "    <tr>\n",
       "      <th>0</th>\n",
       "      <td>marka.horton</td>\n",
       "      <td>Mark A. Horton</td>\n",
       "      <td>21.0</td>\n",
       "      <td>Male</td>\n",
       "      <td>African-American/Black</td>\n",
       "      <td>NaN</td>\n",
       "      <td>2000-01-01</td>\n",
       "      <td>Davison Freeway</td>\n",
       "      <td>Detroit</td>\n",
       "      <td>MI</td>\n",
       "      <td>48203</td>\n",
       "      <td>Wayne</td>\n",
       "      <td>Davison Freeway Detroit MI...</td>\n",
       "      <td>42.4045</td>\n",
       "      <td>-83.0923</td>\n",
       "      <td>NaN</td>\n",
       "      <td>Vehicle</td>\n",
       "      <td>NaN</td>\n",
       "      <td>NaN</td>\n",
       "      <td>NaN</td>\n",
       "      <td>NaN</td>\n",
       "      <td>NaN</td>\n",
       "      <td>Two Detroit men killed whe...</td>\n",
       "      <td>Unreported</td>\n",
       "      <td>Pursuit</td>\n",
       "      <td>https://drive.google.com/f...</td>\n",
       "      <td>No</td>\n",
       "      <td>NaN</td>\n",
       "      <td>unreported</td>\n",
       "    </tr>\n",
       "    <tr>\n",
       "      <th>1</th>\n",
       "      <td>phillipa.blurbridge</td>\n",
       "      <td>Phillip A. Blurbridge</td>\n",
       "      <td>19.0</td>\n",
       "      <td>Male</td>\n",
       "      <td>African-American/Black</td>\n",
       "      <td>NaN</td>\n",
       "      <td>2000-01-01</td>\n",
       "      <td>Davison Freeway</td>\n",
       "      <td>Detroit</td>\n",
       "      <td>MI</td>\n",
       "      <td>48203</td>\n",
       "      <td>Wayne</td>\n",
       "      <td>Davison Freeway Detroit MI...</td>\n",
       "      <td>42.4045</td>\n",
       "      <td>-83.0923</td>\n",
       "      <td>NaN</td>\n",
       "      <td>Vehicle</td>\n",
       "      <td>NaN</td>\n",
       "      <td>NaN</td>\n",
       "      <td>NaN</td>\n",
       "      <td>NaN</td>\n",
       "      <td>NaN</td>\n",
       "      <td>Two Detroit men killed whe...</td>\n",
       "      <td>Unreported</td>\n",
       "      <td>Pursuit</td>\n",
       "      <td>https://drive.google.com/f...</td>\n",
       "      <td>No</td>\n",
       "      <td>NaN</td>\n",
       "      <td>unreported</td>\n",
       "    </tr>\n",
       "    <tr>\n",
       "      <th>2</th>\n",
       "      <td>samuelh.knapp</td>\n",
       "      <td>Samuel H. Knapp</td>\n",
       "      <td>17.0</td>\n",
       "      <td>Male</td>\n",
       "      <td>European-American/White</td>\n",
       "      <td>NaN</td>\n",
       "      <td>2000-01-01</td>\n",
       "      <td>27898-27804 US-101</td>\n",
       "      <td>Willits</td>\n",
       "      <td>CA</td>\n",
       "      <td>95490</td>\n",
       "      <td>Mendocino</td>\n",
       "      <td>27898-27804 US-101 Willits...</td>\n",
       "      <td>39.4709</td>\n",
       "      <td>-123.3618</td>\n",
       "      <td>Mendocino County Sheriff's...</td>\n",
       "      <td>Vehicle</td>\n",
       "      <td>NaN</td>\n",
       "      <td>NaN</td>\n",
       "      <td>NaN</td>\n",
       "      <td>NaN</td>\n",
       "      <td>NaN</td>\n",
       "      <td>Samuel Knapp was allegedly...</td>\n",
       "      <td>Unreported</td>\n",
       "      <td>Pursuit</td>\n",
       "      <td>https://drive.google.com/f...</td>\n",
       "      <td>No</td>\n",
       "      <td>NaN</td>\n",
       "      <td>unreported</td>\n",
       "    </tr>\n",
       "    <tr>\n",
       "      <th>3</th>\n",
       "      <td>markortiz</td>\n",
       "      <td>Mark Ortiz</td>\n",
       "      <td>23.0</td>\n",
       "      <td>Male</td>\n",
       "      <td>Hispanic/Latino</td>\n",
       "      <td>NaN</td>\n",
       "      <td>2000-01-01</td>\n",
       "      <td>600 W Cherry Ln</td>\n",
       "      <td>Carlsbad</td>\n",
       "      <td>NM</td>\n",
       "      <td>88220</td>\n",
       "      <td>Eddy</td>\n",
       "      <td>600 W Cherry Ln Carlsbad N...</td>\n",
       "      <td>32.4501</td>\n",
       "      <td>-104.2376</td>\n",
       "      <td>Eddy County Sheriff's Office</td>\n",
       "      <td>Vehicle</td>\n",
       "      <td>NaN</td>\n",
       "      <td>NaN</td>\n",
       "      <td>NaN</td>\n",
       "      <td>NaN</td>\n",
       "      <td>NaN</td>\n",
       "      <td>A motorcycle was allegedly...</td>\n",
       "      <td>Unreported</td>\n",
       "      <td>Pursuit</td>\n",
       "      <td>https://drive.google.com/f...</td>\n",
       "      <td>No</td>\n",
       "      <td>NaN</td>\n",
       "      <td>unreported</td>\n",
       "    </tr>\n",
       "    <tr>\n",
       "      <th>4</th>\n",
       "      <td>latanyajanellemccoy</td>\n",
       "      <td>LaTanya Janelle McCoy</td>\n",
       "      <td>24.0</td>\n",
       "      <td>Female</td>\n",
       "      <td>African-American/Black</td>\n",
       "      <td>NaN</td>\n",
       "      <td>2000-01-02</td>\n",
       "      <td>5700 block Mack Road</td>\n",
       "      <td>Sacramento</td>\n",
       "      <td>CA</td>\n",
       "      <td>95823</td>\n",
       "      <td>Sacramento</td>\n",
       "      <td>5700 block Mack Road Sacra...</td>\n",
       "      <td>38.4739</td>\n",
       "      <td>-121.4338</td>\n",
       "      <td>Sacramento Police Department</td>\n",
       "      <td>Vehicle</td>\n",
       "      <td>NaN</td>\n",
       "      <td>NaN</td>\n",
       "      <td>NaN</td>\n",
       "      <td>NaN</td>\n",
       "      <td>NaN</td>\n",
       "      <td>LaTanya Janelle McCoy's ca...</td>\n",
       "      <td>Unknown</td>\n",
       "      <td>Pursuit</td>\n",
       "      <td>http://www.recordnet.com/a...</td>\n",
       "      <td>No</td>\n",
       "      <td>NaN</td>\n",
       "      <td>unknown</td>\n",
       "    </tr>\n",
       "  </tbody>\n",
       "</table>\n",
       "</div>"
      ],
      "text/plain": [
       "              name_key                   name   age  gender                     race image_url        date               address        city state  zipcode      county                   full_address  latitude  longitude                         agency force_level weapon aggressive_movement fleeing description_temp url_temp                    description dispositions intented_force                  document_link mental_illness weapon_category dispositions_cat\n",
       "0         marka.horton         Mark A. Horton  21.0    Male   African-American/Black       NaN  2000-01-01       Davison Freeway     Detroit    MI    48203       Wayne  Davison Freeway Detroit MI...   42.4045   -83.0923                            NaN     Vehicle    NaN                 NaN     NaN              NaN      NaN  Two Detroit men killed whe...   Unreported        Pursuit  https://drive.google.com/f...             No             NaN       unreported\n",
       "1  phillipa.blurbridge  Phillip A. Blurbridge  19.0    Male   African-American/Black       NaN  2000-01-01       Davison Freeway     Detroit    MI    48203       Wayne  Davison Freeway Detroit MI...   42.4045   -83.0923                            NaN     Vehicle    NaN                 NaN     NaN              NaN      NaN  Two Detroit men killed whe...   Unreported        Pursuit  https://drive.google.com/f...             No             NaN       unreported\n",
       "2        samuelh.knapp        Samuel H. Knapp  17.0    Male  European-American/White       NaN  2000-01-01    27898-27804 US-101     Willits    CA    95490   Mendocino  27898-27804 US-101 Willits...   39.4709  -123.3618  Mendocino County Sheriff's...     Vehicle    NaN                 NaN     NaN              NaN      NaN  Samuel Knapp was allegedly...   Unreported        Pursuit  https://drive.google.com/f...             No             NaN       unreported\n",
       "3            markortiz             Mark Ortiz  23.0    Male          Hispanic/Latino       NaN  2000-01-01       600 W Cherry Ln    Carlsbad    NM    88220        Eddy  600 W Cherry Ln Carlsbad N...   32.4501  -104.2376   Eddy County Sheriff's Office     Vehicle    NaN                 NaN     NaN              NaN      NaN  A motorcycle was allegedly...   Unreported        Pursuit  https://drive.google.com/f...             No             NaN       unreported\n",
       "4  latanyajanellemccoy  LaTanya Janelle McCoy  24.0  Female   African-American/Black       NaN  2000-01-02  5700 block Mack Road  Sacramento    CA    95823  Sacramento  5700 block Mack Road Sacra...   38.4739  -121.4338   Sacramento Police Department     Vehicle    NaN                 NaN     NaN              NaN      NaN  LaTanya Janelle McCoy's ca...      Unknown        Pursuit  http://www.recordnet.com/a...             No             NaN          unknown"
      ]
     },
     "execution_count": 3,
     "metadata": {},
     "output_type": "execute_result"
    }
   ],
   "source": [
    "df1.head()"
   ]
  },
  {
   "cell_type": "code",
   "execution_count": 4,
   "id": "b509a82f-c056-4fe5-a2d2-06c22de85b82",
   "metadata": {},
   "outputs": [],
   "source": [
    "df1.drop_duplicates(inplace=True)"
   ]
  },
  {
   "cell_type": "code",
   "execution_count": 5,
   "id": "efcb27f0-e5ad-4233-9bfe-e1022d4ca6d8",
   "metadata": {},
   "outputs": [
    {
     "data": {
      "text/plain": [
       "False    30818\n",
       "Name: state, dtype: int64"
      ]
     },
     "execution_count": 5,
     "metadata": {},
     "output_type": "execute_result"
    }
   ],
   "source": [
    "df1.state.isna().value_counts()"
   ]
  },
  {
   "cell_type": "code",
   "execution_count": 6,
   "id": "5ebd9fb4-b78d-48f6-8817-3d92580474e4",
   "metadata": {},
   "outputs": [
    {
     "data": {
      "text/plain": [
       "False    30818\n",
       "Name: date, dtype: int64"
      ]
     },
     "execution_count": 6,
     "metadata": {},
     "output_type": "execute_result"
    }
   ],
   "source": [
    "df1.date.isna().value_counts()"
   ]
  },
  {
   "cell_type": "code",
   "execution_count": 7,
   "id": "34acd1e3-4cd8-47ad-b525-9cac5f4fd475",
   "metadata": {},
   "outputs": [
    {
     "data": {
      "text/html": [
       "<div>\n",
       "<style scoped>\n",
       "    .dataframe tbody tr th:only-of-type {\n",
       "        vertical-align: middle;\n",
       "    }\n",
       "\n",
       "    .dataframe tbody tr th {\n",
       "        vertical-align: top;\n",
       "    }\n",
       "\n",
       "    .dataframe thead th {\n",
       "        text-align: right;\n",
       "    }\n",
       "</style>\n",
       "<table border=\"1\" class=\"dataframe\">\n",
       "  <thead>\n",
       "    <tr style=\"text-align: right;\">\n",
       "      <th></th>\n",
       "      <th>name</th>\n",
       "      <th>name_key</th>\n",
       "      <th>age</th>\n",
       "      <th>gender</th>\n",
       "      <th>race</th>\n",
       "      <th>image_url</th>\n",
       "      <th>date</th>\n",
       "      <th>address</th>\n",
       "      <th>city</th>\n",
       "      <th>state</th>\n",
       "      <th>zip</th>\n",
       "      <th>county</th>\n",
       "      <th>agency</th>\n",
       "      <th>agency_id</th>\n",
       "      <th>death_cause</th>\n",
       "      <th>description</th>\n",
       "      <th>disposition</th>\n",
       "      <th>disposition_cat</th>\n",
       "      <th>charges</th>\n",
       "      <th>link</th>\n",
       "      <th>mental_symptoms</th>\n",
       "      <th>armed</th>\n",
       "      <th>weapon</th>\n",
       "      <th>threat</th>\n",
       "      <th>fleeing</th>\n",
       "      <th>body_cam</th>\n",
       "      <th>WaPo_id</th>\n",
       "      <th>off_duty</th>\n",
       "      <th>geography</th>\n",
       "      <th>mpv_id</th>\n",
       "      <th>fatal_encounters_id</th>\n",
       "      <th>encounter_type</th>\n",
       "      <th>encounter_reason</th>\n",
       "      <th>officer_names</th>\n",
       "      <th>officers_race</th>\n",
       "      <th>off_past_shootings</th>\n",
       "      <th>service_call</th>\n",
       "    </tr>\n",
       "  </thead>\n",
       "  <tbody>\n",
       "    <tr>\n",
       "      <th>0</th>\n",
       "      <td>Richard Solitro</td>\n",
       "      <td>richardsolitro</td>\n",
       "      <td>34.0</td>\n",
       "      <td>male</td>\n",
       "      <td>white</td>\n",
       "      <td>NaN</td>\n",
       "      <td>2021-04-24</td>\n",
       "      <td>NaN</td>\n",
       "      <td>Los Angeles</td>\n",
       "      <td>CA</td>\n",
       "      <td>0</td>\n",
       "      <td>NaN</td>\n",
       "      <td>Los Angeles Police Department</td>\n",
       "      <td>CA0194200</td>\n",
       "      <td>gunshot</td>\n",
       "      <td>Solitro allegedly cut off ...</td>\n",
       "      <td>Pending investigation</td>\n",
       "      <td>pending investigation</td>\n",
       "      <td>no known</td>\n",
       "      <td>https://www.providencejour...</td>\n",
       "      <td>yes</td>\n",
       "      <td>unarmed</td>\n",
       "      <td>no object</td>\n",
       "      <td>no</td>\n",
       "      <td>not fleeing</td>\n",
       "      <td>yes</td>\n",
       "      <td>6804.0</td>\n",
       "      <td>NaN</td>\n",
       "      <td>NaN</td>\n",
       "      <td>NaN</td>\n",
       "      <td>NaN</td>\n",
       "      <td>traffic stop</td>\n",
       "      <td>cut off patrol car</td>\n",
       "      <td>NaN</td>\n",
       "      <td>NaN</td>\n",
       "      <td>NaN</td>\n",
       "      <td>No</td>\n",
       "    </tr>\n",
       "    <tr>\n",
       "      <th>1</th>\n",
       "      <td>Marvin Veiga</td>\n",
       "      <td>marvinveiga</td>\n",
       "      <td>32.0</td>\n",
       "      <td>male</td>\n",
       "      <td>NaN</td>\n",
       "      <td>NaN</td>\n",
       "      <td>2021-04-24</td>\n",
       "      <td>NaN</td>\n",
       "      <td>Nashville</td>\n",
       "      <td>TN</td>\n",
       "      <td>0</td>\n",
       "      <td>NaN</td>\n",
       "      <td>Metropolitan Nashville Pol...</td>\n",
       "      <td>TN0190100</td>\n",
       "      <td>gunshot</td>\n",
       "      <td>Officer Christopher Royer ...</td>\n",
       "      <td>Pending investigation</td>\n",
       "      <td>pending investigation</td>\n",
       "      <td>no known</td>\n",
       "      <td>https://www.tennessean.com...</td>\n",
       "      <td>no</td>\n",
       "      <td>armed</td>\n",
       "      <td>knife</td>\n",
       "      <td>no</td>\n",
       "      <td>not fleeing</td>\n",
       "      <td>yes</td>\n",
       "      <td>6802.0</td>\n",
       "      <td>NaN</td>\n",
       "      <td>NaN</td>\n",
       "      <td>NaN</td>\n",
       "      <td>NaN</td>\n",
       "      <td>traffic stop</td>\n",
       "      <td>traffic violation (license...</td>\n",
       "      <td>Christopher Royer</td>\n",
       "      <td>NaN</td>\n",
       "      <td>NaN</td>\n",
       "      <td>No</td>\n",
       "    </tr>\n",
       "    <tr>\n",
       "      <th>2</th>\n",
       "      <td>Benjamin Ridley</td>\n",
       "      <td>benjaminridley</td>\n",
       "      <td>29.0</td>\n",
       "      <td>male</td>\n",
       "      <td>white</td>\n",
       "      <td>NaN</td>\n",
       "      <td>2021-04-24</td>\n",
       "      <td>NaN</td>\n",
       "      <td>Webbers Falls</td>\n",
       "      <td>OK</td>\n",
       "      <td>0</td>\n",
       "      <td>Muskogee</td>\n",
       "      <td>Webbers Falls Police Depar...</td>\n",
       "      <td>OK0511700</td>\n",
       "      <td>gunshot</td>\n",
       "      <td>Officers were dispatched t...</td>\n",
       "      <td>Pending investigation</td>\n",
       "      <td>pending investigation</td>\n",
       "      <td>no known</td>\n",
       "      <td>https://okcfox.com/news/lo...</td>\n",
       "      <td>no</td>\n",
       "      <td>armed</td>\n",
       "      <td>gun</td>\n",
       "      <td>no</td>\n",
       "      <td>NaN</td>\n",
       "      <td>no</td>\n",
       "      <td>6801.0</td>\n",
       "      <td>NaN</td>\n",
       "      <td>NaN</td>\n",
       "      <td>NaN</td>\n",
       "      <td>NaN</td>\n",
       "      <td>NaN</td>\n",
       "      <td>warrants</td>\n",
       "      <td>NaN</td>\n",
       "      <td>NaN</td>\n",
       "      <td>NaN</td>\n",
       "      <td>No</td>\n",
       "    </tr>\n",
       "    <tr>\n",
       "      <th>3</th>\n",
       "      <td>Name withheld by police</td>\n",
       "      <td>namewithheldbypolice</td>\n",
       "      <td>NaN</td>\n",
       "      <td>male</td>\n",
       "      <td>NaN</td>\n",
       "      <td>NaN</td>\n",
       "      <td>2021-04-23</td>\n",
       "      <td>NaN</td>\n",
       "      <td>Billings</td>\n",
       "      <td>MT</td>\n",
       "      <td>0</td>\n",
       "      <td>NaN</td>\n",
       "      <td>NaN</td>\n",
       "      <td>NaN</td>\n",
       "      <td>gunshot</td>\n",
       "      <td>Yellowstone County deputie...</td>\n",
       "      <td>Pending investigation</td>\n",
       "      <td>pending investigation</td>\n",
       "      <td>no known</td>\n",
       "      <td>https://www.usnews.com/new...</td>\n",
       "      <td>no</td>\n",
       "      <td>armed</td>\n",
       "      <td>gun</td>\n",
       "      <td>attack</td>\n",
       "      <td>other</td>\n",
       "      <td>no</td>\n",
       "      <td>6805.0</td>\n",
       "      <td>NaN</td>\n",
       "      <td>NaN</td>\n",
       "      <td>NaN</td>\n",
       "      <td>NaN</td>\n",
       "      <td>traffic stop</td>\n",
       "      <td>traffic violation</td>\n",
       "      <td>NaN</td>\n",
       "      <td>NaN</td>\n",
       "      <td>NaN</td>\n",
       "      <td>No</td>\n",
       "    </tr>\n",
       "    <tr>\n",
       "      <th>4</th>\n",
       "      <td>Tory Casey</td>\n",
       "      <td>torycasey</td>\n",
       "      <td>41.0</td>\n",
       "      <td>male</td>\n",
       "      <td>black</td>\n",
       "      <td>NaN</td>\n",
       "      <td>2021-04-23</td>\n",
       "      <td>NaN</td>\n",
       "      <td>Rosenberg</td>\n",
       "      <td>TX</td>\n",
       "      <td>0</td>\n",
       "      <td>NaN</td>\n",
       "      <td>Rosenberg Police Department</td>\n",
       "      <td>TX0790300</td>\n",
       "      <td>gunshot</td>\n",
       "      <td>Casey was doing laundry an...</td>\n",
       "      <td>Pending investigation</td>\n",
       "      <td>pending investigation</td>\n",
       "      <td>no known</td>\n",
       "      <td>https://abc13.com/tory-cas...</td>\n",
       "      <td>yes</td>\n",
       "      <td>armed</td>\n",
       "      <td>gun</td>\n",
       "      <td>no</td>\n",
       "      <td>NaN</td>\n",
       "      <td>no</td>\n",
       "      <td>6803.0</td>\n",
       "      <td>NaN</td>\n",
       "      <td>NaN</td>\n",
       "      <td>NaN</td>\n",
       "      <td>NaN</td>\n",
       "      <td>violent crime</td>\n",
       "      <td>gunshots/mental health crisis</td>\n",
       "      <td>NaN</td>\n",
       "      <td>NaN</td>\n",
       "      <td>NaN</td>\n",
       "      <td>Yes</td>\n",
       "    </tr>\n",
       "  </tbody>\n",
       "</table>\n",
       "</div>"
      ],
      "text/plain": [
       "                      name              name_key   age gender   race image_url        date address           city state  zip    county                         agency  agency_id death_cause                    description            disposition        disposition_cat   charges                           link mental_symptoms    armed     weapon  threat      fleeing body_cam  WaPo_id off_duty geography  mpv_id  fatal_encounters_id encounter_type               encounter_reason      officer_names officers_race off_past_shootings service_call\n",
       "0          Richard Solitro        richardsolitro  34.0   male  white       NaN  2021-04-24     NaN    Los Angeles    CA    0       NaN  Los Angeles Police Department  CA0194200     gunshot  Solitro allegedly cut off ...  Pending investigation  pending investigation  no known  https://www.providencejour...             yes  unarmed  no object      no  not fleeing      yes   6804.0      NaN       NaN     NaN                  NaN   traffic stop             cut off patrol car                NaN           NaN                NaN           No\n",
       "1             Marvin Veiga           marvinveiga  32.0   male    NaN       NaN  2021-04-24     NaN      Nashville    TN    0       NaN  Metropolitan Nashville Pol...  TN0190100     gunshot  Officer Christopher Royer ...  Pending investigation  pending investigation  no known  https://www.tennessean.com...              no    armed      knife      no  not fleeing      yes   6802.0      NaN       NaN     NaN                  NaN   traffic stop  traffic violation (license...  Christopher Royer           NaN                NaN           No\n",
       "2          Benjamin Ridley        benjaminridley  29.0   male  white       NaN  2021-04-24     NaN  Webbers Falls    OK    0  Muskogee  Webbers Falls Police Depar...  OK0511700     gunshot  Officers were dispatched t...  Pending investigation  pending investigation  no known  https://okcfox.com/news/lo...              no    armed        gun      no          NaN       no   6801.0      NaN       NaN     NaN                  NaN            NaN                       warrants                NaN           NaN                NaN           No\n",
       "3  Name withheld by police  namewithheldbypolice   NaN   male    NaN       NaN  2021-04-23     NaN       Billings    MT    0       NaN                            NaN        NaN     gunshot  Yellowstone County deputie...  Pending investigation  pending investigation  no known  https://www.usnews.com/new...              no    armed        gun  attack        other       no   6805.0      NaN       NaN     NaN                  NaN   traffic stop              traffic violation                NaN           NaN                NaN           No\n",
       "4               Tory Casey             torycasey  41.0   male  black       NaN  2021-04-23     NaN      Rosenberg    TX    0       NaN    Rosenberg Police Department  TX0790300     gunshot  Casey was doing laundry an...  Pending investigation  pending investigation  no known  https://abc13.com/tory-cas...             yes    armed        gun      no          NaN       no   6803.0      NaN       NaN     NaN                  NaN  violent crime  gunshots/mental health crisis                NaN           NaN                NaN          Yes"
      ]
     },
     "execution_count": 7,
     "metadata": {},
     "output_type": "execute_result"
    }
   ],
   "source": [
    "df2.head()"
   ]
  },
  {
   "cell_type": "code",
   "execution_count": 8,
   "id": "4633e1f4-35c6-44f9-96dd-ef5f11446749",
   "metadata": {},
   "outputs": [
    {
     "data": {
      "text/plain": [
       "(30818, 29)"
      ]
     },
     "execution_count": 8,
     "metadata": {},
     "output_type": "execute_result"
    }
   ],
   "source": [
    "df1.shape"
   ]
  },
  {
   "cell_type": "code",
   "execution_count": 9,
   "id": "1f564732-b7b3-43ea-bbe8-f3e3496b57f7",
   "metadata": {},
   "outputs": [
    {
     "data": {
      "text/plain": [
       "False    9116\n",
       "Name: date, dtype: int64"
      ]
     },
     "execution_count": 9,
     "metadata": {},
     "output_type": "execute_result"
    }
   ],
   "source": [
    "df2.date.isna().value_counts()"
   ]
  },
  {
   "cell_type": "code",
   "execution_count": 10,
   "id": "e234ba70-9c69-42ea-a582-0812b211c340",
   "metadata": {},
   "outputs": [
    {
     "data": {
      "text/plain": [
       "False    9116\n",
       "Name: state, dtype: int64"
      ]
     },
     "execution_count": 10,
     "metadata": {},
     "output_type": "execute_result"
    }
   ],
   "source": [
    "df2.state.isna().value_counts()"
   ]
  },
  {
   "cell_type": "code",
   "execution_count": 11,
   "id": "075eca41-503d-430f-8d7e-e45d03b1861d",
   "metadata": {},
   "outputs": [],
   "source": [
    "merged = pd.merge(df1, df2, on=['name', 'state', 'date'], how='outer', indicator=True)"
   ]
  },
  {
   "cell_type": "code",
   "execution_count": 12,
   "id": "83ce6816-d321-4765-869e-4e7c40798716",
   "metadata": {},
   "outputs": [
    {
     "data": {
      "text/html": [
       "<div>\n",
       "<style scoped>\n",
       "    .dataframe tbody tr th:only-of-type {\n",
       "        vertical-align: middle;\n",
       "    }\n",
       "\n",
       "    .dataframe tbody tr th {\n",
       "        vertical-align: top;\n",
       "    }\n",
       "\n",
       "    .dataframe thead th {\n",
       "        text-align: right;\n",
       "    }\n",
       "</style>\n",
       "<table border=\"1\" class=\"dataframe\">\n",
       "  <thead>\n",
       "    <tr style=\"text-align: right;\">\n",
       "      <th></th>\n",
       "      <th>name_key_x</th>\n",
       "      <th>name</th>\n",
       "      <th>age_x</th>\n",
       "      <th>gender_x</th>\n",
       "      <th>race_x</th>\n",
       "      <th>image_url_x</th>\n",
       "      <th>date</th>\n",
       "      <th>address_x</th>\n",
       "      <th>city_x</th>\n",
       "      <th>state</th>\n",
       "      <th>zipcode</th>\n",
       "      <th>county_x</th>\n",
       "      <th>full_address</th>\n",
       "      <th>latitude</th>\n",
       "      <th>longitude</th>\n",
       "      <th>agency_x</th>\n",
       "      <th>force_level</th>\n",
       "      <th>weapon_x</th>\n",
       "      <th>aggressive_movement</th>\n",
       "      <th>fleeing_x</th>\n",
       "      <th>description_temp</th>\n",
       "      <th>url_temp</th>\n",
       "      <th>description_x</th>\n",
       "      <th>dispositions</th>\n",
       "      <th>intented_force</th>\n",
       "      <th>document_link</th>\n",
       "      <th>mental_illness</th>\n",
       "      <th>weapon_category</th>\n",
       "      <th>dispositions_cat</th>\n",
       "      <th>name_key_y</th>\n",
       "      <th>age_y</th>\n",
       "      <th>gender_y</th>\n",
       "      <th>race_y</th>\n",
       "      <th>image_url_y</th>\n",
       "      <th>address_y</th>\n",
       "      <th>city_y</th>\n",
       "      <th>zip</th>\n",
       "      <th>county_y</th>\n",
       "      <th>agency_y</th>\n",
       "      <th>agency_id</th>\n",
       "      <th>death_cause</th>\n",
       "      <th>description_y</th>\n",
       "      <th>disposition</th>\n",
       "      <th>disposition_cat</th>\n",
       "      <th>charges</th>\n",
       "      <th>link</th>\n",
       "      <th>mental_symptoms</th>\n",
       "      <th>armed</th>\n",
       "      <th>weapon_y</th>\n",
       "      <th>threat</th>\n",
       "      <th>fleeing_y</th>\n",
       "      <th>body_cam</th>\n",
       "      <th>WaPo_id</th>\n",
       "      <th>off_duty</th>\n",
       "      <th>geography</th>\n",
       "      <th>mpv_id</th>\n",
       "      <th>fatal_encounters_id</th>\n",
       "      <th>encounter_type</th>\n",
       "      <th>encounter_reason</th>\n",
       "      <th>officer_names</th>\n",
       "      <th>officers_race</th>\n",
       "      <th>off_past_shootings</th>\n",
       "      <th>service_call</th>\n",
       "      <th>_merge</th>\n",
       "    </tr>\n",
       "  </thead>\n",
       "  <tbody>\n",
       "    <tr>\n",
       "      <th>0</th>\n",
       "      <td>marka.horton</td>\n",
       "      <td>Mark A. Horton</td>\n",
       "      <td>21.0</td>\n",
       "      <td>Male</td>\n",
       "      <td>African-American/Black</td>\n",
       "      <td>NaN</td>\n",
       "      <td>2000-01-01</td>\n",
       "      <td>Davison Freeway</td>\n",
       "      <td>Detroit</td>\n",
       "      <td>MI</td>\n",
       "      <td>48203.0</td>\n",
       "      <td>Wayne</td>\n",
       "      <td>Davison Freeway Detroit MI...</td>\n",
       "      <td>42.4045</td>\n",
       "      <td>-83.0923</td>\n",
       "      <td>NaN</td>\n",
       "      <td>Vehicle</td>\n",
       "      <td>NaN</td>\n",
       "      <td>NaN</td>\n",
       "      <td>NaN</td>\n",
       "      <td>NaN</td>\n",
       "      <td>NaN</td>\n",
       "      <td>Two Detroit men killed whe...</td>\n",
       "      <td>Unreported</td>\n",
       "      <td>Pursuit</td>\n",
       "      <td>https://drive.google.com/f...</td>\n",
       "      <td>No</td>\n",
       "      <td>NaN</td>\n",
       "      <td>unreported</td>\n",
       "      <td>NaN</td>\n",
       "      <td>NaN</td>\n",
       "      <td>NaN</td>\n",
       "      <td>NaN</td>\n",
       "      <td>NaN</td>\n",
       "      <td>NaN</td>\n",
       "      <td>NaN</td>\n",
       "      <td>NaN</td>\n",
       "      <td>NaN</td>\n",
       "      <td>NaN</td>\n",
       "      <td>NaN</td>\n",
       "      <td>NaN</td>\n",
       "      <td>NaN</td>\n",
       "      <td>NaN</td>\n",
       "      <td>NaN</td>\n",
       "      <td>NaN</td>\n",
       "      <td>NaN</td>\n",
       "      <td>NaN</td>\n",
       "      <td>NaN</td>\n",
       "      <td>NaN</td>\n",
       "      <td>NaN</td>\n",
       "      <td>NaN</td>\n",
       "      <td>NaN</td>\n",
       "      <td>NaN</td>\n",
       "      <td>NaN</td>\n",
       "      <td>NaN</td>\n",
       "      <td>NaN</td>\n",
       "      <td>NaN</td>\n",
       "      <td>NaN</td>\n",
       "      <td>NaN</td>\n",
       "      <td>NaN</td>\n",
       "      <td>NaN</td>\n",
       "      <td>NaN</td>\n",
       "      <td>NaN</td>\n",
       "      <td>left_only</td>\n",
       "    </tr>\n",
       "    <tr>\n",
       "      <th>1</th>\n",
       "      <td>phillipa.blurbridge</td>\n",
       "      <td>Phillip A. Blurbridge</td>\n",
       "      <td>19.0</td>\n",
       "      <td>Male</td>\n",
       "      <td>African-American/Black</td>\n",
       "      <td>NaN</td>\n",
       "      <td>2000-01-01</td>\n",
       "      <td>Davison Freeway</td>\n",
       "      <td>Detroit</td>\n",
       "      <td>MI</td>\n",
       "      <td>48203.0</td>\n",
       "      <td>Wayne</td>\n",
       "      <td>Davison Freeway Detroit MI...</td>\n",
       "      <td>42.4045</td>\n",
       "      <td>-83.0923</td>\n",
       "      <td>NaN</td>\n",
       "      <td>Vehicle</td>\n",
       "      <td>NaN</td>\n",
       "      <td>NaN</td>\n",
       "      <td>NaN</td>\n",
       "      <td>NaN</td>\n",
       "      <td>NaN</td>\n",
       "      <td>Two Detroit men killed whe...</td>\n",
       "      <td>Unreported</td>\n",
       "      <td>Pursuit</td>\n",
       "      <td>https://drive.google.com/f...</td>\n",
       "      <td>No</td>\n",
       "      <td>NaN</td>\n",
       "      <td>unreported</td>\n",
       "      <td>NaN</td>\n",
       "      <td>NaN</td>\n",
       "      <td>NaN</td>\n",
       "      <td>NaN</td>\n",
       "      <td>NaN</td>\n",
       "      <td>NaN</td>\n",
       "      <td>NaN</td>\n",
       "      <td>NaN</td>\n",
       "      <td>NaN</td>\n",
       "      <td>NaN</td>\n",
       "      <td>NaN</td>\n",
       "      <td>NaN</td>\n",
       "      <td>NaN</td>\n",
       "      <td>NaN</td>\n",
       "      <td>NaN</td>\n",
       "      <td>NaN</td>\n",
       "      <td>NaN</td>\n",
       "      <td>NaN</td>\n",
       "      <td>NaN</td>\n",
       "      <td>NaN</td>\n",
       "      <td>NaN</td>\n",
       "      <td>NaN</td>\n",
       "      <td>NaN</td>\n",
       "      <td>NaN</td>\n",
       "      <td>NaN</td>\n",
       "      <td>NaN</td>\n",
       "      <td>NaN</td>\n",
       "      <td>NaN</td>\n",
       "      <td>NaN</td>\n",
       "      <td>NaN</td>\n",
       "      <td>NaN</td>\n",
       "      <td>NaN</td>\n",
       "      <td>NaN</td>\n",
       "      <td>NaN</td>\n",
       "      <td>left_only</td>\n",
       "    </tr>\n",
       "    <tr>\n",
       "      <th>2</th>\n",
       "      <td>samuelh.knapp</td>\n",
       "      <td>Samuel H. Knapp</td>\n",
       "      <td>17.0</td>\n",
       "      <td>Male</td>\n",
       "      <td>European-American/White</td>\n",
       "      <td>NaN</td>\n",
       "      <td>2000-01-01</td>\n",
       "      <td>27898-27804 US-101</td>\n",
       "      <td>Willits</td>\n",
       "      <td>CA</td>\n",
       "      <td>95490.0</td>\n",
       "      <td>Mendocino</td>\n",
       "      <td>27898-27804 US-101 Willits...</td>\n",
       "      <td>39.4709</td>\n",
       "      <td>-123.3618</td>\n",
       "      <td>Mendocino County Sheriff's...</td>\n",
       "      <td>Vehicle</td>\n",
       "      <td>NaN</td>\n",
       "      <td>NaN</td>\n",
       "      <td>NaN</td>\n",
       "      <td>NaN</td>\n",
       "      <td>NaN</td>\n",
       "      <td>Samuel Knapp was allegedly...</td>\n",
       "      <td>Unreported</td>\n",
       "      <td>Pursuit</td>\n",
       "      <td>https://drive.google.com/f...</td>\n",
       "      <td>No</td>\n",
       "      <td>NaN</td>\n",
       "      <td>unreported</td>\n",
       "      <td>NaN</td>\n",
       "      <td>NaN</td>\n",
       "      <td>NaN</td>\n",
       "      <td>NaN</td>\n",
       "      <td>NaN</td>\n",
       "      <td>NaN</td>\n",
       "      <td>NaN</td>\n",
       "      <td>NaN</td>\n",
       "      <td>NaN</td>\n",
       "      <td>NaN</td>\n",
       "      <td>NaN</td>\n",
       "      <td>NaN</td>\n",
       "      <td>NaN</td>\n",
       "      <td>NaN</td>\n",
       "      <td>NaN</td>\n",
       "      <td>NaN</td>\n",
       "      <td>NaN</td>\n",
       "      <td>NaN</td>\n",
       "      <td>NaN</td>\n",
       "      <td>NaN</td>\n",
       "      <td>NaN</td>\n",
       "      <td>NaN</td>\n",
       "      <td>NaN</td>\n",
       "      <td>NaN</td>\n",
       "      <td>NaN</td>\n",
       "      <td>NaN</td>\n",
       "      <td>NaN</td>\n",
       "      <td>NaN</td>\n",
       "      <td>NaN</td>\n",
       "      <td>NaN</td>\n",
       "      <td>NaN</td>\n",
       "      <td>NaN</td>\n",
       "      <td>NaN</td>\n",
       "      <td>NaN</td>\n",
       "      <td>left_only</td>\n",
       "    </tr>\n",
       "    <tr>\n",
       "      <th>3</th>\n",
       "      <td>markortiz</td>\n",
       "      <td>Mark Ortiz</td>\n",
       "      <td>23.0</td>\n",
       "      <td>Male</td>\n",
       "      <td>Hispanic/Latino</td>\n",
       "      <td>NaN</td>\n",
       "      <td>2000-01-01</td>\n",
       "      <td>600 W Cherry Ln</td>\n",
       "      <td>Carlsbad</td>\n",
       "      <td>NM</td>\n",
       "      <td>88220.0</td>\n",
       "      <td>Eddy</td>\n",
       "      <td>600 W Cherry Ln Carlsbad N...</td>\n",
       "      <td>32.4501</td>\n",
       "      <td>-104.2376</td>\n",
       "      <td>Eddy County Sheriff's Office</td>\n",
       "      <td>Vehicle</td>\n",
       "      <td>NaN</td>\n",
       "      <td>NaN</td>\n",
       "      <td>NaN</td>\n",
       "      <td>NaN</td>\n",
       "      <td>NaN</td>\n",
       "      <td>A motorcycle was allegedly...</td>\n",
       "      <td>Unreported</td>\n",
       "      <td>Pursuit</td>\n",
       "      <td>https://drive.google.com/f...</td>\n",
       "      <td>No</td>\n",
       "      <td>NaN</td>\n",
       "      <td>unreported</td>\n",
       "      <td>NaN</td>\n",
       "      <td>NaN</td>\n",
       "      <td>NaN</td>\n",
       "      <td>NaN</td>\n",
       "      <td>NaN</td>\n",
       "      <td>NaN</td>\n",
       "      <td>NaN</td>\n",
       "      <td>NaN</td>\n",
       "      <td>NaN</td>\n",
       "      <td>NaN</td>\n",
       "      <td>NaN</td>\n",
       "      <td>NaN</td>\n",
       "      <td>NaN</td>\n",
       "      <td>NaN</td>\n",
       "      <td>NaN</td>\n",
       "      <td>NaN</td>\n",
       "      <td>NaN</td>\n",
       "      <td>NaN</td>\n",
       "      <td>NaN</td>\n",
       "      <td>NaN</td>\n",
       "      <td>NaN</td>\n",
       "      <td>NaN</td>\n",
       "      <td>NaN</td>\n",
       "      <td>NaN</td>\n",
       "      <td>NaN</td>\n",
       "      <td>NaN</td>\n",
       "      <td>NaN</td>\n",
       "      <td>NaN</td>\n",
       "      <td>NaN</td>\n",
       "      <td>NaN</td>\n",
       "      <td>NaN</td>\n",
       "      <td>NaN</td>\n",
       "      <td>NaN</td>\n",
       "      <td>NaN</td>\n",
       "      <td>left_only</td>\n",
       "    </tr>\n",
       "    <tr>\n",
       "      <th>4</th>\n",
       "      <td>latanyajanellemccoy</td>\n",
       "      <td>LaTanya Janelle McCoy</td>\n",
       "      <td>24.0</td>\n",
       "      <td>Female</td>\n",
       "      <td>African-American/Black</td>\n",
       "      <td>NaN</td>\n",
       "      <td>2000-01-02</td>\n",
       "      <td>5700 block Mack Road</td>\n",
       "      <td>Sacramento</td>\n",
       "      <td>CA</td>\n",
       "      <td>95823.0</td>\n",
       "      <td>Sacramento</td>\n",
       "      <td>5700 block Mack Road Sacra...</td>\n",
       "      <td>38.4739</td>\n",
       "      <td>-121.4338</td>\n",
       "      <td>Sacramento Police Department</td>\n",
       "      <td>Vehicle</td>\n",
       "      <td>NaN</td>\n",
       "      <td>NaN</td>\n",
       "      <td>NaN</td>\n",
       "      <td>NaN</td>\n",
       "      <td>NaN</td>\n",
       "      <td>LaTanya Janelle McCoy's ca...</td>\n",
       "      <td>Unknown</td>\n",
       "      <td>Pursuit</td>\n",
       "      <td>http://www.recordnet.com/a...</td>\n",
       "      <td>No</td>\n",
       "      <td>NaN</td>\n",
       "      <td>unknown</td>\n",
       "      <td>NaN</td>\n",
       "      <td>NaN</td>\n",
       "      <td>NaN</td>\n",
       "      <td>NaN</td>\n",
       "      <td>NaN</td>\n",
       "      <td>NaN</td>\n",
       "      <td>NaN</td>\n",
       "      <td>NaN</td>\n",
       "      <td>NaN</td>\n",
       "      <td>NaN</td>\n",
       "      <td>NaN</td>\n",
       "      <td>NaN</td>\n",
       "      <td>NaN</td>\n",
       "      <td>NaN</td>\n",
       "      <td>NaN</td>\n",
       "      <td>NaN</td>\n",
       "      <td>NaN</td>\n",
       "      <td>NaN</td>\n",
       "      <td>NaN</td>\n",
       "      <td>NaN</td>\n",
       "      <td>NaN</td>\n",
       "      <td>NaN</td>\n",
       "      <td>NaN</td>\n",
       "      <td>NaN</td>\n",
       "      <td>NaN</td>\n",
       "      <td>NaN</td>\n",
       "      <td>NaN</td>\n",
       "      <td>NaN</td>\n",
       "      <td>NaN</td>\n",
       "      <td>NaN</td>\n",
       "      <td>NaN</td>\n",
       "      <td>NaN</td>\n",
       "      <td>NaN</td>\n",
       "      <td>NaN</td>\n",
       "      <td>left_only</td>\n",
       "    </tr>\n",
       "  </tbody>\n",
       "</table>\n",
       "</div>"
      ],
      "text/plain": [
       "            name_key_x                   name  age_x gender_x                   race_x image_url_x        date             address_x      city_x state  zipcode    county_x                   full_address  latitude  longitude                       agency_x force_level weapon_x aggressive_movement fleeing_x description_temp url_temp                  description_x dispositions intented_force                  document_link mental_illness weapon_category dispositions_cat name_key_y  age_y gender_y race_y image_url_y address_y city_y  zip county_y agency_y agency_id death_cause description_y disposition disposition_cat charges link mental_symptoms armed weapon_y threat fleeing_y body_cam  WaPo_id off_duty geography  mpv_id  fatal_encounters_id encounter_type encounter_reason officer_names officers_race off_past_shootings service_call     _merge\n",
       "0         marka.horton         Mark A. Horton   21.0     Male   African-American/Black         NaN  2000-01-01       Davison Freeway     Detroit    MI  48203.0       Wayne  Davison Freeway Detroit MI...   42.4045   -83.0923                            NaN     Vehicle      NaN                 NaN       NaN              NaN      NaN  Two Detroit men killed whe...   Unreported        Pursuit  https://drive.google.com/f...             No             NaN       unreported        NaN    NaN      NaN    NaN         NaN       NaN    NaN  NaN      NaN      NaN       NaN         NaN           NaN         NaN             NaN     NaN  NaN             NaN   NaN      NaN    NaN       NaN      NaN      NaN      NaN       NaN     NaN                  NaN            NaN              NaN           NaN           NaN                NaN          NaN  left_only\n",
       "1  phillipa.blurbridge  Phillip A. Blurbridge   19.0     Male   African-American/Black         NaN  2000-01-01       Davison Freeway     Detroit    MI  48203.0       Wayne  Davison Freeway Detroit MI...   42.4045   -83.0923                            NaN     Vehicle      NaN                 NaN       NaN              NaN      NaN  Two Detroit men killed whe...   Unreported        Pursuit  https://drive.google.com/f...             No             NaN       unreported        NaN    NaN      NaN    NaN         NaN       NaN    NaN  NaN      NaN      NaN       NaN         NaN           NaN         NaN             NaN     NaN  NaN             NaN   NaN      NaN    NaN       NaN      NaN      NaN      NaN       NaN     NaN                  NaN            NaN              NaN           NaN           NaN                NaN          NaN  left_only\n",
       "2        samuelh.knapp        Samuel H. Knapp   17.0     Male  European-American/White         NaN  2000-01-01    27898-27804 US-101     Willits    CA  95490.0   Mendocino  27898-27804 US-101 Willits...   39.4709  -123.3618  Mendocino County Sheriff's...     Vehicle      NaN                 NaN       NaN              NaN      NaN  Samuel Knapp was allegedly...   Unreported        Pursuit  https://drive.google.com/f...             No             NaN       unreported        NaN    NaN      NaN    NaN         NaN       NaN    NaN  NaN      NaN      NaN       NaN         NaN           NaN         NaN             NaN     NaN  NaN             NaN   NaN      NaN    NaN       NaN      NaN      NaN      NaN       NaN     NaN                  NaN            NaN              NaN           NaN           NaN                NaN          NaN  left_only\n",
       "3            markortiz             Mark Ortiz   23.0     Male          Hispanic/Latino         NaN  2000-01-01       600 W Cherry Ln    Carlsbad    NM  88220.0        Eddy  600 W Cherry Ln Carlsbad N...   32.4501  -104.2376   Eddy County Sheriff's Office     Vehicle      NaN                 NaN       NaN              NaN      NaN  A motorcycle was allegedly...   Unreported        Pursuit  https://drive.google.com/f...             No             NaN       unreported        NaN    NaN      NaN    NaN         NaN       NaN    NaN  NaN      NaN      NaN       NaN         NaN           NaN         NaN             NaN     NaN  NaN             NaN   NaN      NaN    NaN       NaN      NaN      NaN      NaN       NaN     NaN                  NaN            NaN              NaN           NaN           NaN                NaN          NaN  left_only\n",
       "4  latanyajanellemccoy  LaTanya Janelle McCoy   24.0   Female   African-American/Black         NaN  2000-01-02  5700 block Mack Road  Sacramento    CA  95823.0  Sacramento  5700 block Mack Road Sacra...   38.4739  -121.4338   Sacramento Police Department     Vehicle      NaN                 NaN       NaN              NaN      NaN  LaTanya Janelle McCoy's ca...      Unknown        Pursuit  http://www.recordnet.com/a...             No             NaN          unknown        NaN    NaN      NaN    NaN         NaN       NaN    NaN  NaN      NaN      NaN       NaN         NaN           NaN         NaN             NaN     NaN  NaN             NaN   NaN      NaN    NaN       NaN      NaN      NaN      NaN       NaN     NaN                  NaN            NaN              NaN           NaN           NaN                NaN          NaN  left_only"
      ]
     },
     "execution_count": 12,
     "metadata": {},
     "output_type": "execute_result"
    }
   ],
   "source": [
    "merged.head()"
   ]
  },
  {
   "cell_type": "code",
   "execution_count": 13,
   "id": "4b8d7e55-eaf9-4f9b-914b-1bdb395dc7a2",
   "metadata": {},
   "outputs": [],
   "source": [
    "merged.drop_duplicates(inplace=True)"
   ]
  },
  {
   "cell_type": "code",
   "execution_count": 14,
   "id": "494372b6-48a6-44b8-b5c5-f400e4a9cc83",
   "metadata": {},
   "outputs": [
    {
     "data": {
      "text/plain": [
       "(32510, 64)"
      ]
     },
     "execution_count": 14,
     "metadata": {},
     "output_type": "execute_result"
    }
   ],
   "source": [
    "merged.shape"
   ]
  },
  {
   "cell_type": "markdown",
   "id": "4f534841-9745-4448-9a84-a3f7048056f7",
   "metadata": {},
   "source": [
    "merged"
   ]
  },
  {
   "cell_type": "code",
   "execution_count": 15,
   "id": "95458a66-f714-474c-893f-5d8a1a9105a0",
   "metadata": {},
   "outputs": [
    {
     "data": {
      "text/plain": [
       "True     7734\n",
       "False    1382\n",
       "Name: name, dtype: int64"
      ]
     },
     "execution_count": 15,
     "metadata": {},
     "output_type": "execute_result"
    }
   ],
   "source": [
    "# check whether name_key from df2 is in name_key of df1 \n",
    "df2.name.isin(df1.name).value_counts()"
   ]
  },
  {
   "cell_type": "code",
   "execution_count": 16,
   "id": "2ad84cf6-886f-4760-8ad8-eff6c795c345",
   "metadata": {},
   "outputs": [
    {
     "data": {
      "text/plain": [
       "(23387, 64)"
      ]
     },
     "execution_count": 16,
     "metadata": {},
     "output_type": "execute_result"
    }
   ],
   "source": [
    "merged.query('_merge == \"left_only\"').shape"
   ]
  },
  {
   "cell_type": "code",
   "execution_count": 17,
   "id": "51fa98dd-45cf-4803-ac65-779c5b4f3dd9",
   "metadata": {},
   "outputs": [
    {
     "data": {
      "text/plain": [
       "(1689, 64)"
      ]
     },
     "execution_count": 17,
     "metadata": {},
     "output_type": "execute_result"
    }
   ],
   "source": [
    "merged.query('_merge == \"right_only\"').shape"
   ]
  },
  {
   "cell_type": "code",
   "execution_count": 18,
   "id": "e68738f3-3e49-4615-8b55-67b9139795b2",
   "metadata": {},
   "outputs": [
    {
     "data": {
      "text/plain": [
       "(7434, 64)"
      ]
     },
     "execution_count": 18,
     "metadata": {},
     "output_type": "execute_result"
    }
   ],
   "source": [
    "merged.query('_merge == \"both\"').shape"
   ]
  },
  {
   "cell_type": "code",
   "execution_count": 19,
   "id": "92b87f58-fbb0-427a-82ae-9724710c6986",
   "metadata": {},
   "outputs": [
    {
     "data": {
      "text/plain": [
       "Name withheld by police    1350\n",
       "Michael Brown                 6\n",
       "John Doe 2                    5\n",
       "John Doe 1                    5\n",
       "Michael Johnson               5\n",
       "                           ... \n",
       "Jacob Paul Stolarz            1\n",
       "Samuel Marino                 1\n",
       "Miguel Molina                 1\n",
       "Alaysia Marks                 1\n",
       "Andrew Layton                 1\n",
       "Name: name, dtype: int64"
      ]
     },
     "execution_count": 19,
     "metadata": {},
     "output_type": "execute_result"
    }
   ],
   "source": [
    "vc = merged.name.value_counts()\n",
    "vc"
   ]
  },
  {
   "cell_type": "code",
   "execution_count": 20,
   "id": "21a7cd84-d401-4193-9912-bb35620cc7b4",
   "metadata": {},
   "outputs": [
    {
     "data": {
      "text/plain": [
       "448"
      ]
     },
     "execution_count": 20,
     "metadata": {},
     "output_type": "execute_result"
    }
   ],
   "source": [
    "vc[vc > 1].size"
   ]
  },
  {
   "cell_type": "code",
   "execution_count": 21,
   "id": "65b36e12-a61e-4471-a4f1-adc9c5ad3af4",
   "metadata": {},
   "outputs": [
    {
     "name": "stdout",
     "output_type": "stream",
     "text": [
      "<class 'pandas.core.frame.DataFrame'>\n",
      "Int64Index: 32510 entries, 0 to 32509\n",
      "Data columns (total 64 columns):\n",
      " #   Column               Non-Null Count  Dtype   \n",
      "---  ------               --------------  -----   \n",
      " 0   name_key_x           30821 non-null  object  \n",
      " 1   name                 32510 non-null  object  \n",
      " 2   age_x                29687 non-null  float64 \n",
      " 3   gender_x             30701 non-null  object  \n",
      " 4   race_x               30821 non-null  object  \n",
      " 5   image_url_x          14355 non-null  object  \n",
      " 6   date                 32510 non-null  object  \n",
      " 7   address_x            30269 non-null  object  \n",
      " 8   city_x               30783 non-null  object  \n",
      " 9   state                32510 non-null  object  \n",
      " 10  zipcode              30821 non-null  float64 \n",
      " 11  county_x             30806 non-null  object  \n",
      " 12  full_address         30821 non-null  object  \n",
      " 13  latitude             30820 non-null  float64 \n",
      " 14  longitude            30821 non-null  float64 \n",
      " 15  agency_x             30744 non-null  object  \n",
      " 16  force_level          30818 non-null  object  \n",
      " 17  weapon_x             13844 non-null  object  \n",
      " 18  aggressive_movement  13847 non-null  object  \n",
      " 19  fleeing_x            13847 non-null  object  \n",
      " 20  description_temp     842 non-null    object  \n",
      " 21  url_temp             3 non-null      object  \n",
      " 22  description_x        30820 non-null  object  \n",
      " 23  dispositions         30820 non-null  object  \n",
      " 24  intented_force       30819 non-null  object  \n",
      " 25  document_link        30820 non-null  object  \n",
      " 26  mental_illness       30760 non-null  object  \n",
      " 27  weapon_category      13844 non-null  object  \n",
      " 28  dispositions_cat     30820 non-null  object  \n",
      " 29  name_key_y           9123 non-null   object  \n",
      " 30  age_y                8778 non-null   float64 \n",
      " 31  gender_y             9107 non-null   object  \n",
      " 32  race_y               8190 non-null   object  \n",
      " 33  image_url_y          4861 non-null   object  \n",
      " 34  address_y            9010 non-null   object  \n",
      " 35  city_y               9114 non-null   object  \n",
      " 36  zip                  9123 non-null   float64 \n",
      " 37  county_y             9098 non-null   object  \n",
      " 38  agency_y             9117 non-null   object  \n",
      " 39  agency_id            9119 non-null   object  \n",
      " 40  death_cause          9123 non-null   object  \n",
      " 41  description_y        9108 non-null   object  \n",
      " 42  disposition          9112 non-null   object  \n",
      " 43  disposition_cat      9123 non-null   object  \n",
      " 44  charges              9123 non-null   object  \n",
      " 45  link                 9123 non-null   object  \n",
      " 46  mental_symptoms      9062 non-null   object  \n",
      " 47  armed                9123 non-null   object  \n",
      " 48  weapon_y             9123 non-null   object  \n",
      " 49  threat               6731 non-null   object  \n",
      " 50  fleeing_y            6038 non-null   object  \n",
      " 51  body_cam             5963 non-null   object  \n",
      " 52  WaPo_id              6029 non-null   float64 \n",
      " 53  off_duty             248 non-null    object  \n",
      " 54  geography            9092 non-null   object  \n",
      " 55  mpv_id               9075 non-null   float64 \n",
      " 56  fatal_encounters_id  8986 non-null   float64 \n",
      " 57  encounter_type       3484 non-null   object  \n",
      " 58  encounter_reason     4814 non-null   object  \n",
      " 59  officer_names        1389 non-null   object  \n",
      " 60  officers_race        340 non-null    object  \n",
      " 61  off_past_shootings   74 non-null     object  \n",
      " 62  service_call         3590 non-null   object  \n",
      " 63  _merge               32510 non-null  category\n",
      "dtypes: category(1), float64(9), object(54)\n",
      "memory usage: 15.9+ MB\n"
     ]
    }
   ],
   "source": [
    "# choose which columns to keep\n",
    "merged.info()"
   ]
  },
  {
   "cell_type": "code",
   "execution_count": 22,
   "id": "0924f5a8-4672-44d7-8f83-5dddf8a19a89",
   "metadata": {},
   "outputs": [],
   "source": [
    "dm = merged[['name', 'date',\n",
    "            'age_x', 'age_y',\n",
    "            'gender_x', 'gender_y',\n",
    "            'race_x', 'race_y',\n",
    "            'address_x', 'address_y',\n",
    "            'city_x', 'city_y',\n",
    "             'latitude', 'longitude',\n",
    "             'state',\n",
    "            'zipcode', 'zip',\n",
    "            'county_x', 'county_y',\n",
    "            'agency_x', 'agency_y',\n",
    "            'force_level', 'death_cause',\n",
    "            'weapon_category', 'weapon_y',\n",
    "            'aggressive_movement', 'threat',\n",
    "            'fleeing_x', 'fleeing_y',\n",
    "            'intented_force', \n",
    "             'encounter_type',\n",
    "            'dispositions_cat', 'disposition_cat',\n",
    "            'mental_illness', 'mental_symptoms',\n",
    "            'description_x', 'description_y',\n",
    "            '_merge']]"
   ]
  },
  {
   "cell_type": "markdown",
   "id": "bad7e5eb-8c82-4aeb-afc6-f8e9386f92ed",
   "metadata": {},
   "source": [
    "Now we can clean the merged dataset, make sure that the columns from x and y have the same categorical values (if possible)"
   ]
  },
  {
   "cell_type": "code",
   "execution_count": 23,
   "id": "b55fc894-beb6-408b-a581-57457e7e32f1",
   "metadata": {},
   "outputs": [],
   "source": [
    "# gender columns\n",
    "dm.gender_x = dm.gender_x.str.lower()"
   ]
  },
  {
   "cell_type": "code",
   "execution_count": 24,
   "id": "a1f6aaa8-998e-45e6-80aa-8c4335f90e91",
   "metadata": {},
   "outputs": [],
   "source": [
    "dm.gender_y = dm.gender_y.str.replace('trans', 'transgender')"
   ]
  },
  {
   "cell_type": "code",
   "execution_count": 25,
   "id": "f4ec8dc1-ab37-4647-815c-1cc768a1aa33",
   "metadata": {},
   "outputs": [
    {
     "data": {
      "text/plain": [
       "male           27723\n",
       "female          2956\n",
       "transgender       22\n",
       "Name: gender_x, dtype: int64"
      ]
     },
     "execution_count": 25,
     "metadata": {},
     "output_type": "execute_result"
    }
   ],
   "source": [
    "dm.gender_x.value_counts()"
   ]
  },
  {
   "cell_type": "code",
   "execution_count": 26,
   "id": "20f32533-375c-468f-986d-b3df7120d432",
   "metadata": {},
   "outputs": [
    {
     "data": {
      "text/plain": [
       "male           8646\n",
       "female          452\n",
       "transgender       9\n",
       "Name: gender_y, dtype: int64"
      ]
     },
     "execution_count": 26,
     "metadata": {},
     "output_type": "execute_result"
    }
   ],
   "source": [
    "dm.gender_y.value_counts()"
   ]
  },
  {
   "cell_type": "code",
   "execution_count": 27,
   "id": "6c88164e-c7f4-4c71-86c7-c2766198a4c4",
   "metadata": {},
   "outputs": [],
   "source": [
    "# race columns\n",
    "dm.race_x = dm.race_x.str.strip().str.lower()"
   ]
  },
  {
   "cell_type": "code",
   "execution_count": 28,
   "id": "4ac851cc-b8c8-4f77-894c-4e96883d5713",
   "metadata": {},
   "outputs": [],
   "source": [
    "dm.race_x = dm.race_x.str.replace('.*white.*', 'white', regex=True)"
   ]
  },
  {
   "cell_type": "code",
   "execution_count": 29,
   "id": "ea0cf9aa-a0ff-4ebe-bd81-e6735230d882",
   "metadata": {},
   "outputs": [],
   "source": [
    "dm.race_x = dm.race_x.str.replace('.*black.*', 'black', regex=True)"
   ]
  },
  {
   "cell_type": "code",
   "execution_count": 30,
   "id": "3d4b2007-6616-4348-9250-5bfdfa58b589",
   "metadata": {},
   "outputs": [],
   "source": [
    "dm.race_x = dm.race_x.str.replace('.*hispanic.*', 'hispanic', regex=True)"
   ]
  },
  {
   "cell_type": "code",
   "execution_count": 31,
   "id": "1cf649ea-db44-451a-b2c5-3ba899033dd3",
   "metadata": {},
   "outputs": [],
   "source": [
    "dm.race_x = dm.race_x.str.replace('.*native american.*', 'native american', regex=True)"
   ]
  },
  {
   "cell_type": "code",
   "execution_count": 32,
   "id": "7ad00916-1e19-4dfc-bfee-841f6b793371",
   "metadata": {},
   "outputs": [],
   "source": [
    "dm.race_x = dm.race_x.str.replace('.*unspecified.*', 'unspecified', regex=True)"
   ]
  },
  {
   "cell_type": "code",
   "execution_count": 33,
   "id": "ee547a6d-7139-429f-9e04-6c7e678fbdc5",
   "metadata": {},
   "outputs": [],
   "source": [
    "dm.race_x.replace('unspecified', np.nan, inplace=True) # consider info missing"
   ]
  },
  {
   "cell_type": "code",
   "execution_count": 34,
   "id": "666a2ff9-1ed1-43a9-8173-e7a57a1edeae",
   "metadata": {},
   "outputs": [],
   "source": [
    "dm.race_y = dm.race_y.str.replace('.*pacific.*|.*asian.*', 'asian/pacific islander', regex=True)"
   ]
  },
  {
   "cell_type": "code",
   "execution_count": 35,
   "id": "a0717238-3c29-490e-af29-3742d05cdbe6",
   "metadata": {},
   "outputs": [
    {
     "data": {
      "text/plain": [
       "white                     10386\n",
       "black                      6850\n",
       "hispanic                   4080\n",
       "asian/pacific islander      480\n",
       "native american             318\n",
       "middle eastern               51\n",
       "Name: race_x, dtype: int64"
      ]
     },
     "execution_count": 35,
     "metadata": {},
     "output_type": "execute_result"
    }
   ],
   "source": [
    "dm.race_x.value_counts()"
   ]
  },
  {
   "cell_type": "code",
   "execution_count": 36,
   "id": "c049c92b-8514-460b-a8a6-174ad667c603",
   "metadata": {},
   "outputs": [
    {
     "data": {
      "text/plain": [
       "white                     3980\n",
       "black                     2293\n",
       "hispanic                  1599\n",
       "asian/pacific islander     188\n",
       "native american            130\n",
       "Name: race_y, dtype: int64"
      ]
     },
     "execution_count": 36,
     "metadata": {},
     "output_type": "execute_result"
    }
   ],
   "source": [
    "dm.race_y.value_counts()"
   ]
  },
  {
   "cell_type": "code",
   "execution_count": 37,
   "id": "d4c768bb-155f-4c09-b8c0-429ef627f9b3",
   "metadata": {},
   "outputs": [],
   "source": [
    "dm.rename({'zipcode': 'zipcode_x', 'zip': 'zipcode_y'}, axis=1, inplace=True)"
   ]
  },
  {
   "cell_type": "code",
   "execution_count": 38,
   "id": "331b09d0-255e-4c79-9353-f102c1896750",
   "metadata": {},
   "outputs": [],
   "source": [
    "dm.force_level = dm.force_level.str.strip().str.lower()"
   ]
  },
  {
   "cell_type": "code",
   "execution_count": 39,
   "id": "241f0589-7580-48c1-9264-90408b39061c",
   "metadata": {},
   "outputs": [],
   "source": [
    "dm.force_level.replace('tasered', 'taser', inplace=True, regex=True)"
   ]
  },
  {
   "cell_type": "code",
   "execution_count": 40,
   "id": "119c5a25-7a1e-42c4-90f9-64a8fcc0812b",
   "metadata": {},
   "outputs": [],
   "source": [
    "dm.force_level.replace('.*asphyxiated.*', 'asphyxia', inplace=True, regex=True)"
   ]
  },
  {
   "cell_type": "code",
   "execution_count": 41,
   "id": "dc33d47c-7c08-400e-a673-79c470d056d9",
   "metadata": {},
   "outputs": [],
   "source": [
    "dm.force_level.replace('.*beaten.*', 'beaten', inplace=True, regex=True)"
   ]
  },
  {
   "cell_type": "code",
   "execution_count": 42,
   "id": "b4dfe509-915a-46be-bb56-0d71da6b1bf2",
   "metadata": {},
   "outputs": [],
   "source": [
    "dm.force_level.replace('.*undetermined.*|.*other.*', np.nan, inplace=True, regex=True)"
   ]
  },
  {
   "cell_type": "code",
   "execution_count": null,
   "id": "619dac18-37b5-4c0b-b13d-e3d13e60f90a",
   "metadata": {},
   "outputs": [],
   "source": []
  },
  {
   "cell_type": "code",
   "execution_count": 43,
   "id": "95c5b654-75a6-4c35-9933-b6601d2a9265",
   "metadata": {},
   "outputs": [],
   "source": [
    "dm.force_level.replace('.*chemical.*', 'chemical', inplace=True, regex=True)"
   ]
  },
  {
   "cell_type": "code",
   "execution_count": 44,
   "id": "d76e41cd-cf3f-4fd2-8b5d-76df927dd216",
   "metadata": {},
   "outputs": [],
   "source": [
    "dm.rename({'force_level': 'death_cause_x', 'death_cause': 'death_cause_y'}, inplace=True, axis=1)"
   ]
  },
  {
   "cell_type": "code",
   "execution_count": 45,
   "id": "195ba8ee-f4a6-4354-875f-23b3e3a0b070",
   "metadata": {},
   "outputs": [
    {
     "data": {
      "text/plain": [
       "gunshot                    21779\n",
       "vehicle                     6453\n",
       "taser                        923\n",
       "medical emergency            389\n",
       "asphyxia                     337\n",
       "drowned                      201\n",
       "drug overdose                183\n",
       "beaten                       178\n",
       "fell from a height            80\n",
       "stabbed                       52\n",
       "burned/smoke inhalation       43\n",
       "chemical                      35\n",
       "Name: death_cause_x, dtype: int64"
      ]
     },
     "execution_count": 45,
     "metadata": {},
     "output_type": "execute_result"
    }
   ],
   "source": [
    "dm.death_cause_x.value_counts()"
   ]
  },
  {
   "cell_type": "code",
   "execution_count": 46,
   "id": "598c32d2-f582-4048-b8ce-fb1e3619004d",
   "metadata": {},
   "outputs": [
    {
     "data": {
      "text/plain": [
       "gunshot        8700\n",
       "taser           277\n",
       "vehicle          48\n",
       "restraint        42\n",
       "beaten           32\n",
       "asphyxia          9\n",
       "unspecified       6\n",
       "chemical          5\n",
       "beanbag           2\n",
       "baton             1\n",
       "bomb              1\n",
       "Name: death_cause_y, dtype: int64"
      ]
     },
     "execution_count": 46,
     "metadata": {},
     "output_type": "execute_result"
    }
   ],
   "source": [
    "dm.death_cause_y.value_counts()"
   ]
  },
  {
   "cell_type": "code",
   "execution_count": 47,
   "id": "64172a10-5e30-40de-83b9-f1563649273e",
   "metadata": {},
   "outputs": [],
   "source": [
    "dm.death_cause_y.replace('.*unspecified.*|.*other.*', np.nan, inplace=True, regex=True)"
   ]
  },
  {
   "cell_type": "code",
   "execution_count": null,
   "id": "f9bf6abf-b13f-49d0-b333-932f7d39e82a",
   "metadata": {},
   "outputs": [],
   "source": []
  },
  {
   "cell_type": "code",
   "execution_count": null,
   "id": "bf8935c1-8777-4f14-9ade-00c5e2d9b052",
   "metadata": {},
   "outputs": [],
   "source": []
  },
  {
   "cell_type": "code",
   "execution_count": 48,
   "id": "34fa688c-56ba-4c49-958c-d6cb691e4e85",
   "metadata": {},
   "outputs": [],
   "source": [
    "dm.rename({'weapon_category': 'weapon_x'}, inplace=True, axis=1)"
   ]
  },
  {
   "cell_type": "code",
   "execution_count": 49,
   "id": "758a12c7-777b-4482-a2fd-597a04a170cc",
   "metadata": {},
   "outputs": [],
   "source": [
    "dm.weapon_x = dm.weapon_x.str.strip().str.lower()"
   ]
  },
  {
   "cell_type": "code",
   "execution_count": 50,
   "id": "3e38a111-2e3f-4869-ad76-ed35ae4743fb",
   "metadata": {},
   "outputs": [],
   "source": [
    "dm.weapon_x.replace('.*none.*|.*uncertain.*', 'no object', inplace=True, regex=True)"
   ]
  },
  {
   "cell_type": "code",
   "execution_count": 51,
   "id": "7c378781-b35d-4e51-821f-37cfa6cea90b",
   "metadata": {},
   "outputs": [],
   "source": [
    "dm.weapon_x.replace('.*stun.*', 'taser', inplace=True, regex=True)"
   ]
  },
  {
   "cell_type": "code",
   "execution_count": 52,
   "id": "9e06819d-8ebe-48d5-b667-78c9af5b93e9",
   "metadata": {},
   "outputs": [],
   "source": [
    "dm.weapon_y.replace('.*gun.*', 'firearm', inplace=True, regex=True)"
   ]
  },
  {
   "cell_type": "code",
   "execution_count": 53,
   "id": "1146d300-bbd3-4e8b-bcd8-38295edd1ffe",
   "metadata": {},
   "outputs": [],
   "source": [
    "dm.weapon_y.replace('.*knife.*|.*ax.*|.*crossbow.*|.*scissors.*|.*razor.*|.*shard.*|.*screwdriver.*|.*cutter.*|\\\n",
    "                    |.*sharp.*|.*blade.*|.*sword.*|.*machete.*|.*knive.*|.*hatchet.*|.*cleaver.*|\\\n",
    "                    |.*pitchfork.*', 'edged weapon', inplace=True, regex=True)"
   ]
  },
  {
   "cell_type": "code",
   "execution_count": 54,
   "id": "287878ac-520a-4055-a2f3-f3ea54b16959",
   "metadata": {},
   "outputs": [],
   "source": [
    "dm.weapon_y.replace('.*undetermined.*', 'no object', inplace=True, regex=True)"
   ]
  },
  {
   "cell_type": "code",
   "execution_count": 55,
   "id": "88e4705e-2c20-4f67-83ee-cbd4d30bdfc0",
   "metadata": {},
   "outputs": [],
   "source": [
    "dm.weapon_y.replace('.*bat.*|.*hammer.*|.*pipe.*|.*crowbar.*|.*shovel.*|\\\n",
    "                    .*baton.*|.*metal.*|.*wood.*|.*rock.*', 'blunt object', inplace=True, regex=True)"
   ]
  },
  {
   "cell_type": "code",
   "execution_count": 56,
   "id": "b7468ded-e3bc-4868-8d87-7c4fd13e9dce",
   "metadata": {},
   "outputs": [],
   "source": [
    "ma = dm.weapon_y.isin(['firearm', 'no object', 'edged weapon', 'blunt object', 'vehicle', 'taser', 'toy weapon'])"
   ]
  },
  {
   "cell_type": "code",
   "execution_count": 57,
   "id": "5b13d896-8bb3-412d-89de-c1e8ea4aad0e",
   "metadata": {},
   "outputs": [],
   "source": [
    "toreplace = dm.weapon_y.mask(ma).dropna()\n",
    "dm.weapon_y.replace(toreplace.values, 'other', inplace=True)"
   ]
  },
  {
   "cell_type": "code",
   "execution_count": 58,
   "id": "549d9c86-fee9-4090-a866-ac8b0556c36e",
   "metadata": {},
   "outputs": [
    {
     "data": {
      "text/plain": [
       "firearm         6633\n",
       "no object       5301\n",
       "edged weapon    1501\n",
       "blunt object     196\n",
       "other            113\n",
       "vehicle           58\n",
       "taser             42\n",
       "Name: weapon_x, dtype: int64"
      ]
     },
     "execution_count": 58,
     "metadata": {},
     "output_type": "execute_result"
    }
   ],
   "source": [
    "dm.weapon_x.value_counts()"
   ]
  },
  {
   "cell_type": "code",
   "execution_count": 59,
   "id": "3294bc88-d57d-4cd5-81da-afe9dbab5c4f",
   "metadata": {},
   "outputs": [
    {
     "data": {
      "text/plain": [
       "firearm         4871\n",
       "no object       1635\n",
       "edged weapon    1480\n",
       "vehicle          600\n",
       "toy weapon       266\n",
       "blunt object     143\n",
       "other             92\n",
       "taser             36\n",
       "Name: weapon_y, dtype: int64"
      ]
     },
     "execution_count": 59,
     "metadata": {},
     "output_type": "execute_result"
    }
   ],
   "source": [
    "dm.weapon_y.value_counts()"
   ]
  },
  {
   "cell_type": "code",
   "execution_count": 60,
   "id": "83f15306-c099-4ffd-98c6-0c607fe25ff5",
   "metadata": {},
   "outputs": [],
   "source": [
    "# aggresive movement - threat columns"
   ]
  },
  {
   "cell_type": "code",
   "execution_count": 61,
   "id": "87211bc9-8fac-417e-b6b2-a595935e162d",
   "metadata": {},
   "outputs": [],
   "source": [
    "dm.aggressive_movement = dm.aggressive_movement.str.strip().str.lower()\n",
    "dm.aggressive_movement.replace('uncertain|none', 'no', inplace=True, regex=True)"
   ]
  },
  {
   "cell_type": "code",
   "execution_count": 62,
   "id": "e109859f-6724-4411-a62c-4689a7a9bfa8",
   "metadata": {},
   "outputs": [],
   "source": [
    "dm.aggressive_movement.replace('used weapon|.*assault.*', 'attack', inplace=True, regex=True)"
   ]
  },
  {
   "cell_type": "code",
   "execution_count": 63,
   "id": "cb84e4ea-b4cd-4969-ac1f-5e7c0be7f643",
   "metadata": {},
   "outputs": [],
   "source": [
    "dm.aggressive_movement.replace('.*brandished.*|.*advanced.*|.*sudden.*', 'threatening movement', inplace=True, regex=True)"
   ]
  },
  {
   "cell_type": "code",
   "execution_count": 64,
   "id": "cbb60015-1bdc-42af-b0d0-e1a988bfb72b",
   "metadata": {},
   "outputs": [],
   "source": [
    "dm.threat.replace('undetermined', np.nan, inplace=True, regex=True)"
   ]
  },
  {
   "cell_type": "code",
   "execution_count": 65,
   "id": "f8b71177-2229-4b19-af1d-11aeec1026c8",
   "metadata": {},
   "outputs": [
    {
     "data": {
      "text/plain": [
       "attack    4318\n",
       "no        2048\n",
       "Name: threat, dtype: int64"
      ]
     },
     "execution_count": 65,
     "metadata": {},
     "output_type": "execute_result"
    }
   ],
   "source": [
    "dm.threat.value_counts()"
   ]
  },
  {
   "cell_type": "code",
   "execution_count": 66,
   "id": "090093bc-4398-40c1-a8c3-d3813b897579",
   "metadata": {},
   "outputs": [],
   "source": [
    "dm.rename({'aggressive_movement': 'threat_x', 'threat': 'threat_y'}, inplace=True, axis=1)"
   ]
  },
  {
   "cell_type": "code",
   "execution_count": 67,
   "id": "8b4d997e-ae25-4762-a75f-f4f1b86a7e03",
   "metadata": {},
   "outputs": [],
   "source": [
    "df = dm.copy()"
   ]
  },
  {
   "cell_type": "code",
   "execution_count": 68,
   "id": "51ff69d3-524d-4078-868d-80324f20ec12",
   "metadata": {},
   "outputs": [],
   "source": [
    "df.rename({'intented_force': 'intended_force'}, axis=1, inplace=True)"
   ]
  },
  {
   "cell_type": "code",
   "execution_count": 69,
   "id": "a50b90d2-e7f0-4bc7-81c0-6028bf2647c9",
   "metadata": {},
   "outputs": [],
   "source": [
    "df.intended_force = df.intended_force.str.strip().str.lower()"
   ]
  },
  {
   "cell_type": "code",
   "execution_count": 70,
   "id": "eeee0d23-68b7-4843-8c9b-ea8e7d6a541f",
   "metadata": {},
   "outputs": [],
   "source": [
    "df.intended_force.replace('.*vehic.*', 'pursuit', regex=True, inplace=True)"
   ]
  },
  {
   "cell_type": "code",
   "execution_count": 71,
   "id": "5cdac7ef-32ef-4d7e-b102-678f4e3fccdd",
   "metadata": {},
   "outputs": [],
   "source": [
    "df.intended_force.replace('.*no.*', 'undetermined', regex=True, inplace=True)"
   ]
  },
  {
   "cell_type": "code",
   "execution_count": 72,
   "id": "d7593754-47fe-48b3-88ed-f6cda98b08ef",
   "metadata": {},
   "outputs": [],
   "source": [
    "df.intended_force.replace('.*less-than.*', 'non-lethal force', regex=True, inplace=True)\n",
    "df.intended_force.replace('.*undetermined.*', np.nan, regex=True, inplace=True)"
   ]
  },
  {
   "cell_type": "code",
   "execution_count": 73,
   "id": "2c2b4e51-cda9-4001-b23c-1f0d7009b58d",
   "metadata": {},
   "outputs": [
    {
     "data": {
      "text/plain": [
       "deadly force        18522\n",
       "pursuit              6391\n",
       "suicide              3266\n",
       "non-lethal force     1731\n",
       "Name: intended_force, dtype: int64"
      ]
     },
     "execution_count": 73,
     "metadata": {},
     "output_type": "execute_result"
    }
   ],
   "source": [
    "df.intended_force.value_counts()"
   ]
  },
  {
   "cell_type": "code",
   "execution_count": 74,
   "id": "375ae2e7-7ee5-46d6-8555-4a32e9ed1615",
   "metadata": {},
   "outputs": [],
   "source": [
    "df.dispositions_cat.replace('.*unknown.*', np.nan, regex=True, inplace=True)"
   ]
  },
  {
   "cell_type": "code",
   "execution_count": 75,
   "id": "bde0eb61-4506-4c4b-8b3b-cd86d3d0b191",
   "metadata": {},
   "outputs": [],
   "source": [
    "df.dispositions_cat.replace('.*unreported.*', np.nan, regex=True, inplace=True)"
   ]
  },
  {
   "cell_type": "code",
   "execution_count": 76,
   "id": "0b39ec34-008f-4006-a708-722b34b896c6",
   "metadata": {},
   "outputs": [],
   "source": [
    "df.dispositions_cat.replace('.*criminal.*|.*indicted.*', 'criminal charges', regex=True, inplace=True)"
   ]
  },
  {
   "cell_type": "code",
   "execution_count": 77,
   "id": "4ca539a2-3f35-4336-933d-1dec75044e60",
   "metadata": {},
   "outputs": [],
   "source": [
    "df.disposition_cat.replace('.*unknown.*', np.nan, regex=True, inplace=True)\n",
    "df.disposition_cat.replace('.*unreported.*', np.nan, regex=True, inplace=True)"
   ]
  },
  {
   "cell_type": "code",
   "execution_count": 78,
   "id": "fba47f94-490f-43f1-ad98-832ecc5135ba",
   "metadata": {},
   "outputs": [],
   "source": [
    "df.disposition_cat.replace('.*charged.*', 'criminal charges', regex=True, inplace=True)"
   ]
  },
  {
   "cell_type": "code",
   "execution_count": 79,
   "id": "6017459f-db93-47af-9385-bf2edab0fbd3",
   "metadata": {},
   "outputs": [],
   "source": [
    "df.disposition_cat.replace('.*suicide.*', 'suicide', regex=True, inplace=True)"
   ]
  },
  {
   "cell_type": "code",
   "execution_count": 80,
   "id": "c5c1d153-42bd-460d-ada8-aba11aa46c10",
   "metadata": {},
   "outputs": [],
   "source": [
    "df.rename({'dispositions_cat': 'disposition_x', 'disposition_cat': 'disposition_y'}, axis=1, inplace=True)"
   ]
  },
  {
   "cell_type": "code",
   "execution_count": 81,
   "id": "f6515731-c30a-4640-8b41-1f3f01304fc2",
   "metadata": {},
   "outputs": [
    {
     "data": {
      "text/plain": [
       "pending investigation        7464\n",
       "justified                    6699\n",
       "suicide                      3483\n",
       "criminal charges             1525\n",
       "accidental                    256\n",
       "civil suit                    172\n",
       "convicted                      90\n",
       "administrative discipline      51\n",
       "medical emergency              13\n",
       "Name: disposition_x, dtype: int64"
      ]
     },
     "execution_count": 81,
     "metadata": {},
     "output_type": "execute_result"
    }
   ],
   "source": [
    "df.disposition_x.value_counts()"
   ]
  },
  {
   "cell_type": "code",
   "execution_count": 82,
   "id": "201970fd-272c-41ee-9937-26b8a77b2d2b",
   "metadata": {},
   "outputs": [
    {
     "data": {
      "text/plain": [
       "pending investigation        5947\n",
       "justified                    1306\n",
       "criminal charges              241\n",
       "suicide                        97\n",
       "convicted                      23\n",
       "civil suit                     17\n",
       "administrative discipline       4\n",
       "Name: disposition_y, dtype: int64"
      ]
     },
     "execution_count": 82,
     "metadata": {},
     "output_type": "execute_result"
    }
   ],
   "source": [
    "df.disposition_y.value_counts()"
   ]
  },
  {
   "cell_type": "code",
   "execution_count": 83,
   "id": "a638b3b0-3dd1-41df-86b6-1dfeb504d5c8",
   "metadata": {},
   "outputs": [],
   "source": [
    "df.mental_illness = df.mental_illness.str.strip().str.lower()\n",
    "df.mental_illness.replace('.*unknown.*', np.nan, regex=True, inplace=True)"
   ]
  },
  {
   "cell_type": "code",
   "execution_count": 84,
   "id": "1dc06e4e-7966-45c3-a1b2-e3b01a2dcd2e",
   "metadata": {},
   "outputs": [
    {
     "data": {
      "text/plain": [
       "no                     20982\n",
       "yes                     3376\n",
       "drug or alcohol use     1547\n",
       "Name: mental_illness, dtype: int64"
      ]
     },
     "execution_count": 84,
     "metadata": {},
     "output_type": "execute_result"
    }
   ],
   "source": [
    "df.mental_illness.value_counts()"
   ]
  },
  {
   "cell_type": "code",
   "execution_count": 85,
   "id": "17083676-f9f2-4b00-9023-4598b8cfa12f",
   "metadata": {},
   "outputs": [],
   "source": [
    "df.mental_symptoms.value_counts()\n",
    "df.mental_symptoms.replace('.*unknown.*', np.nan, regex=True, inplace=True)"
   ]
  },
  {
   "cell_type": "code",
   "execution_count": 86,
   "id": "4343ed67-5a97-48fd-8005-c7a6d793c662",
   "metadata": {},
   "outputs": [],
   "source": [
    "df.rename({'mental_illness': 'mental_symptoms_x', 'mental_symptoms': 'mental_symptoms_y'}, axis=1, inplace=True)"
   ]
  },
  {
   "cell_type": "code",
   "execution_count": null,
   "id": "ca43c876-eff5-4a9b-a935-5da1aced3d03",
   "metadata": {},
   "outputs": [],
   "source": []
  },
  {
   "cell_type": "code",
   "execution_count": 87,
   "id": "4dec4a3f-1ed2-4949-b197-16aef7b2b145",
   "metadata": {},
   "outputs": [],
   "source": [
    "def combine_columns(row, columns: list, keep='left', record=None) -> pd.Series: \n",
    "    col = columns\n",
    "    \n",
    "#    check if nan exists in one of two\n",
    "    if not pd.isna(row[col[0]]) and not pd.isna(row[col[1]]):  # https://towardsdatascience.com/5-methods-to-check-for-nan-values-in-in-python-3f21ddd17eed\n",
    "        if record is not None:\n",
    "            record[f'keep_{keep}'] += 1\n",
    "        return row[col[0]] if keep == 'left' else row[col[1]]\n",
    "        \n",
    "    \n",
    "    elif not pd.isna(row[col[0]]) and pd.isna(row[col[1]]):\n",
    "        if record is not None:\n",
    "            record['only_left'] += 1\n",
    "        return row[col[0]]\n",
    "    \n",
    "    elif pd.isna(row[col[0]]) and not pd.isna(row[col[1]]):\n",
    "        if record is not None:\n",
    "            record['only_right'] += 1\n",
    "        return row[col[1]]\n",
    "    \n",
    "    else:\n",
    "        if record is not None:\n",
    "            record['both_nan'] += 1\n",
    "        return np.nan\n"
   ]
  },
  {
   "cell_type": "code",
   "execution_count": 88,
   "id": "478ce72e-68fc-46ad-a4d6-52c8d7e34205",
   "metadata": {},
   "outputs": [],
   "source": [
    "# a test dataframe\n",
    "d = pd.DataFrame({'a': [1, np.nan, np.nan], 'b': [2, 3, np.nan], 'c': [4, 5, np.nan]})"
   ]
  },
  {
   "cell_type": "code",
   "execution_count": 89,
   "id": "19d5d9eb-f5d3-44c8-a7a9-8aaf07d6fff9",
   "metadata": {},
   "outputs": [],
   "source": [
    "# keep = 'right'\n",
    "# record = {f'keep_{keep}': 0, 'only_left': 0, 'only_right': 0, 'both_nan': 0}\n",
    "# f = d.apply(combine_columns, args=(['a', 'b'], keep), axis=1, record=record)"
   ]
  },
  {
   "cell_type": "code",
   "execution_count": 90,
   "id": "b2d77835-ab7d-41e6-98f8-1b9fed20675a",
   "metadata": {},
   "outputs": [
    {
     "name": "stdout",
     "output_type": "stream",
     "text": [
      "<class 'pandas.core.frame.DataFrame'>\n",
      "Int64Index: 32510 entries, 0 to 32509\n",
      "Data columns (total 38 columns):\n",
      " #   Column             Non-Null Count  Dtype   \n",
      "---  ------             --------------  -----   \n",
      " 0   name               32510 non-null  object  \n",
      " 1   date               32510 non-null  object  \n",
      " 2   age_x              29687 non-null  float64 \n",
      " 3   age_y              8778 non-null   float64 \n",
      " 4   gender_x           30701 non-null  object  \n",
      " 5   gender_y           9107 non-null   object  \n",
      " 6   race_x             22165 non-null  object  \n",
      " 7   race_y             8190 non-null   object  \n",
      " 8   address_x          30269 non-null  object  \n",
      " 9   address_y          9010 non-null   object  \n",
      " 10  city_x             30783 non-null  object  \n",
      " 11  city_y             9114 non-null   object  \n",
      " 12  latitude           30820 non-null  float64 \n",
      " 13  longitude          30821 non-null  float64 \n",
      " 14  state              32510 non-null  object  \n",
      " 15  zipcode_x          30821 non-null  float64 \n",
      " 16  zipcode_y          9123 non-null   float64 \n",
      " 17  county_x           30806 non-null  object  \n",
      " 18  county_y           9098 non-null   object  \n",
      " 19  agency_x           30744 non-null  object  \n",
      " 20  agency_y           9117 non-null   object  \n",
      " 21  death_cause_x      30653 non-null  object  \n",
      " 22  death_cause_y      9117 non-null   object  \n",
      " 23  weapon_x           13844 non-null  object  \n",
      " 24  weapon_y           9123 non-null   object  \n",
      " 25  threat_x           13847 non-null  object  \n",
      " 26  threat_y           6366 non-null   object  \n",
      " 27  fleeing_x          13847 non-null  object  \n",
      " 28  fleeing_y          6038 non-null   object  \n",
      " 29  intended_force     29910 non-null  object  \n",
      " 30  encounter_type     3484 non-null   object  \n",
      " 31  disposition_x      19753 non-null  object  \n",
      " 32  disposition_y      7635 non-null   object  \n",
      " 33  mental_symptoms_x  25905 non-null  object  \n",
      " 34  mental_symptoms_y  7880 non-null   object  \n",
      " 35  description_x      30820 non-null  object  \n",
      " 36  description_y      9108 non-null   object  \n",
      " 37  _merge             32510 non-null  category\n",
      "dtypes: category(1), float64(6), object(31)\n",
      "memory usage: 9.5+ MB\n"
     ]
    }
   ],
   "source": [
    "df.info()"
   ]
  },
  {
   "cell_type": "code",
   "execution_count": 91,
   "id": "29220390-d5e8-4417-9fef-8a47d0859bd8",
   "metadata": {},
   "outputs": [],
   "source": [
    "keep = 'left' # in case of both columns filled\n",
    "record = {f'keep_{keep}': 0, 'only_left': 0, 'only_right': 0, 'both_nan': 0}"
   ]
  },
  {
   "cell_type": "code",
   "execution_count": null,
   "id": "d3b7e83d-38fc-4baa-9c67-f4b67840183a",
   "metadata": {},
   "outputs": [],
   "source": []
  },
  {
   "cell_type": "code",
   "execution_count": 92,
   "id": "1e11b21a-d29f-4b95-9a77-719e65d4a9be",
   "metadata": {},
   "outputs": [],
   "source": [
    "dfinal = df[['name', 'date', 'state']]"
   ]
  },
  {
   "cell_type": "code",
   "execution_count": 93,
   "id": "5bc9905c-1e45-4da0-aaa5-129c5c858315",
   "metadata": {},
   "outputs": [],
   "source": [
    "dfinal['age'] = df.apply(combine_columns, args=(['age_x', 'age_y'], keep), axis=1, record=record)\n",
    "dfinal['gender'] = df.apply(combine_columns, args=(['gender_x', 'gender_y'], keep), axis=1, record=record)\n",
    "dfinal['race'] = df.apply(combine_columns, args=(['race_x', 'race_y'], keep), axis=1, record=record)\n",
    "dfinal['address'] = df.apply(combine_columns, args=(['address_x', 'address_y'], keep), axis=1, record=record)\n",
    "dfinal['city'] = df.apply(combine_columns, args=(['city_x', 'city_y'], keep), axis=1, record=record)\n",
    "dfinal[['latitude', 'longitude']] = df[['latitude', 'longitude']]\n",
    "dfinal['zipcode'] = df.apply(combine_columns, args=(['zipcode_x', 'zipcode_y'], keep), axis=1, record=record)\n",
    "dfinal['county'] = df.apply(combine_columns, args=(['county_x', 'county_y'], keep), axis=1, record=record)\n",
    "dfinal['agency'] = df.apply(combine_columns, args=(['agency_x', 'agency_y'], keep), axis=1, record=record)\n",
    "dfinal['death_cause'] = df.apply(combine_columns, args=(['death_cause_x', 'death_cause_y'], keep), axis=1, record=record)\n",
    "dfinal['weapon'] = df.apply(combine_columns, args=(['weapon_x', 'weapon_y'], keep), axis=1, record=record)\n",
    "dfinal['threat'] = df.apply(combine_columns, args=(['threat_x', 'threat_y'], keep), axis=1, record=record)\n",
    "dfinal['fleeing'] = df.apply(combine_columns, args=(['fleeing_x', 'fleeing_y'], keep), axis=1, record=record)\n",
    "dfinal[['intended_force', 'encounter_type']] = df[['intended_force', 'encounter_type']]\n",
    "dfinal['disposition'] = df.apply(combine_columns, args=(['disposition_x', 'disposition_y'], keep), axis=1, record=record)\n",
    "dfinal['mental_symptoms'] = df.apply(combine_columns, args=(['mental_symptoms_x', 'mental_symptoms_y'], keep), axis=1, record=record)\n",
    "dfinal[['description_x', 'description_y']] = df[['description_x', 'description_y']]\n",
    "dfinal['_merge'] = df['_merge']\n"
   ]
  },
  {
   "cell_type": "code",
   "execution_count": 94,
   "id": "8afc5eb8-c389-4eea-80e5-2b6276277250",
   "metadata": {},
   "outputs": [
    {
     "data": {
      "text/html": [
       "<div>\n",
       "<style scoped>\n",
       "    .dataframe tbody tr th:only-of-type {\n",
       "        vertical-align: middle;\n",
       "    }\n",
       "\n",
       "    .dataframe tbody tr th {\n",
       "        vertical-align: top;\n",
       "    }\n",
       "\n",
       "    .dataframe thead th {\n",
       "        text-align: right;\n",
       "    }\n",
       "</style>\n",
       "<table border=\"1\" class=\"dataframe\">\n",
       "  <thead>\n",
       "    <tr style=\"text-align: right;\">\n",
       "      <th></th>\n",
       "      <th>name</th>\n",
       "      <th>date</th>\n",
       "      <th>state</th>\n",
       "      <th>age</th>\n",
       "      <th>gender</th>\n",
       "      <th>race</th>\n",
       "      <th>address</th>\n",
       "      <th>city</th>\n",
       "      <th>latitude</th>\n",
       "      <th>longitude</th>\n",
       "      <th>zipcode</th>\n",
       "      <th>county</th>\n",
       "      <th>agency</th>\n",
       "      <th>death_cause</th>\n",
       "      <th>weapon</th>\n",
       "      <th>threat</th>\n",
       "      <th>fleeing</th>\n",
       "      <th>intended_force</th>\n",
       "      <th>encounter_type</th>\n",
       "      <th>disposition</th>\n",
       "      <th>mental_symptoms</th>\n",
       "      <th>description_x</th>\n",
       "      <th>description_y</th>\n",
       "      <th>_merge</th>\n",
       "    </tr>\n",
       "  </thead>\n",
       "  <tbody>\n",
       "    <tr>\n",
       "      <th>0</th>\n",
       "      <td>Mark A. Horton</td>\n",
       "      <td>2000-01-01</td>\n",
       "      <td>MI</td>\n",
       "      <td>21.0</td>\n",
       "      <td>male</td>\n",
       "      <td>black</td>\n",
       "      <td>Davison Freeway</td>\n",
       "      <td>Detroit</td>\n",
       "      <td>42.4045</td>\n",
       "      <td>-83.0923</td>\n",
       "      <td>48203.0</td>\n",
       "      <td>Wayne</td>\n",
       "      <td>NaN</td>\n",
       "      <td>vehicle</td>\n",
       "      <td>NaN</td>\n",
       "      <td>NaN</td>\n",
       "      <td>NaN</td>\n",
       "      <td>pursuit</td>\n",
       "      <td>NaN</td>\n",
       "      <td>NaN</td>\n",
       "      <td>no</td>\n",
       "      <td>Two Detroit men killed whe...</td>\n",
       "      <td>NaN</td>\n",
       "      <td>left_only</td>\n",
       "    </tr>\n",
       "    <tr>\n",
       "      <th>1</th>\n",
       "      <td>Phillip A. Blurbridge</td>\n",
       "      <td>2000-01-01</td>\n",
       "      <td>MI</td>\n",
       "      <td>19.0</td>\n",
       "      <td>male</td>\n",
       "      <td>black</td>\n",
       "      <td>Davison Freeway</td>\n",
       "      <td>Detroit</td>\n",
       "      <td>42.4045</td>\n",
       "      <td>-83.0923</td>\n",
       "      <td>48203.0</td>\n",
       "      <td>Wayne</td>\n",
       "      <td>NaN</td>\n",
       "      <td>vehicle</td>\n",
       "      <td>NaN</td>\n",
       "      <td>NaN</td>\n",
       "      <td>NaN</td>\n",
       "      <td>pursuit</td>\n",
       "      <td>NaN</td>\n",
       "      <td>NaN</td>\n",
       "      <td>no</td>\n",
       "      <td>Two Detroit men killed whe...</td>\n",
       "      <td>NaN</td>\n",
       "      <td>left_only</td>\n",
       "    </tr>\n",
       "    <tr>\n",
       "      <th>2</th>\n",
       "      <td>Samuel H. Knapp</td>\n",
       "      <td>2000-01-01</td>\n",
       "      <td>CA</td>\n",
       "      <td>17.0</td>\n",
       "      <td>male</td>\n",
       "      <td>white</td>\n",
       "      <td>27898-27804 US-101</td>\n",
       "      <td>Willits</td>\n",
       "      <td>39.4709</td>\n",
       "      <td>-123.3618</td>\n",
       "      <td>95490.0</td>\n",
       "      <td>Mendocino</td>\n",
       "      <td>Mendocino County Sheriff's...</td>\n",
       "      <td>vehicle</td>\n",
       "      <td>NaN</td>\n",
       "      <td>NaN</td>\n",
       "      <td>NaN</td>\n",
       "      <td>pursuit</td>\n",
       "      <td>NaN</td>\n",
       "      <td>NaN</td>\n",
       "      <td>no</td>\n",
       "      <td>Samuel Knapp was allegedly...</td>\n",
       "      <td>NaN</td>\n",
       "      <td>left_only</td>\n",
       "    </tr>\n",
       "    <tr>\n",
       "      <th>3</th>\n",
       "      <td>Mark Ortiz</td>\n",
       "      <td>2000-01-01</td>\n",
       "      <td>NM</td>\n",
       "      <td>23.0</td>\n",
       "      <td>male</td>\n",
       "      <td>hispanic</td>\n",
       "      <td>600 W Cherry Ln</td>\n",
       "      <td>Carlsbad</td>\n",
       "      <td>32.4501</td>\n",
       "      <td>-104.2376</td>\n",
       "      <td>88220.0</td>\n",
       "      <td>Eddy</td>\n",
       "      <td>Eddy County Sheriff's Office</td>\n",
       "      <td>vehicle</td>\n",
       "      <td>NaN</td>\n",
       "      <td>NaN</td>\n",
       "      <td>NaN</td>\n",
       "      <td>pursuit</td>\n",
       "      <td>NaN</td>\n",
       "      <td>NaN</td>\n",
       "      <td>no</td>\n",
       "      <td>A motorcycle was allegedly...</td>\n",
       "      <td>NaN</td>\n",
       "      <td>left_only</td>\n",
       "    </tr>\n",
       "    <tr>\n",
       "      <th>4</th>\n",
       "      <td>LaTanya Janelle McCoy</td>\n",
       "      <td>2000-01-02</td>\n",
       "      <td>CA</td>\n",
       "      <td>24.0</td>\n",
       "      <td>female</td>\n",
       "      <td>black</td>\n",
       "      <td>5700 block Mack Road</td>\n",
       "      <td>Sacramento</td>\n",
       "      <td>38.4739</td>\n",
       "      <td>-121.4338</td>\n",
       "      <td>95823.0</td>\n",
       "      <td>Sacramento</td>\n",
       "      <td>Sacramento Police Department</td>\n",
       "      <td>vehicle</td>\n",
       "      <td>NaN</td>\n",
       "      <td>NaN</td>\n",
       "      <td>NaN</td>\n",
       "      <td>pursuit</td>\n",
       "      <td>NaN</td>\n",
       "      <td>NaN</td>\n",
       "      <td>no</td>\n",
       "      <td>LaTanya Janelle McCoy's ca...</td>\n",
       "      <td>NaN</td>\n",
       "      <td>left_only</td>\n",
       "    </tr>\n",
       "    <tr>\n",
       "      <th>...</th>\n",
       "      <td>...</td>\n",
       "      <td>...</td>\n",
       "      <td>...</td>\n",
       "      <td>...</td>\n",
       "      <td>...</td>\n",
       "      <td>...</td>\n",
       "      <td>...</td>\n",
       "      <td>...</td>\n",
       "      <td>...</td>\n",
       "      <td>...</td>\n",
       "      <td>...</td>\n",
       "      <td>...</td>\n",
       "      <td>...</td>\n",
       "      <td>...</td>\n",
       "      <td>...</td>\n",
       "      <td>...</td>\n",
       "      <td>...</td>\n",
       "      <td>...</td>\n",
       "      <td>...</td>\n",
       "      <td>...</td>\n",
       "      <td>...</td>\n",
       "      <td>...</td>\n",
       "      <td>...</td>\n",
       "      <td>...</td>\n",
       "    </tr>\n",
       "    <tr>\n",
       "      <th>32505</th>\n",
       "      <td>Jordan Hatcher</td>\n",
       "      <td>2013-01-24</td>\n",
       "      <td>TX</td>\n",
       "      <td>22.0</td>\n",
       "      <td>male</td>\n",
       "      <td>NaN</td>\n",
       "      <td>2100 Southeast Parkway</td>\n",
       "      <td>Grand Prairie</td>\n",
       "      <td>NaN</td>\n",
       "      <td>NaN</td>\n",
       "      <td>76018.0</td>\n",
       "      <td>Tarrant</td>\n",
       "      <td>Grand Prairie Police Depar...</td>\n",
       "      <td>gunshot</td>\n",
       "      <td>no object</td>\n",
       "      <td>NaN</td>\n",
       "      <td>NaN</td>\n",
       "      <td>NaN</td>\n",
       "      <td>NaN</td>\n",
       "      <td>NaN</td>\n",
       "      <td>no</td>\n",
       "      <td>NaN</td>\n",
       "      <td>Grand Prairie police respo...</td>\n",
       "      <td>right_only</td>\n",
       "    </tr>\n",
       "    <tr>\n",
       "      <th>32506</th>\n",
       "      <td>Jayvis Benjamin</td>\n",
       "      <td>2013-01-18</td>\n",
       "      <td>GA</td>\n",
       "      <td>20.0</td>\n",
       "      <td>male</td>\n",
       "      <td>black</td>\n",
       "      <td>Covington Highway and Kens...</td>\n",
       "      <td>Avondale Estates</td>\n",
       "      <td>NaN</td>\n",
       "      <td>NaN</td>\n",
       "      <td>30002.0</td>\n",
       "      <td>Dekalb</td>\n",
       "      <td>Avondale Estates Police De...</td>\n",
       "      <td>gunshot</td>\n",
       "      <td>no object</td>\n",
       "      <td>NaN</td>\n",
       "      <td>NaN</td>\n",
       "      <td>NaN</td>\n",
       "      <td>NaN</td>\n",
       "      <td>justified</td>\n",
       "      <td>no</td>\n",
       "      <td>NaN</td>\n",
       "      <td>Police allegedly observed ...</td>\n",
       "      <td>right_only</td>\n",
       "    </tr>\n",
       "    <tr>\n",
       "      <th>32507</th>\n",
       "      <td>Jesse France</td>\n",
       "      <td>2013-01-18</td>\n",
       "      <td>WA</td>\n",
       "      <td>29.0</td>\n",
       "      <td>male</td>\n",
       "      <td>white</td>\n",
       "      <td>7531 NE 18th St</td>\n",
       "      <td>Vancouver</td>\n",
       "      <td>NaN</td>\n",
       "      <td>NaN</td>\n",
       "      <td>98661.0</td>\n",
       "      <td>Clark</td>\n",
       "      <td>U.S. Marshals Service</td>\n",
       "      <td>gunshot</td>\n",
       "      <td>firearm</td>\n",
       "      <td>NaN</td>\n",
       "      <td>NaN</td>\n",
       "      <td>NaN</td>\n",
       "      <td>NaN</td>\n",
       "      <td>NaN</td>\n",
       "      <td>no</td>\n",
       "      <td>NaN</td>\n",
       "      <td>France was an ex-con who h...</td>\n",
       "      <td>right_only</td>\n",
       "    </tr>\n",
       "    <tr>\n",
       "      <th>32508</th>\n",
       "      <td>Reginald Lamont “Deucey” Epps</td>\n",
       "      <td>2013-01-18</td>\n",
       "      <td>NC</td>\n",
       "      <td>38.0</td>\n",
       "      <td>male</td>\n",
       "      <td>black</td>\n",
       "      <td>142 Straight Road</td>\n",
       "      <td>Roanoke Rapids</td>\n",
       "      <td>NaN</td>\n",
       "      <td>NaN</td>\n",
       "      <td>27870.0</td>\n",
       "      <td>Halifax</td>\n",
       "      <td>Halifax County Sheriff's O...</td>\n",
       "      <td>gunshot</td>\n",
       "      <td>firearm</td>\n",
       "      <td>NaN</td>\n",
       "      <td>NaN</td>\n",
       "      <td>NaN</td>\n",
       "      <td>NaN</td>\n",
       "      <td>NaN</td>\n",
       "      <td>no</td>\n",
       "      <td>NaN</td>\n",
       "      <td>County deputies had made s...</td>\n",
       "      <td>right_only</td>\n",
       "    </tr>\n",
       "    <tr>\n",
       "      <th>32509</th>\n",
       "      <td>Andrew Layton</td>\n",
       "      <td>2013-01-01</td>\n",
       "      <td>MN</td>\n",
       "      <td>26.0</td>\n",
       "      <td>male</td>\n",
       "      <td>white</td>\n",
       "      <td>410 S Riverfront Drive</td>\n",
       "      <td>Mankato</td>\n",
       "      <td>NaN</td>\n",
       "      <td>NaN</td>\n",
       "      <td>56001.0</td>\n",
       "      <td>Blue Earth</td>\n",
       "      <td>Mankato Department of Publ...</td>\n",
       "      <td>taser</td>\n",
       "      <td>no object</td>\n",
       "      <td>NaN</td>\n",
       "      <td>NaN</td>\n",
       "      <td>NaN</td>\n",
       "      <td>NaN</td>\n",
       "      <td>NaN</td>\n",
       "      <td>no</td>\n",
       "      <td>NaN</td>\n",
       "      <td>Former combat medic Layton...</td>\n",
       "      <td>right_only</td>\n",
       "    </tr>\n",
       "  </tbody>\n",
       "</table>\n",
       "</div>"
      ],
      "text/plain": [
       "                                name        date state   age  gender      race                        address              city  latitude  longitude  zipcode      county                         agency death_cause     weapon threat fleeing intended_force encounter_type disposition mental_symptoms                  description_x                  description_y      _merge\n",
       "0                     Mark A. Horton  2000-01-01    MI  21.0    male     black                Davison Freeway           Detroit   42.4045   -83.0923  48203.0       Wayne                            NaN     vehicle        NaN    NaN     NaN        pursuit            NaN         NaN              no  Two Detroit men killed whe...                            NaN   left_only\n",
       "1              Phillip A. Blurbridge  2000-01-01    MI  19.0    male     black                Davison Freeway           Detroit   42.4045   -83.0923  48203.0       Wayne                            NaN     vehicle        NaN    NaN     NaN        pursuit            NaN         NaN              no  Two Detroit men killed whe...                            NaN   left_only\n",
       "2                    Samuel H. Knapp  2000-01-01    CA  17.0    male     white             27898-27804 US-101           Willits   39.4709  -123.3618  95490.0   Mendocino  Mendocino County Sheriff's...     vehicle        NaN    NaN     NaN        pursuit            NaN         NaN              no  Samuel Knapp was allegedly...                            NaN   left_only\n",
       "3                         Mark Ortiz  2000-01-01    NM  23.0    male  hispanic                600 W Cherry Ln          Carlsbad   32.4501  -104.2376  88220.0        Eddy   Eddy County Sheriff's Office     vehicle        NaN    NaN     NaN        pursuit            NaN         NaN              no  A motorcycle was allegedly...                            NaN   left_only\n",
       "4              LaTanya Janelle McCoy  2000-01-02    CA  24.0  female     black           5700 block Mack Road        Sacramento   38.4739  -121.4338  95823.0  Sacramento   Sacramento Police Department     vehicle        NaN    NaN     NaN        pursuit            NaN         NaN              no  LaTanya Janelle McCoy's ca...                            NaN   left_only\n",
       "...                              ...         ...   ...   ...     ...       ...                            ...               ...       ...        ...      ...         ...                            ...         ...        ...    ...     ...            ...            ...         ...             ...                            ...                            ...         ...\n",
       "32505                 Jordan Hatcher  2013-01-24    TX  22.0    male       NaN         2100 Southeast Parkway     Grand Prairie       NaN        NaN  76018.0     Tarrant  Grand Prairie Police Depar...     gunshot  no object    NaN     NaN            NaN            NaN         NaN              no                            NaN  Grand Prairie police respo...  right_only\n",
       "32506                Jayvis Benjamin  2013-01-18    GA  20.0    male     black  Covington Highway and Kens...  Avondale Estates       NaN        NaN  30002.0      Dekalb  Avondale Estates Police De...     gunshot  no object    NaN     NaN            NaN            NaN   justified              no                            NaN  Police allegedly observed ...  right_only\n",
       "32507                   Jesse France  2013-01-18    WA  29.0    male     white                7531 NE 18th St         Vancouver       NaN        NaN  98661.0       Clark          U.S. Marshals Service     gunshot    firearm    NaN     NaN            NaN            NaN         NaN              no                            NaN  France was an ex-con who h...  right_only\n",
       "32508  Reginald Lamont “Deucey” Epps  2013-01-18    NC  38.0    male     black              142 Straight Road    Roanoke Rapids       NaN        NaN  27870.0     Halifax  Halifax County Sheriff's O...     gunshot    firearm    NaN     NaN            NaN            NaN         NaN              no                            NaN  County deputies had made s...  right_only\n",
       "32509                  Andrew Layton  2013-01-01    MN  26.0    male     white         410 S Riverfront Drive           Mankato       NaN        NaN  56001.0  Blue Earth  Mankato Department of Publ...       taser  no object    NaN     NaN            NaN            NaN         NaN              no                            NaN  Former combat medic Layton...  right_only"
      ]
     },
     "execution_count": 94,
     "metadata": {},
     "output_type": "execute_result"
    }
   ],
   "source": [
    "dfinal"
   ]
  },
  {
   "cell_type": "code",
   "execution_count": 95,
   "id": "e668317c-303b-494c-9f0f-667656b2178e",
   "metadata": {},
   "outputs": [
    {
     "data": {
      "text/plain": [
       "{'keep_left': 94463,\n",
       " 'only_left': 259362,\n",
       " 'only_right': 23233,\n",
       " 'both_nan': 78082}"
      ]
     },
     "execution_count": 95,
     "metadata": {},
     "output_type": "execute_result"
    }
   ],
   "source": [
    "record"
   ]
  },
  {
   "cell_type": "code",
   "execution_count": 96,
   "id": "c5263ced-8f9c-452d-9590-7e281da967e4",
   "metadata": {},
   "outputs": [
    {
     "data": {
      "text/plain": [
       "780240"
      ]
     },
     "execution_count": 96,
     "metadata": {},
     "output_type": "execute_result"
    }
   ],
   "source": [
    "dfinal.size"
   ]
  },
  {
   "cell_type": "code",
   "execution_count": 97,
   "id": "4d884abb-df65-4ac1-933b-e7c3c5e8b270",
   "metadata": {},
   "outputs": [
    {
     "name": "stdout",
     "output_type": "stream",
     "text": [
      "<class 'pandas.core.frame.DataFrame'>\n",
      "Int64Index: 32510 entries, 0 to 32509\n",
      "Data columns (total 24 columns):\n",
      " #   Column           Non-Null Count  Dtype   \n",
      "---  ------           --------------  -----   \n",
      " 0   name             32510 non-null  object  \n",
      " 1   date             32510 non-null  object  \n",
      " 2   state            32510 non-null  object  \n",
      " 3   age              31259 non-null  float64 \n",
      " 4   gender           32391 non-null  object  \n",
      " 5   race             23958 non-null  object  \n",
      " 6   address          31923 non-null  object  \n",
      " 7   city             32466 non-null  object  \n",
      " 8   latitude         30820 non-null  float64 \n",
      " 9   longitude        30821 non-null  float64 \n",
      " 10  zipcode          32510 non-null  float64 \n",
      " 11  county           32485 non-null  object  \n",
      " 12  agency           32430 non-null  object  \n",
      " 13  death_cause      32345 non-null  object  \n",
      " 14  weapon           15946 non-null  object  \n",
      " 15  threat           15406 non-null  object  \n",
      " 16  fleeing          15310 non-null  object  \n",
      " 17  intended_force   29910 non-null  object  \n",
      " 18  encounter_type   3484 non-null   object  \n",
      " 19  disposition      21165 non-null  object  \n",
      " 20  mental_symptoms  27464 non-null  object  \n",
      " 21  description_x    30820 non-null  object  \n",
      " 22  description_y    9108 non-null   object  \n",
      " 23  _merge           32510 non-null  category\n",
      "dtypes: category(1), float64(4), object(19)\n",
      "memory usage: 6.0+ MB\n"
     ]
    }
   ],
   "source": [
    "dfinal.info()"
   ]
  },
  {
   "cell_type": "code",
   "execution_count": 98,
   "id": "085b1169-7d9e-449a-ad13-02a428efed6b",
   "metadata": {},
   "outputs": [],
   "source": [
    "# convert data types"
   ]
  },
  {
   "cell_type": "code",
   "execution_count": 99,
   "id": "a3cb5a32-1ef9-4cfa-8aff-6b27945c2f27",
   "metadata": {},
   "outputs": [],
   "source": [
    "to_convert = ['gender', 'race', 'death_cause', 'weapon', 'threat', 'fleeing', 'intended_force', \n",
    "       'encounter_type', 'disposition', 'mental_symptoms']\n",
    "dfinal[to_convert] = dfinal[to_convert].apply(pd.Categorical)"
   ]
  },
  {
   "cell_type": "code",
   "execution_count": 100,
   "id": "e6a3e45a-b165-414a-a66e-75e9e9f23586",
   "metadata": {},
   "outputs": [],
   "source": [
    "labels = ['infant/toddler', 'child', 'teenager', 'young adult', 'adult', 'elderly']\n",
    "age_groups = pd.cut(dfinal.age, [0, 5, 12, 17, 30, 65, 150], labels=labels)"
   ]
  },
  {
   "cell_type": "code",
   "execution_count": 101,
   "id": "694fa2f8-0762-45f2-89c1-129e54d56f94",
   "metadata": {},
   "outputs": [],
   "source": [
    "indx = dfinal.columns.get_loc('age')\n",
    "dfinal.insert(indx+1, 'age_groups', age_groups)"
   ]
  },
  {
   "cell_type": "code",
   "execution_count": 102,
   "id": "80caf782-fc89-42be-b7fb-b432a0270418",
   "metadata": {},
   "outputs": [
    {
     "name": "stdout",
     "output_type": "stream",
     "text": [
      "<class 'pandas.core.frame.DataFrame'>\n",
      "Int64Index: 32510 entries, 0 to 32509\n",
      "Data columns (total 25 columns):\n",
      " #   Column           Non-Null Count  Dtype   \n",
      "---  ------           --------------  -----   \n",
      " 0   name             32510 non-null  object  \n",
      " 1   date             32510 non-null  object  \n",
      " 2   state            32510 non-null  object  \n",
      " 3   age              31259 non-null  float64 \n",
      " 4   age_groups       31259 non-null  category\n",
      " 5   gender           32391 non-null  category\n",
      " 6   race             23958 non-null  category\n",
      " 7   address          31923 non-null  object  \n",
      " 8   city             32466 non-null  object  \n",
      " 9   latitude         30820 non-null  float64 \n",
      " 10  longitude        30821 non-null  float64 \n",
      " 11  zipcode          32510 non-null  float64 \n",
      " 12  county           32485 non-null  object  \n",
      " 13  agency           32430 non-null  object  \n",
      " 14  death_cause      32345 non-null  category\n",
      " 15  weapon           15946 non-null  category\n",
      " 16  threat           15406 non-null  category\n",
      " 17  fleeing          15310 non-null  category\n",
      " 18  intended_force   29910 non-null  category\n",
      " 19  encounter_type   3484 non-null   category\n",
      " 20  disposition      21165 non-null  category\n",
      " 21  mental_symptoms  27464 non-null  category\n",
      " 22  description_x    30820 non-null  object  \n",
      " 23  description_y    9108 non-null   object  \n",
      " 24  _merge           32510 non-null  category\n",
      "dtypes: category(12), float64(4), object(9)\n",
      "memory usage: 3.8+ MB\n"
     ]
    }
   ],
   "source": [
    "dfinal.info()"
   ]
  },
  {
   "cell_type": "code",
   "execution_count": 103,
   "id": "44ae76b1-aa3f-4c40-aa3a-2565ff314e51",
   "metadata": {},
   "outputs": [],
   "source": [
    "dtypes = dfinal.dtypes.astype(str).to_dict()"
   ]
  },
  {
   "cell_type": "code",
   "execution_count": 104,
   "id": "990e3129-d767-422e-a274-5eb2203344eb",
   "metadata": {},
   "outputs": [],
   "source": [
    "import json\n",
    "\n",
    "with open('../data/data_final_dtypes.json', 'w') as fp:\n",
    "    json.dump(dtypes, fp)"
   ]
  },
  {
   "cell_type": "code",
   "execution_count": 105,
   "id": "23f295d0-1a47-467c-b413-cc9649c300d9",
   "metadata": {},
   "outputs": [],
   "source": [
    "dfinal.to_csv('../data/data_final.csv', index=False)"
   ]
  },
  {
   "cell_type": "code",
   "execution_count": null,
   "id": "6a3abb45-98ea-41ae-b019-95c2bfceaaa8",
   "metadata": {},
   "outputs": [],
   "source": []
  }
 ],
 "metadata": {
  "kernelspec": {
   "display_name": "Python 3 (ipykernel)",
   "language": "python",
   "name": "python3"
  },
  "language_info": {
   "codemirror_mode": {
    "name": "ipython",
    "version": 3
   },
   "file_extension": ".py",
   "mimetype": "text/x-python",
   "name": "python",
   "nbconvert_exporter": "python",
   "pygments_lexer": "ipython3",
   "version": "3.8.11"
  }
 },
 "nbformat": 4,
 "nbformat_minor": 5
}
