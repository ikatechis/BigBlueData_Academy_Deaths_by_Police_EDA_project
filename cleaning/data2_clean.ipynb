{
 "cells": [
  {
   "cell_type": "code",
   "execution_count": 79,
   "id": "0ce1def2-bab2-4e40-b8d0-781f5db3496e",
   "metadata": {
    "tags": []
   },
   "outputs": [],
   "source": [
    "import pandas as pd\n",
    "import numpy as np\n",
    "\n",
    "pd.set_option('display.max_rows', None)\n",
    "pd.set_option('display.max_colwidth', 30)"
   ]
  },
  {
   "cell_type": "code",
   "execution_count": 2,
   "id": "04379517-9314-4bb1-877e-87de2a1b9bbb",
   "metadata": {},
   "outputs": [],
   "source": [
    "dataset2 = '../data/Visualizing inequity - 2013-2020 Police Killings.csv'"
   ]
  },
  {
   "cell_type": "code",
   "execution_count": 3,
   "id": "4a482c4a-54e7-4fc8-9dad-97d96863558a",
   "metadata": {},
   "outputs": [
    {
     "data": {
      "text/plain": [
       "'C:\\\\Users\\\\iason\\\\Desktop\\\\Bootcamp_Projects\\\\Project_1\\\\BigBlueData_Academy_EDA_project\\\\cleaning'"
      ]
     },
     "execution_count": 3,
     "metadata": {},
     "output_type": "execute_result"
    }
   ],
   "source": [
    "pwd"
   ]
  },
  {
   "cell_type": "code",
   "execution_count": 4,
   "id": "22e5e889-f360-4ad6-9ba2-2d2e4e742c62",
   "metadata": {},
   "outputs": [],
   "source": [
    "raw2 = pd.read_csv(dataset2)\n",
    "df2 = raw2.copy()"
   ]
  },
  {
   "cell_type": "code",
   "execution_count": 5,
   "id": "8a5abc5f-16c3-43f9-b517-73806d508294",
   "metadata": {},
   "outputs": [
    {
     "data": {
      "text/html": [
       "<div>\n",
       "<style scoped>\n",
       "    .dataframe tbody tr th:only-of-type {\n",
       "        vertical-align: middle;\n",
       "    }\n",
       "\n",
       "    .dataframe tbody tr th {\n",
       "        vertical-align: top;\n",
       "    }\n",
       "\n",
       "    .dataframe thead th {\n",
       "        text-align: right;\n",
       "    }\n",
       "</style>\n",
       "<table border=\"1\" class=\"dataframe\">\n",
       "  <thead>\n",
       "    <tr style=\"text-align: right;\">\n",
       "      <th></th>\n",
       "      <th>Victim's name</th>\n",
       "      <th>Victim's age</th>\n",
       "      <th>Victim's gender</th>\n",
       "      <th>Victim's race</th>\n",
       "      <th>URL of image of victim</th>\n",
       "      <th>Date of Incident (month/day/year)</th>\n",
       "      <th>Street Address of Incident</th>\n",
       "      <th>City</th>\n",
       "      <th>State</th>\n",
       "      <th>Zipcode</th>\n",
       "      <th>County</th>\n",
       "      <th>Agency responsible for death</th>\n",
       "      <th>ORI Agency Identifier (if available)</th>\n",
       "      <th>Cause of death</th>\n",
       "      <th>A brief description of the circumstances surrounding the death</th>\n",
       "      <th>Official disposition of death (justified or other)</th>\n",
       "      <th>Criminal Charges?</th>\n",
       "      <th>Link to news article or photo of official document</th>\n",
       "      <th>Symptoms of mental illness?</th>\n",
       "      <th>Armed/Unarmed Status</th>\n",
       "      <th>Alleged Weapon (Source: WaPo and Review of Cases Not Included in WaPo Database)</th>\n",
       "      <th>Alleged Threat Level (Source: WaPo)</th>\n",
       "      <th>Fleeing (Source: WaPo)</th>\n",
       "      <th>Body Camera (Source: WaPo)</th>\n",
       "      <th>WaPo ID (If included in WaPo database)</th>\n",
       "      <th>Off-Duty Killing?</th>\n",
       "      <th>Geography (via Trulia methodology based on zipcode population density: http://jedkolko.com/wp-content/uploads/2015/05/full-ZCTA-urban-suburban-rural-classification.xlsx )</th>\n",
       "      <th>MPV ID</th>\n",
       "      <th>Fatal Encounters ID</th>\n",
       "      <th>Encounter Type (DRAFT)</th>\n",
       "      <th>Initial Reported Reason for Encounter (DRAFT)</th>\n",
       "      <th>Names of Officers Involved (DRAFT)</th>\n",
       "      <th>Race of Officers Involved (DRAFT)</th>\n",
       "      <th>Known Past Shootings of Officer(s) (DRAFT)</th>\n",
       "      <th>Call for Service? (DRAFT)</th>\n",
       "    </tr>\n",
       "  </thead>\n",
       "  <tbody>\n",
       "    <tr>\n",
       "      <th>0</th>\n",
       "      <td>Richard Solitro</td>\n",
       "      <td>34</td>\n",
       "      <td>Male</td>\n",
       "      <td>White</td>\n",
       "      <td>NaN</td>\n",
       "      <td>4/24/2021</td>\n",
       "      <td>NaN</td>\n",
       "      <td>Los Angeles</td>\n",
       "      <td>CA</td>\n",
       "      <td>NaN</td>\n",
       "      <td>NaN</td>\n",
       "      <td>Los Angeles Poli...</td>\n",
       "      <td>CA0194200</td>\n",
       "      <td>Gunshot</td>\n",
       "      <td>Solitro allegedl...</td>\n",
       "      <td>Pending investig...</td>\n",
       "      <td>No known charges</td>\n",
       "      <td>https://www.prov...</td>\n",
       "      <td>Yes</td>\n",
       "      <td>Unarmed/Did Not ...</td>\n",
       "      <td>no object</td>\n",
       "      <td>other</td>\n",
       "      <td>not fleeing</td>\n",
       "      <td>yes</td>\n",
       "      <td>6804.0</td>\n",
       "      <td>NaN</td>\n",
       "      <td>NaN</td>\n",
       "      <td>NaN</td>\n",
       "      <td>NaN</td>\n",
       "      <td>Traffic Stop</td>\n",
       "      <td>cut off patrol car</td>\n",
       "      <td>NaN</td>\n",
       "      <td>NaN</td>\n",
       "      <td>NaN</td>\n",
       "      <td>No</td>\n",
       "    </tr>\n",
       "    <tr>\n",
       "      <th>1</th>\n",
       "      <td>Marvin Veiga</td>\n",
       "      <td>32</td>\n",
       "      <td>Male</td>\n",
       "      <td>Unknown Race</td>\n",
       "      <td>NaN</td>\n",
       "      <td>4/24/2021</td>\n",
       "      <td>NaN</td>\n",
       "      <td>Nashville</td>\n",
       "      <td>TN</td>\n",
       "      <td>NaN</td>\n",
       "      <td>NaN</td>\n",
       "      <td>Metropolitan Nas...</td>\n",
       "      <td>TN0190100</td>\n",
       "      <td>Gunshot</td>\n",
       "      <td>Officer Christop...</td>\n",
       "      <td>Pending investig...</td>\n",
       "      <td>No known charges</td>\n",
       "      <td>https://www.tenn...</td>\n",
       "      <td>No</td>\n",
       "      <td>Allegedly Armed</td>\n",
       "      <td>knife</td>\n",
       "      <td>other</td>\n",
       "      <td>not fleeing</td>\n",
       "      <td>yes</td>\n",
       "      <td>6802.0</td>\n",
       "      <td>NaN</td>\n",
       "      <td>NaN</td>\n",
       "      <td>NaN</td>\n",
       "      <td>NaN</td>\n",
       "      <td>Traffic Stop</td>\n",
       "      <td>traffic violatio...</td>\n",
       "      <td>Christopher Royer</td>\n",
       "      <td>NaN</td>\n",
       "      <td>NaN</td>\n",
       "      <td>No</td>\n",
       "    </tr>\n",
       "  </tbody>\n",
       "</table>\n",
       "</div>"
      ],
      "text/plain": [
       "     Victim's name Victim's age Victim's gender Victim's race URL of image of victim Date of Incident (month/day/year) Street Address of Incident         City State  Zipcode County Agency responsible for death ORI Agency Identifier (if available) Cause of death A brief description of the circumstances surrounding the death Official disposition of death (justified or other) Criminal Charges? Link to news article or photo of official document Symptoms of mental illness? Armed/Unarmed Status Alleged Weapon (Source: WaPo and Review of Cases Not Included in WaPo Database) Alleged Threat Level (Source: WaPo) Fleeing (Source: WaPo) Body Camera (Source: WaPo)  WaPo ID (If included in WaPo database) Off-Duty Killing? Geography (via Trulia methodology based on zipcode population density: http://jedkolko.com/wp-content/uploads/2015/05/full-ZCTA-urban-suburban-rural-classification.xlsx )  MPV ID  Fatal Encounters ID Encounter Type (DRAFT) Initial Reported Reason for Encounter (DRAFT) Names of Officers Involved (DRAFT) Race of Officers Involved (DRAFT) Known Past Shootings of Officer(s) (DRAFT) Call for Service? (DRAFT)\n",
       "0  Richard Solitro           34            Male         White                  NaN              4/24/2021                               NaN        Los Angeles    CA      NaN    NaN  Los Angeles Poli...                    CA0194200                        Gunshot  Solitro allegedl...                                            Pending investig...                                No known charges  https://www.prov...                                                Yes         Unarmed/Did Not ...            no object                                                                           other                         not fleeing                    yes                     6804.0                                  NaN                  NaN                                                                                                                                                           NaN                  NaN         Traffic Stop     cut off patrol car                                           NaN                                NaN                               NaN                                         No     \n",
       "1     Marvin Veiga           32            Male  Unknown Race                  NaN              4/24/2021                               NaN          Nashville    TN      NaN    NaN  Metropolitan Nas...                    TN0190100                        Gunshot  Officer Christop...                                            Pending investig...                                No known charges  https://www.tenn...                                                 No             Allegedly Armed                knife                                                                           other                         not fleeing                    yes                     6802.0                                  NaN                  NaN                                                                                                                                                           NaN                  NaN         Traffic Stop    traffic violatio...                             Christopher Royer                                NaN                               NaN                                         No     "
      ]
     },
     "execution_count": 5,
     "metadata": {},
     "output_type": "execute_result"
    }
   ],
   "source": [
    "df2.head(2)"
   ]
  },
  {
   "cell_type": "code",
   "execution_count": 6,
   "id": "6dc3f2cf-bb7c-4109-862f-7c2fffa2ec96",
   "metadata": {},
   "outputs": [
    {
     "name": "stdout",
     "output_type": "stream",
     "text": [
      "Victim's name\n",
      "Victim's age\n",
      "Victim's gender\n",
      "Victim's race\n",
      "URL of image of victim\n",
      "Date of Incident (month/day/year)\n",
      "Street Address of Incident\n",
      "City\n",
      "State\n",
      "Zipcode\n",
      "County\n",
      "Agency responsible for death\n",
      "ORI Agency Identifier (if available)\n",
      "Cause of death\n",
      "A brief description of the circumstances surrounding the death\n",
      "Official disposition of death (justified or other)\n",
      "Criminal Charges?\n",
      "Link to news article or photo of official document\n",
      "Symptoms of mental illness?\n",
      "Armed/Unarmed Status\n",
      "Alleged Weapon (Source: WaPo and Review of Cases Not Included in WaPo Database)\n",
      "Alleged Threat Level (Source: WaPo)\n",
      "Fleeing (Source: WaPo)\n",
      "Body Camera (Source: WaPo)\n",
      "WaPo ID (If included in WaPo database)\n",
      "Off-Duty Killing?\n",
      "Geography (via Trulia methodology based on zipcode population density: http://jedkolko.com/wp-content/uploads/2015/05/full-ZCTA-urban-suburban-rural-classification.xlsx )\n",
      "MPV ID\n",
      "Fatal Encounters ID\n",
      "Encounter Type (DRAFT)\n",
      "Initial Reported Reason for Encounter (DRAFT)\n",
      "Names of Officers Involved (DRAFT)\n",
      "Race of Officers Involved (DRAFT)\n",
      "Known Past Shootings of Officer(s) (DRAFT)\n",
      "Call for Service? (DRAFT)\n"
     ]
    }
   ],
   "source": [
    "pd.Series(df2.columns).map(print)\n",
    "None"
   ]
  },
  {
   "cell_type": "code",
   "execution_count": 7,
   "id": "2328ee08-d971-4c85-8e68-c68e11c92b47",
   "metadata": {},
   "outputs": [],
   "source": [
    "# Rename columns to more convenient names\n",
    "col_renames = {\"Victim's name\": 'name', \n",
    "               \"Victim's age\": 'age',\n",
    "           \"Victim's gender\": 'gender', \n",
    "           \"Victim's race\": 'race',\n",
    "           \"URL of image of victim\": 'image_url', \n",
    "           \"Date of Incident (month/day/year)\": 'date',\n",
    "            \"City\": 'city', \"State\": 'state', \"Zipcode\": 'zip', \"County\": 'county',\n",
    "           \"Street Address of Incident\": 'address',\n",
    "           'Agency responsible for death': 'agency', \n",
    "           \"ORI Agency Identifier (if available)\": 'agency_id',\n",
    "           \"Cause of death\": 'death_cause',\n",
    "           \"A brief description of the circumstances surrounding the death\": 'desription',\n",
    "           \"Official disposition of death (justified or other)\": 'disposition',\n",
    "           'Criminal Charges?': 'charges',\n",
    "           \"Link to news article or photo of official document\": 'link',\n",
    "           \"Symptoms of mental illness?\": 'mental_symptoms',\n",
    "           \"Armed/Unarmed Status\": 'armed',\n",
    "           \"Alleged Weapon (Source: WaPo and Review of Cases Not Included in WaPo Database)\": 'weapon',\n",
    "           \"Alleged Threat Level (Source: WaPo)\": 'threat',\n",
    "           'Fleeing (Source: WaPo)': 'fleeing',\n",
    "           'Body Camera (Source: WaPo)': 'body_cam',\n",
    "           \"WaPo ID (If included in WaPo database)\": 'WaPo_id',\n",
    "           \"Off-Duty Killing?\": 'off_duty',\n",
    "           'Geography (via Trulia methodology based on zipcode population density: http://jedkolko.com/wp-content/uploads/2015/05/full-ZCTA-urban-suburban-rural-classification.xlsx )': 'geography',\n",
    "           \"MPV ID\": 'mpv_id',\n",
    "           \"Fatal Encounters ID\": 'fatal_encounters_id',\n",
    "           \"Encounter Type (DRAFT)\": 'encounter_type',\n",
    "           \"Initial Reported Reason for Encounter (DRAFT)\": 'encounter_reason',\n",
    "           \"Names of Officers Involved (DRAFT)\": 'officer_names',\n",
    "           \"Race of Officers Involved (DRAFT)\": 'officers_race',\n",
    "           \"Known Past Shootings of Officer(s) (DRAFT)\": 'off_past_shootings',\n",
    "          \"Call for Service? (DRAFT)\": 'service_call'\n",
    "          }\n",
    "\n",
    "df2.rename(columns=col_renames, inplace=True)\n"
   ]
  },
  {
   "cell_type": "code",
   "execution_count": 8,
   "id": "42cb2db0-c6e2-4acd-857b-142c6caaab6e",
   "metadata": {},
   "outputs": [
    {
     "name": "stdout",
     "output_type": "stream",
     "text": [
      "<class 'pandas.core.frame.DataFrame'>\n",
      "RangeIndex: 9116 entries, 0 to 9115\n",
      "Data columns (total 35 columns):\n",
      " #   Column               Non-Null Count  Dtype  \n",
      "---  ------               --------------  -----  \n",
      " 0   name                 9116 non-null   object \n",
      " 1   age                  9106 non-null   object \n",
      " 2   gender               9106 non-null   object \n",
      " 3   race                 9116 non-null   object \n",
      " 4   image_url            4860 non-null   object \n",
      " 5   date                 9116 non-null   object \n",
      " 6   address              9003 non-null   object \n",
      " 7   city                 9107 non-null   object \n",
      " 8   state                9116 non-null   object \n",
      " 9   zip                  9062 non-null   float64\n",
      " 10  county               9091 non-null   object \n",
      " 11  agency               9110 non-null   object \n",
      " 12  agency_id            9112 non-null   object \n",
      " 13  death_cause          9116 non-null   object \n",
      " 14  desription           9101 non-null   object \n",
      " 15  disposition          9105 non-null   object \n",
      " 16  charges              9116 non-null   object \n",
      " 17  link                 9116 non-null   object \n",
      " 18  mental_symptoms      9056 non-null   object \n",
      " 19  armed                9116 non-null   object \n",
      " 20  weapon               9116 non-null   object \n",
      " 21  threat               6725 non-null   object \n",
      " 22  fleeing              6036 non-null   object \n",
      " 23  body_cam             5960 non-null   object \n",
      " 24  WaPo_id              6026 non-null   float64\n",
      " 25  off_duty             248 non-null    object \n",
      " 26  geography            9085 non-null   object \n",
      " 27  mpv_id               9068 non-null   float64\n",
      " 28  fatal_encounters_id  8980 non-null   float64\n",
      " 29  encounter_type       4808 non-null   object \n",
      " 30  encounter_reason     4808 non-null   object \n",
      " 31  officer_names        1389 non-null   object \n",
      " 32  officers_race        340 non-null    object \n",
      " 33  off_past_shootings   74 non-null     object \n",
      " 34  service_call         3585 non-null   object \n",
      "dtypes: float64(4), object(31)\n",
      "memory usage: 2.4+ MB\n"
     ]
    }
   ],
   "source": [
    "df2.info()"
   ]
  },
  {
   "cell_type": "code",
   "execution_count": 9,
   "id": "1f294a42-9177-4c0f-b4b4-99980ac02c9c",
   "metadata": {},
   "outputs": [],
   "source": [
    "# age col from tring to numeric\n",
    "df2.age = pd.to_numeric(df2.age, downcast='integer', errors='coerce')"
   ]
  },
  {
   "cell_type": "code",
   "execution_count": 10,
   "id": "7b4a9e7a-512f-4bbd-b355-81c7bca08464",
   "metadata": {},
   "outputs": [],
   "source": [
    "# strip all string columns\n",
    "df_obj = df2.select_dtypes(['object'])\n",
    "df2[df_obj.columns] = df_obj.apply(lambda s: s.str.strip())"
   ]
  },
  {
   "cell_type": "code",
   "execution_count": 11,
   "id": "2c670fa2-ff10-450f-8396-a760c75974f4",
   "metadata": {},
   "outputs": [],
   "source": [
    "df2.gender = df2.gender.str.lower()"
   ]
  },
  {
   "cell_type": "code",
   "execution_count": 12,
   "id": "9e53be07-2ce3-42eb-aeb1-d2a754f96561",
   "metadata": {},
   "outputs": [
    {
     "data": {
      "text/plain": [
       "array(['male', 'female', nan, 'unknown', 'transgender'], dtype=object)"
      ]
     },
     "execution_count": 12,
     "metadata": {},
     "output_type": "execute_result"
    }
   ],
   "source": [
    "df2.gender.unique()"
   ]
  },
  {
   "cell_type": "code",
   "execution_count": 13,
   "id": "c195729d-697b-438c-898b-79614c3af432",
   "metadata": {},
   "outputs": [],
   "source": [
    "df2.gender[df2.gender == 'unknown'] = np.nan\n",
    "df2.gender[df2.gender == 'transgender'] = 'trans'"
   ]
  },
  {
   "cell_type": "code",
   "execution_count": 14,
   "id": "2d122cd3-36d0-47d2-aff5-62978abccdd6",
   "metadata": {},
   "outputs": [
    {
     "data": {
      "text/plain": [
       "array(['white', 'unknown race', 'black', 'hispanic',\n",
       "       'asian/pacific islander', 'native american', 'pacific islander',\n",
       "       'asian'], dtype=object)"
      ]
     },
     "execution_count": 14,
     "metadata": {},
     "output_type": "execute_result"
    }
   ],
   "source": [
    "df2.race = df2.race.str.lower()\n",
    "df2.race.unique()"
   ]
  },
  {
   "cell_type": "code",
   "execution_count": 15,
   "id": "d1c1506e-f9d2-4bc0-ba74-98f46b9399d4",
   "metadata": {},
   "outputs": [],
   "source": [
    "df2.race[df2.race == 'unknown race'] = np.nan"
   ]
  },
  {
   "cell_type": "code",
   "execution_count": 16,
   "id": "11004837-e73b-4d89-8247-fddbc619e572",
   "metadata": {},
   "outputs": [],
   "source": [
    "df2.date = pd.to_datetime(df2.date)\n",
    "df2.zip = df2.zip.fillna(0).astype(int)"
   ]
  },
  {
   "cell_type": "code",
   "execution_count": 17,
   "id": "0baebca7-4e31-497b-98bf-dc2631c7083e",
   "metadata": {},
   "outputs": [],
   "source": [
    "# cast the death couses into fewer categories\n",
    "df2.death_cause = df2.death_cause.str.lower()"
   ]
  },
  {
   "cell_type": "code",
   "execution_count": 18,
   "id": "4d8b96fa-bc45-49c0-8ebf-3aee462abc70",
   "metadata": {},
   "outputs": [],
   "source": [
    "causes = df2.death_cause.str.replace(',', '').str.split(r'[\\s\\\\]', expand=True)"
   ]
  },
  {
   "cell_type": "code",
   "execution_count": 19,
   "id": "ad6406cc-59c4-43ca-bfa6-6d011e32251d",
   "metadata": {},
   "outputs": [],
   "source": [
    "# clean the death causes \n",
    "to_replace = {'physical': np.nan, 'other': 'unspecified', 'tasered': 'taser',\n",
    "             'beaten/bludgeoned': 'beaten', 'bean': 'beanbag', 'pepper': 'chemical',\n",
    "              'asphyxiated': 'asphyxia', 'agent/pepper': 'chemical', 'with': np.nan,\n",
    "              'police': np.nan, 'spray': np.nan, 'less': np.nan, 'gun': np.nan,\n",
    "              'shotgun': np.nan, 'lethal': np.nan, 'weapon': 'unspecified', None: np.nan,\n",
    "              'instrument': np.nan, 'bag': np.nan\n",
    "             }\n",
    "causes = causes.replace(to_replace)"
   ]
  },
  {
   "cell_type": "code",
   "execution_count": 20,
   "id": "7818cd48-bf38-4d7d-943b-b38c4ec4a075",
   "metadata": {},
   "outputs": [
    {
     "data": {
      "text/plain": [
       "array(['gunshot', nan, 'vehicle', 'taser', 'unspecified', 'chemical',\n",
       "       'beaten', 'beanbag', 'asphyxia', 'bomb', 'baton'], dtype=object)"
      ]
     },
     "execution_count": 20,
     "metadata": {},
     "output_type": "execute_result"
    }
   ],
   "source": [
    "causes[0].unique()"
   ]
  },
  {
   "cell_type": "code",
   "execution_count": 21,
   "id": "ef18e072-4721-4c18-bb6b-d869bac22608",
   "metadata": {},
   "outputs": [],
   "source": [
    "c = causes.copy()\n",
    "c.fillna('', inplace=True)"
   ]
  },
  {
   "cell_type": "code",
   "execution_count": 22,
   "id": "9b208ed8-4bd6-4388-af3f-0353471879b3",
   "metadata": {},
   "outputs": [],
   "source": [
    "for i in c.iloc[:, 1:]:\n",
    "    c[0] += ' '\n",
    "    c[0] += c[i]"
   ]
  },
  {
   "cell_type": "code",
   "execution_count": 23,
   "id": "57fcb23d-ebe1-4c3f-af9f-23e705698ec1",
   "metadata": {},
   "outputs": [],
   "source": [
    "c = c[0].str.strip()"
   ]
  },
  {
   "cell_type": "code",
   "execution_count": 24,
   "id": "5a71acd0-0e95-4647-8a55-3029fa62487d",
   "metadata": {},
   "outputs": [],
   "source": [
    "c = c.str.split()"
   ]
  },
  {
   "cell_type": "code",
   "execution_count": 25,
   "id": "bdf82256-6a24-4528-9968-f6c4fc4aac45",
   "metadata": {},
   "outputs": [],
   "source": [
    "# df2.charges.value_counts()"
   ]
  },
  {
   "cell_type": "code",
   "execution_count": 26,
   "id": "751217b9-24e1-4cba-b085-cd26365ae14c",
   "metadata": {},
   "outputs": [],
   "source": [
    "df2.death_cause = c"
   ]
  },
  {
   "cell_type": "code",
   "execution_count": 27,
   "id": "7b2b5bd3-a1d7-4a53-8200-6a4c6b220890",
   "metadata": {},
   "outputs": [],
   "source": [
    "# clean charges column --> categorize: 'no known', 'charged/dropped/mistrial', 'convicted' \n",
    "convicted = df2.charges.str.lower().copy()"
   ]
  },
  {
   "cell_type": "code",
   "execution_count": 28,
   "id": "899b8083-ab54-4f08-b64e-64624744e77d",
   "metadata": {},
   "outputs": [],
   "source": [
    "convicted[convicted.str.contains('convicted|guilty|sentenced')] = 'convicted'\n",
    "convicted[convicted.str.contains('mistrial|dropped|acquitted|charged')] = 'charged/dropped/mistrial'\n",
    "convicted[convicted.str.contains('.*no.*known.*charges')] = 'no known'"
   ]
  },
  {
   "cell_type": "code",
   "execution_count": 29,
   "id": "67774c74-21db-4096-9853-cc731e89b1df",
   "metadata": {},
   "outputs": [],
   "source": [
    "df2.charges = convicted"
   ]
  },
  {
   "cell_type": "code",
   "execution_count": 30,
   "id": "2fbef73d-29aa-40f2-a496-65fcaf38788e",
   "metadata": {},
   "outputs": [
    {
     "data": {
      "text/plain": [
       "array(['no known', 'charged/dropped/mistrial', 'convicted'], dtype=object)"
      ]
     },
     "execution_count": 30,
     "metadata": {},
     "output_type": "execute_result"
    }
   ],
   "source": [
    "df2.charges.unique()"
   ]
  },
  {
   "cell_type": "code",
   "execution_count": 31,
   "id": "34003cff-4490-4901-b102-9cca2edee5b6",
   "metadata": {},
   "outputs": [],
   "source": [
    "# df2.mental_symptoms.unique()"
   ]
  },
  {
   "cell_type": "code",
   "execution_count": 32,
   "id": "d6646930-5ce4-4d48-9e16-260dad7ceb8e",
   "metadata": {},
   "outputs": [],
   "source": [
    "df2.mental_symptoms = df2.mental_symptoms.str.lower()"
   ]
  },
  {
   "cell_type": "code",
   "execution_count": 33,
   "id": "d43180e1-9c51-4409-809d-b90f487c344f",
   "metadata": {},
   "outputs": [
    {
     "data": {
      "text/plain": [
       "array(['yes', 'no', 'drug or alcohol use', nan, 'unknown',\n",
       "       'yes/drug or alcohol use', 'unkown'], dtype=object)"
      ]
     },
     "execution_count": 33,
     "metadata": {},
     "output_type": "execute_result"
    }
   ],
   "source": [
    "df2.mental_symptoms.unique()"
   ]
  },
  {
   "cell_type": "code",
   "execution_count": 34,
   "id": "8d8c3225-56b1-4a73-b9ae-635d0e08ce6d",
   "metadata": {},
   "outputs": [],
   "source": [
    "df2.mental_symptoms = df2.replace({'mental_symptoms': {'unknown': np.nan, \n",
    "                                                       'unkown': np.nan,\n",
    "                                                      'yes/drug or alcohol use': 'yes'}}).mental_symptoms"
   ]
  },
  {
   "cell_type": "code",
   "execution_count": 35,
   "id": "8bd738f2-0054-4e5e-b08d-901f03e088b3",
   "metadata": {},
   "outputs": [
    {
     "data": {
      "text/plain": [
       "no                     5873\n",
       "yes                    1673\n",
       "drug or alcohol use     328\n",
       "Name: mental_symptoms, dtype: int64"
      ]
     },
     "execution_count": 35,
     "metadata": {},
     "output_type": "execute_result"
    }
   ],
   "source": [
    "df2.mental_symptoms.value_counts()"
   ]
  },
  {
   "cell_type": "code",
   "execution_count": 36,
   "id": "c7fe9fc4-93dd-48f7-be3d-6e0e08da3265",
   "metadata": {},
   "outputs": [],
   "source": [
    "df2.armed = df2.armed.str.lower()"
   ]
  },
  {
   "cell_type": "code",
   "execution_count": 37,
   "id": "c46e5a4a-932e-4142-879b-3f12440d5178",
   "metadata": {},
   "outputs": [],
   "source": [
    "df2.armed = df2.replace({'armed': {'unarmed/did not have actual weapon': 'unarmed', \n",
    "                                    'allegedly armed': 'armed'}}).armed"
   ]
  },
  {
   "cell_type": "code",
   "execution_count": 38,
   "id": "0e450e0c-b210-442b-9713-6b4e34784dff",
   "metadata": {},
   "outputs": [
    {
     "data": {
      "text/plain": [
       "armed      6553\n",
       "unarmed    1210\n",
       "unclear     759\n",
       "vehicle     594\n",
       "Name: armed, dtype: int64"
      ]
     },
     "execution_count": 38,
     "metadata": {},
     "output_type": "execute_result"
    }
   ],
   "source": [
    "df2.armed.value_counts()"
   ]
  },
  {
   "cell_type": "code",
   "execution_count": 39,
   "id": "de95e018-2060-45c1-ae72-1fd3d639602d",
   "metadata": {},
   "outputs": [],
   "source": [
    "df2.weapon = df2.weapon.str.lower()"
   ]
  },
  {
   "cell_type": "code",
   "execution_count": 40,
   "id": "4ea7840b-419b-4b7f-b348-3aaaa4efd948",
   "metadata": {},
   "outputs": [],
   "source": [
    "df2.weapon[df2.weapon.str.contains('unknown|undetermined|unclear')] = 'undetermined'"
   ]
  },
  {
   "cell_type": "code",
   "execution_count": 41,
   "id": "1859d1bd-0873-4407-bd3b-98b5d25de1a6",
   "metadata": {},
   "outputs": [],
   "source": [
    "df2.threat.fillna('undetermined', inplace=True)\n",
    "df2.threat[df2.threat.str.contains('None|Other|none|other')] = 'undetermined'"
   ]
  },
  {
   "cell_type": "code",
   "execution_count": 42,
   "id": "21d7c902-5969-48ac-9443-9873be5655af",
   "metadata": {},
   "outputs": [
    {
     "data": {
      "text/plain": [
       "undetermined    4801\n",
       "attack          4315\n",
       "Name: threat, dtype: int64"
      ]
     },
     "execution_count": 42,
     "metadata": {},
     "output_type": "execute_result"
    }
   ],
   "source": [
    "df2.threat.value_counts()"
   ]
  },
  {
   "cell_type": "code",
   "execution_count": 43,
   "id": "104d74fb-bb3c-4667-9adb-23f38dbfb58c",
   "metadata": {},
   "outputs": [],
   "source": [
    "df2.fleeing = df2.fleeing.str.lower()"
   ]
  },
  {
   "cell_type": "code",
   "execution_count": 44,
   "id": "703a9e81-1adc-48de-8825-6dff2b342e18",
   "metadata": {},
   "outputs": [
    {
     "data": {
      "text/plain": [
       "not fleeing    4005\n",
       "car            1011\n",
       "foot            817\n",
       "other           203\n",
       "Name: fleeing, dtype: int64"
      ]
     },
     "execution_count": 44,
     "metadata": {},
     "output_type": "execute_result"
    }
   ],
   "source": [
    "df2.fleeing.value_counts()"
   ]
  },
  {
   "cell_type": "code",
   "execution_count": 45,
   "id": "4979021c-10b7-441d-bd56-e27fa3a00873",
   "metadata": {},
   "outputs": [
    {
     "data": {
      "text/plain": [
       "array(['yes', 'no', nan, 'No', 'Yes', 'surveillance video',\n",
       "       'cell phone video', 'Surveillance video', 'Dashcam Video',\n",
       "       'Surveillance Video', 'Bystander Video', 'Dashcam video'],\n",
       "      dtype=object)"
      ]
     },
     "execution_count": 45,
     "metadata": {},
     "output_type": "execute_result"
    }
   ],
   "source": [
    "df2.body_cam.unique()"
   ]
  },
  {
   "cell_type": "code",
   "execution_count": 46,
   "id": "3dafe2db-39e2-4030-b9d3-e6a9d6256e65",
   "metadata": {},
   "outputs": [],
   "source": [
    "df2.body_cam = df2.body_cam.str.lower()"
   ]
  },
  {
   "cell_type": "code",
   "execution_count": 47,
   "id": "4143b913-a2cc-4fc6-8bb1-d580a00f5b49",
   "metadata": {},
   "outputs": [],
   "source": [
    "df2.body_cam.replace(' video', '', regex=True, inplace=True)"
   ]
  },
  {
   "cell_type": "code",
   "execution_count": 48,
   "id": "0884c447-7454-42b4-a043-98ecd8fff3ca",
   "metadata": {},
   "outputs": [
    {
     "data": {
      "text/plain": [
       "no              5286\n",
       "yes              658\n",
       "surveillance       8\n",
       "bystander          4\n",
       "dashcam            3\n",
       "cell phone         1\n",
       "Name: body_cam, dtype: int64"
      ]
     },
     "execution_count": 48,
     "metadata": {},
     "output_type": "execute_result"
    }
   ],
   "source": [
    "df2.body_cam.value_counts()"
   ]
  },
  {
   "cell_type": "code",
   "execution_count": 49,
   "id": "100e0a90-44d9-4f2d-84a5-f1f021043166",
   "metadata": {},
   "outputs": [],
   "source": [
    "df2.off_duty = df2.off_duty.str.lower()"
   ]
  },
  {
   "cell_type": "code",
   "execution_count": 50,
   "id": "88f22339-27a8-4ee9-a782-f82b50048e72",
   "metadata": {},
   "outputs": [],
   "source": [
    "df2.encounter_type = df2.encounter_type.str.replace('Part 1 ', '')"
   ]
  },
  {
   "cell_type": "code",
   "execution_count": 51,
   "id": "cbe76552-0631-455d-9ca3-0e2527319d43",
   "metadata": {},
   "outputs": [],
   "source": [
    "df2.encounter_type = df2.encounter_type.str.lower()"
   ]
  },
  {
   "cell_type": "code",
   "execution_count": 68,
   "id": "148d7f5e-b3de-4d44-9cd3-04965e170b3a",
   "metadata": {},
   "outputs": [],
   "source": [
    "df2.encounter_type = df2.encounter_type.replace('.*[dD]omestic\\s[dD]istu.*bance.*', 'domestic disturbance', regex=True)\n",
    "df2.encounter_type =  df2.encounter_type.replace('.*none*', np.nan, regex=True)"
   ]
  },
  {
   "cell_type": "code",
   "execution_count": 69,
   "id": "0f06eafb-e400-4bf6-9a44-a23076d186d6",
   "metadata": {},
   "outputs": [],
   "source": [
    "df2.encounter_type =  df2.encounter_type.replace('.*person.*with.*weapon.*', 'person with a weapon', regex=True)"
   ]
  },
  {
   "cell_type": "code",
   "execution_count": 71,
   "id": "303f39a4-37c8-4df0-a68f-9451e9c61a50",
   "metadata": {},
   "outputs": [],
   "source": [
    "df2.encounter_type =  df2.encounter_type.replace('.*violent crime.*', 'violent crime', regex=True)"
   ]
  },
  {
   "cell_type": "code",
   "execution_count": 74,
   "id": "67dd8bfd-8b62-4f70-a73d-6abf8cda46de",
   "metadata": {},
   "outputs": [],
   "source": [
    "df = df2.copy()"
   ]
  },
  {
   "cell_type": "code",
   "execution_count": 82,
   "id": "0fbcadeb-ce4b-400d-8e25-e652ac6ecfa7",
   "metadata": {},
   "outputs": [
    {
     "data": {
      "text/plain": [
       "1459"
      ]
     },
     "execution_count": 82,
     "metadata": {},
     "output_type": "execute_result"
    }
   ],
   "source": [
    "df.encounter_reason.unique().size"
   ]
  },
  {
   "cell_type": "code",
   "execution_count": 86,
   "id": "7ba9be41-a882-4eec-8a67-6bd6e1ec326e",
   "metadata": {},
   "outputs": [],
   "source": [
    "df.to_csv('../data/Visualizing inequity - 2013-2020 Police Killings_Cleaned.csv', index=False)"
   ]
  },
  {
   "cell_type": "code",
   "execution_count": null,
   "id": "158e9d60-9f4a-476e-8f5e-c8d5066e74e4",
   "metadata": {},
   "outputs": [],
   "source": []
  }
 ],
 "metadata": {
  "kernelspec": {
   "display_name": "Python 3 (ipykernel)",
   "language": "python",
   "name": "python3"
  },
  "language_info": {
   "codemirror_mode": {
    "name": "ipython",
    "version": 3
   },
   "file_extension": ".py",
   "mimetype": "text/x-python",
   "name": "python",
   "nbconvert_exporter": "python",
   "pygments_lexer": "ipython3",
   "version": "3.8.11"
  }
 },
 "nbformat": 4,
 "nbformat_minor": 5
}
