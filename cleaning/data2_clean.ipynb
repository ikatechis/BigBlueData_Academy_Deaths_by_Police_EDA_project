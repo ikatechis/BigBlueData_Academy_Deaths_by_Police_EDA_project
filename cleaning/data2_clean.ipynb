{
 "cells": [
  {
   "cell_type": "code",
   "execution_count": 1,
   "id": "0ce1def2-bab2-4e40-b8d0-781f5db3496e",
   "metadata": {
    "tags": []
   },
   "outputs": [],
   "source": [
    "import pandas as pd\n",
    "import numpy as np\n",
    "\n",
    "pd.set_option('display.max_rows', None)\n",
    "pd.set_option('display.max_colwidth', 10)"
   ]
  },
  {
   "cell_type": "code",
   "execution_count": 37,
   "id": "04379517-9314-4bb1-877e-87de2a1b9bbb",
   "metadata": {},
   "outputs": [],
   "source": [
    "dataset2 = 'data/Visualizing inequity - 2013-2020 Police Killings.csv'"
   ]
  },
  {
   "cell_type": "code",
   "execution_count": 38,
   "id": "22e5e889-f360-4ad6-9ba2-2d2e4e742c62",
   "metadata": {},
   "outputs": [],
   "source": [
    "raw2 = pd.read_csv(dataset2)\n",
    "df2 = raw2.copy()"
   ]
  },
  {
   "cell_type": "code",
   "execution_count": 39,
   "id": "8a5abc5f-16c3-43f9-b517-73806d508294",
   "metadata": {},
   "outputs": [
    {
     "data": {
      "text/html": [
       "<div>\n",
       "<style scoped>\n",
       "    .dataframe tbody tr th:only-of-type {\n",
       "        vertical-align: middle;\n",
       "    }\n",
       "\n",
       "    .dataframe tbody tr th {\n",
       "        vertical-align: top;\n",
       "    }\n",
       "\n",
       "    .dataframe thead th {\n",
       "        text-align: right;\n",
       "    }\n",
       "</style>\n",
       "<table border=\"1\" class=\"dataframe\">\n",
       "  <thead>\n",
       "    <tr style=\"text-align: right;\">\n",
       "      <th></th>\n",
       "      <th>Victim's name</th>\n",
       "      <th>Victim's age</th>\n",
       "      <th>Victim's gender</th>\n",
       "      <th>Victim's race</th>\n",
       "      <th>URL of image of victim</th>\n",
       "      <th>Date of Incident (month/day/year)</th>\n",
       "      <th>Street Address of Incident</th>\n",
       "      <th>City</th>\n",
       "      <th>State</th>\n",
       "      <th>Zipcode</th>\n",
       "      <th>County</th>\n",
       "      <th>Agency responsible for death</th>\n",
       "      <th>ORI Agency Identifier (if available)</th>\n",
       "      <th>Cause of death</th>\n",
       "      <th>A brief description of the circumstances surrounding the death</th>\n",
       "      <th>Official disposition of death (justified or other)</th>\n",
       "      <th>Criminal Charges?</th>\n",
       "      <th>Link to news article or photo of official document</th>\n",
       "      <th>Symptoms of mental illness?</th>\n",
       "      <th>Armed/Unarmed Status</th>\n",
       "      <th>Alleged Weapon (Source: WaPo and Review of Cases Not Included in WaPo Database)</th>\n",
       "      <th>Alleged Threat Level (Source: WaPo)</th>\n",
       "      <th>Fleeing (Source: WaPo)</th>\n",
       "      <th>Body Camera (Source: WaPo)</th>\n",
       "      <th>WaPo ID (If included in WaPo database)</th>\n",
       "      <th>Off-Duty Killing?</th>\n",
       "      <th>Geography (via Trulia methodology based on zipcode population density: http://jedkolko.com/wp-content/uploads/2015/05/full-ZCTA-urban-suburban-rural-classification.xlsx )</th>\n",
       "      <th>MPV ID</th>\n",
       "      <th>Fatal Encounters ID</th>\n",
       "      <th>Encounter Type (DRAFT)</th>\n",
       "      <th>Initial Reported Reason for Encounter (DRAFT)</th>\n",
       "      <th>Names of Officers Involved (DRAFT)</th>\n",
       "      <th>Race of Officers Involved (DRAFT)</th>\n",
       "      <th>Known Past Shootings of Officer(s) (DRAFT)</th>\n",
       "      <th>Call for Service? (DRAFT)</th>\n",
       "    </tr>\n",
       "  </thead>\n",
       "  <tbody>\n",
       "    <tr>\n",
       "      <th>0</th>\n",
       "      <td>Richar...</td>\n",
       "      <td>34</td>\n",
       "      <td>Male</td>\n",
       "      <td>White</td>\n",
       "      <td>NaN</td>\n",
       "      <td>4/24/2021</td>\n",
       "      <td>NaN</td>\n",
       "      <td>Los An...</td>\n",
       "      <td>CA</td>\n",
       "      <td>NaN</td>\n",
       "      <td>NaN</td>\n",
       "      <td>Los An...</td>\n",
       "      <td>CA0194200</td>\n",
       "      <td>Gunshot</td>\n",
       "      <td>Solitr...</td>\n",
       "      <td>Pendin...</td>\n",
       "      <td>No kno...</td>\n",
       "      <td>https:...</td>\n",
       "      <td>Yes</td>\n",
       "      <td>Unarme...</td>\n",
       "      <td>no object</td>\n",
       "      <td>other</td>\n",
       "      <td>not fl...</td>\n",
       "      <td>yes</td>\n",
       "      <td>6804.0</td>\n",
       "      <td>NaN</td>\n",
       "      <td>NaN</td>\n",
       "      <td>NaN</td>\n",
       "      <td>NaN</td>\n",
       "      <td>Traffi...</td>\n",
       "      <td>cut of...</td>\n",
       "      <td>NaN</td>\n",
       "      <td>NaN</td>\n",
       "      <td>NaN</td>\n",
       "      <td>No</td>\n",
       "    </tr>\n",
       "    <tr>\n",
       "      <th>1</th>\n",
       "      <td>Marvin...</td>\n",
       "      <td>32</td>\n",
       "      <td>Male</td>\n",
       "      <td>Unknow...</td>\n",
       "      <td>NaN</td>\n",
       "      <td>4/24/2021</td>\n",
       "      <td>NaN</td>\n",
       "      <td>Nashville</td>\n",
       "      <td>TN</td>\n",
       "      <td>NaN</td>\n",
       "      <td>NaN</td>\n",
       "      <td>Metrop...</td>\n",
       "      <td>TN0190100</td>\n",
       "      <td>Gunshot</td>\n",
       "      <td>Office...</td>\n",
       "      <td>Pendin...</td>\n",
       "      <td>No kno...</td>\n",
       "      <td>https:...</td>\n",
       "      <td>No</td>\n",
       "      <td>Allege...</td>\n",
       "      <td>knife</td>\n",
       "      <td>other</td>\n",
       "      <td>not fl...</td>\n",
       "      <td>yes</td>\n",
       "      <td>6802.0</td>\n",
       "      <td>NaN</td>\n",
       "      <td>NaN</td>\n",
       "      <td>NaN</td>\n",
       "      <td>NaN</td>\n",
       "      <td>Traffi...</td>\n",
       "      <td>traffi...</td>\n",
       "      <td>Christ...</td>\n",
       "      <td>NaN</td>\n",
       "      <td>NaN</td>\n",
       "      <td>No</td>\n",
       "    </tr>\n",
       "  </tbody>\n",
       "</table>\n",
       "</div>"
      ],
      "text/plain": [
       "  Victim's name Victim's age Victim's gender Victim's race URL of image of victim Date of Incident (month/day/year) Street Address of Incident       City State  Zipcode County Agency responsible for death ORI Agency Identifier (if available) Cause of death A brief description of the circumstances surrounding the death Official disposition of death (justified or other) Criminal Charges? Link to news article or photo of official document Symptoms of mental illness? Armed/Unarmed Status Alleged Weapon (Source: WaPo and Review of Cases Not Included in WaPo Database) Alleged Threat Level (Source: WaPo) Fleeing (Source: WaPo) Body Camera (Source: WaPo)  WaPo ID (If included in WaPo database) Off-Duty Killing? Geography (via Trulia methodology based on zipcode population density: http://jedkolko.com/wp-content/uploads/2015/05/full-ZCTA-urban-suburban-rural-classification.xlsx )  MPV ID  Fatal Encounters ID Encounter Type (DRAFT) Initial Reported Reason for Encounter (DRAFT) Names of Officers Involved (DRAFT) Race of Officers Involved (DRAFT) Known Past Shootings of Officer(s) (DRAFT) Call for Service? (DRAFT)\n",
       "0  Richar...            34         Male           White           NaN              4/24/2021                               NaN                  Los An...    CA      NaN    NaN  Los An...                    CA0194200                              Gunshot      Solitr...                                                      Pendin...                                          No kno...         https:...                                                Yes                   Unarme...            no object                                                                           other                           not fl...                    yes                     6804.0                                     NaN               NaN                                                                                                                                                                     NaN        NaN            Traffi...              cut of...                                           NaN                                NaN                               NaN                                         No               \n",
       "1  Marvin...            32         Male       Unknow...           NaN              4/24/2021                               NaN                  Nashville    TN      NaN    NaN  Metrop...                    TN0190100                              Gunshot      Office...                                                      Pendin...                                          No kno...         https:...                                                 No                   Allege...                knife                                                                           other                           not fl...                    yes                     6802.0                                     NaN               NaN                                                                                                                                                                     NaN        NaN            Traffi...              traffi...                                     Christ...                                NaN                               NaN                                         No               "
      ]
     },
     "execution_count": 39,
     "metadata": {},
     "output_type": "execute_result"
    }
   ],
   "source": [
    "df2.head(2)"
   ]
  },
  {
   "cell_type": "code",
   "execution_count": 40,
   "id": "7b325949-c0af-498b-8e39-6643b3183970",
   "metadata": {},
   "outputs": [
    {
     "name": "stdout",
     "output_type": "stream",
     "text": [
      "<class 'pandas.core.frame.DataFrame'>\n",
      "RangeIndex: 9116 entries, 0 to 9115\n",
      "Data columns (total 35 columns):\n",
      " #   Column                                                                                                                                                                      Non-Null Count  Dtype  \n",
      "---  ------                                                                                                                                                                      --------------  -----  \n",
      " 0   Victim's name                                                                                                                                                               9116 non-null   object \n",
      " 1   Victim's age                                                                                                                                                                9106 non-null   object \n",
      " 2   Victim's gender                                                                                                                                                             9106 non-null   object \n",
      " 3   Victim's race                                                                                                                                                               9116 non-null   object \n",
      " 4   URL of image of victim                                                                                                                                                      4860 non-null   object \n",
      " 5   Date of Incident (month/day/year)                                                                                                                                           9116 non-null   object \n",
      " 6   Street Address of Incident                                                                                                                                                  9003 non-null   object \n",
      " 7   City                                                                                                                                                                        9107 non-null   object \n",
      " 8   State                                                                                                                                                                       9116 non-null   object \n",
      " 9   Zipcode                                                                                                                                                                     9062 non-null   float64\n",
      " 10  County                                                                                                                                                                      9091 non-null   object \n",
      " 11  Agency responsible for death                                                                                                                                                9110 non-null   object \n",
      " 12  ORI Agency Identifier (if available)                                                                                                                                        9112 non-null   object \n",
      " 13  Cause of death                                                                                                                                                              9116 non-null   object \n",
      " 14  A brief description of the circumstances surrounding the death                                                                                                              9101 non-null   object \n",
      " 15  Official disposition of death (justified or other)                                                                                                                          9105 non-null   object \n",
      " 16  Criminal Charges?                                                                                                                                                           9116 non-null   object \n",
      " 17  Link to news article or photo of official document                                                                                                                          9116 non-null   object \n",
      " 18  Symptoms of mental illness?                                                                                                                                                 9056 non-null   object \n",
      " 19  Armed/Unarmed Status                                                                                                                                                        9116 non-null   object \n",
      " 20  Alleged Weapon (Source: WaPo and Review of Cases Not Included in WaPo Database)                                                                                             9116 non-null   object \n",
      " 21  Alleged Threat Level (Source: WaPo)                                                                                                                                         6725 non-null   object \n",
      " 22  Fleeing (Source: WaPo)                                                                                                                                                      6036 non-null   object \n",
      " 23  Body Camera (Source: WaPo)                                                                                                                                                  5960 non-null   object \n",
      " 24  WaPo ID (If included in WaPo database)                                                                                                                                      6026 non-null   float64\n",
      " 25  Off-Duty Killing?                                                                                                                                                           248 non-null    object \n",
      " 26  Geography (via Trulia methodology based on zipcode population density: http://jedkolko.com/wp-content/uploads/2015/05/full-ZCTA-urban-suburban-rural-classification.xlsx )  9085 non-null   object \n",
      " 27  MPV ID                                                                                                                                                                      9068 non-null   float64\n",
      " 28  Fatal Encounters ID                                                                                                                                                         8980 non-null   float64\n",
      " 29  Encounter Type (DRAFT)                                                                                                                                                      4808 non-null   object \n",
      " 30  Initial Reported Reason for Encounter (DRAFT)                                                                                                                               4808 non-null   object \n",
      " 31  Names of Officers Involved (DRAFT)                                                                                                                                          1389 non-null   object \n",
      " 32  Race of Officers Involved (DRAFT)                                                                                                                                           340 non-null    object \n",
      " 33  Known Past Shootings of Officer(s) (DRAFT)                                                                                                                                  74 non-null     object \n",
      " 34  Call for Service? (DRAFT)                                                                                                                                                   3585 non-null   object \n",
      "dtypes: float64(4), object(31)\n",
      "memory usage: 2.4+ MB\n"
     ]
    }
   ],
   "source": [
    "df2.info()\n"
   ]
  },
  {
   "cell_type": "code",
   "execution_count": 41,
   "id": "6dc3f2cf-bb7c-4109-862f-7c2fffa2ec96",
   "metadata": {},
   "outputs": [
    {
     "name": "stdout",
     "output_type": "stream",
     "text": [
      "Victim's name\n",
      "Victim's age\n",
      "Victim's gender\n",
      "Victim's race\n",
      "URL of image of victim\n",
      "Date of Incident (month/day/year)\n",
      "Street Address of Incident\n",
      "City\n",
      "State\n",
      "Zipcode\n",
      "County\n",
      "Agency responsible for death\n",
      "ORI Agency Identifier (if available)\n",
      "Cause of death\n",
      "A brief description of the circumstances surrounding the death\n",
      "Official disposition of death (justified or other)\n",
      "Criminal Charges?\n",
      "Link to news article or photo of official document\n",
      "Symptoms of mental illness?\n",
      "Armed/Unarmed Status\n",
      "Alleged Weapon (Source: WaPo and Review of Cases Not Included in WaPo Database)\n",
      "Alleged Threat Level (Source: WaPo)\n",
      "Fleeing (Source: WaPo)\n",
      "Body Camera (Source: WaPo)\n",
      "WaPo ID (If included in WaPo database)\n",
      "Off-Duty Killing?\n",
      "Geography (via Trulia methodology based on zipcode population density: http://jedkolko.com/wp-content/uploads/2015/05/full-ZCTA-urban-suburban-rural-classification.xlsx )\n",
      "MPV ID\n",
      "Fatal Encounters ID\n",
      "Encounter Type (DRAFT)\n",
      "Initial Reported Reason for Encounter (DRAFT)\n",
      "Names of Officers Involved (DRAFT)\n",
      "Race of Officers Involved (DRAFT)\n",
      "Known Past Shootings of Officer(s) (DRAFT)\n",
      "Call for Service? (DRAFT)\n"
     ]
    }
   ],
   "source": [
    "pd.Series(df2.columns).map(print)\n",
    "None"
   ]
  },
  {
   "cell_type": "code",
   "execution_count": 42,
   "id": "2328ee08-d971-4c85-8e68-c68e11c92b47",
   "metadata": {},
   "outputs": [],
   "source": [
    "# Rename columns to more convenient names\n",
    "col_renames = {\"Victim's name\": 'name', \n",
    "               \"Victim's age\": 'age',\n",
    "           \"Victim's gender\": 'gender', \n",
    "           \"Victim's race\": 'race',\n",
    "           \"URL of image of victim\": 'image_url', \n",
    "           \"Date of Incident (month/day/year)\": 'date',\n",
    "            \"City\": 'city', \"State\": 'state', \"Zipcode\": 'zip', \"County\": 'county',\n",
    "           \"Street Address of Incident\": 'address',\n",
    "           'Agency responsible for death': 'agency', \n",
    "           \"ORI Agency Identifier (if available)\": 'agency_id',\n",
    "           \"Cause of death\": 'death_cause',\n",
    "           \"A brief description of the circumstances surrounding the death\": 'desription',\n",
    "           \"Official disposition of death (justified or other)\": 'disposition',\n",
    "           'Criminal Charges?': 'charges',\n",
    "           \"Link to news article or photo of official document\": 'link',\n",
    "           \"Symptoms of mental illness?\": 'mental_symptoms',\n",
    "           \"Armed/Unarmed Status\": 'armed',\n",
    "           \"Alleged Weapon (Source: WaPo and Review of Cases Not Included in WaPo Database)\": 'weapon',\n",
    "           \"Alleged Threat Level (Source: WaPo)\": 'threat',\n",
    "           'Fleeing (Source: WaPo)': 'fleeing',\n",
    "           'Body Camera (Source: WaPo)': 'body_cam',\n",
    "           \"WaPo ID (If included in WaPo database)\": 'WaPo_id',\n",
    "           \"Off-Duty Killing?\": 'off_duty',\n",
    "           'Geography (via Trulia methodology based on zipcode population density: http://jedkolko.com/wp-content/uploads/2015/05/full-ZCTA-urban-suburban-rural-classification.xlsx )': 'geography',\n",
    "           \"MPV ID\": 'mpv_id',\n",
    "           \"Fatal Encounters ID\": 'fatal_encounters_id',\n",
    "           \"Encounter Type (DRAFT)\": 'encounter_type',\n",
    "           \"Initial Reported Reason for Encounter (DRAFT)\": 'encounter_reason',\n",
    "           \"Names of Officers Involved (DRAFT)\": 'officer_names',\n",
    "           \"Race of Officers Involved (DRAFT)\": 'officers_race',\n",
    "           \"Known Past Shootings of Officer(s) (DRAFT)\": 'off_past_shootings',\n",
    "          \"Call for Service? (DRAFT)\": 'service_call'\n",
    "          }\n",
    "\n",
    "df2.rename(columns=col_renames, inplace=True)\n"
   ]
  },
  {
   "cell_type": "code",
   "execution_count": 43,
   "id": "42cb2db0-c6e2-4acd-857b-142c6caaab6e",
   "metadata": {},
   "outputs": [
    {
     "name": "stdout",
     "output_type": "stream",
     "text": [
      "<class 'pandas.core.frame.DataFrame'>\n",
      "RangeIndex: 9116 entries, 0 to 9115\n",
      "Data columns (total 35 columns):\n",
      " #   Column               Non-Null Count  Dtype  \n",
      "---  ------               --------------  -----  \n",
      " 0   name                 9116 non-null   object \n",
      " 1   age                  9106 non-null   object \n",
      " 2   gender               9106 non-null   object \n",
      " 3   race                 9116 non-null   object \n",
      " 4   image_url            4860 non-null   object \n",
      " 5   date                 9116 non-null   object \n",
      " 6   address              9003 non-null   object \n",
      " 7   city                 9107 non-null   object \n",
      " 8   state                9116 non-null   object \n",
      " 9   zip                  9062 non-null   float64\n",
      " 10  county               9091 non-null   object \n",
      " 11  agency               9110 non-null   object \n",
      " 12  agency_id            9112 non-null   object \n",
      " 13  death_cause          9116 non-null   object \n",
      " 14  desription           9101 non-null   object \n",
      " 15  disposition          9105 non-null   object \n",
      " 16  charges              9116 non-null   object \n",
      " 17  link                 9116 non-null   object \n",
      " 18  mental_symptoms      9056 non-null   object \n",
      " 19  armed                9116 non-null   object \n",
      " 20  weapon               9116 non-null   object \n",
      " 21  threat               6725 non-null   object \n",
      " 22  fleeing              6036 non-null   object \n",
      " 23  body_cam             5960 non-null   object \n",
      " 24  WaPo_id              6026 non-null   float64\n",
      " 25  off_duty             248 non-null    object \n",
      " 26  geography            9085 non-null   object \n",
      " 27  mpv_id               9068 non-null   float64\n",
      " 28  fatal_encounters_id  8980 non-null   float64\n",
      " 29  encounter_type       4808 non-null   object \n",
      " 30  encounter_reason     4808 non-null   object \n",
      " 31  officer_names        1389 non-null   object \n",
      " 32  officers_race        340 non-null    object \n",
      " 33  off_past_shootings   74 non-null     object \n",
      " 34  service_call         3585 non-null   object \n",
      "dtypes: float64(4), object(31)\n",
      "memory usage: 2.4+ MB\n"
     ]
    }
   ],
   "source": [
    "df2.info()"
   ]
  },
  {
   "cell_type": "code",
   "execution_count": 44,
   "id": "1f294a42-9177-4c0f-b4b4-99980ac02c9c",
   "metadata": {},
   "outputs": [],
   "source": [
    "# age col from tring to numeric\n",
    "df2.age = pd.to_numeric(df2.age, downcast='integer', errors='coerce')"
   ]
  },
  {
   "cell_type": "code",
   "execution_count": 45,
   "id": "7b4a9e7a-512f-4bbd-b355-81c7bca08464",
   "metadata": {},
   "outputs": [],
   "source": [
    "# strip all string columns\n",
    "df_obj = df2.select_dtypes(['object'])\n",
    "df2[df_obj.columns] = df_obj.apply(lambda s: s.str.strip())"
   ]
  },
  {
   "cell_type": "code",
   "execution_count": 46,
   "id": "2c670fa2-ff10-450f-8396-a760c75974f4",
   "metadata": {},
   "outputs": [],
   "source": [
    "df2.gender = df2.gender.str.lower()"
   ]
  },
  {
   "cell_type": "code",
   "execution_count": 47,
   "id": "c195729d-697b-438c-898b-79614c3af432",
   "metadata": {},
   "outputs": [],
   "source": [
    "df2.gender[df2.gender == 'unknown'] = np.nan\n",
    "df2.gender[df2.gender == 'transgender'] = 'trans'"
   ]
  },
  {
   "cell_type": "code",
   "execution_count": 48,
   "id": "2d122cd3-36d0-47d2-aff5-62978abccdd6",
   "metadata": {},
   "outputs": [
    {
     "data": {
      "text/plain": [
       "array(['white', 'unknown race', 'black', 'hispanic',\n",
       "       'asian/pacific islander', 'native american', 'pacific islander',\n",
       "       'asian'], dtype=object)"
      ]
     },
     "execution_count": 48,
     "metadata": {},
     "output_type": "execute_result"
    }
   ],
   "source": [
    "df2.race = df2.race.str.lower()\n",
    "df2.race.unique()"
   ]
  },
  {
   "cell_type": "code",
   "execution_count": 49,
   "id": "d1c1506e-f9d2-4bc0-ba74-98f46b9399d4",
   "metadata": {},
   "outputs": [],
   "source": [
    "df2.race[df2.race == 'unknown race'] = np.nan"
   ]
  },
  {
   "cell_type": "code",
   "execution_count": 50,
   "id": "11004837-e73b-4d89-8247-fddbc619e572",
   "metadata": {},
   "outputs": [],
   "source": [
    "df2.date = pd.to_datetime(df2.date)\n",
    "df2.zip = df2.zip.fillna(0).astype(int)"
   ]
  },
  {
   "cell_type": "code",
   "execution_count": 51,
   "id": "0baebca7-4e31-497b-98bf-dc2631c7083e",
   "metadata": {},
   "outputs": [],
   "source": [
    "# cast the death couses into fewer categories\n",
    "df2.death_cause = df2.death_cause.str.lower()"
   ]
  },
  {
   "cell_type": "code",
   "execution_count": 55,
   "id": "94691cb4-eea3-4b27-8565-a1022e1af2d4",
   "metadata": {},
   "outputs": [],
   "source": [
    "causes_id = {\n",
    "        'gunshot': '1',\n",
    "        'restraint': '2',\n",
    "        'taser': '3',\n",
    "        'vehicle': '4',\n",
    "        'chemical': '5',\n",
    "        'beaten': '6',\n",
    "        'beanbag': '7',\n",
    "        'dog': '8',\n",
    "        'asphyxia': '9',\n",
    "        'bomb': 'a',\n",
    "        'baton': 'b',\n",
    "        'stabbed': 'c',\n",
    "        'unspecified': '0'\n",
    "}"
   ]
  },
  {
   "cell_type": "code",
   "execution_count": 79,
   "id": "4d8b96fa-bc45-49c0-8ebf-3aee462abc70",
   "metadata": {},
   "outputs": [],
   "source": [
    "causes = df2.death_cause.str.replace(',', '').str.split(r'[\\s\\\\]', expand=True)"
   ]
  },
  {
   "cell_type": "code",
   "execution_count": 80,
   "id": "151c6607-c246-4891-854c-caaec2adf080",
   "metadata": {},
   "outputs": [
    {
     "data": {
      "text/plain": [
       "array(['gunshot', 'physical restraint', 'gunshot, taser', 'vehicle',\n",
       "       'taser', 'other', 'tasered', 'chemical agent/pepper spray',\n",
       "       'beaten', 'beaten/bludgeoned with instrument',\n",
       "       'gunshot, beanbag gun', 'gunshot, police dog',\n",
       "       'gunshot, bean bag gun', 'gunshot, pepper spray', 'bean bag',\n",
       "       'gunshot, taser, baton', 'gunshot, taser, beanbag shotgun',\n",
       "       'pepper spray', 'asphyxiated',\n",
       "       'gunshot, unspecified less lethal weapon', 'taser, baton', 'bomb',\n",
       "       'taser, physical restraint',\n",
       "       'baton, pepper spray, physical restraint', 'gunshot, vehicle',\n",
       "       'gunshot, stabbed', 'gunshot, taser, pepper spray',\n",
       "       'taser, pepper spray, beaten', 'taser, beaten'], dtype=object)"
      ]
     },
     "execution_count": 80,
     "metadata": {},
     "output_type": "execute_result"
    }
   ],
   "source": [
    "df2.death_cause.unique()"
   ]
  },
  {
   "cell_type": "code",
   "execution_count": 84,
   "id": "ab58372c-dc2d-43a4-96ea-f31d223749b7",
   "metadata": {},
   "outputs": [
    {
     "name": "stdout",
     "output_type": "stream",
     "text": [
      "['gunshot' 'physical' 'vehicle' 'taser' 'other' 'tasered' 'chemical'\n",
      " 'beaten' 'beaten/bludgeoned' 'bean' 'pepper' 'asphyxiated' 'bomb' 'baton']\n",
      "[None 'restraint' 'taser' 'agent/pepper' 'with' 'beanbag' 'police' 'bean'\n",
      " 'pepper' 'bag' 'spray' 'unspecified' 'baton' 'physical' 'vehicle'\n",
      " 'stabbed' 'beaten']\n",
      "[None 'spray' 'instrument' 'gun' 'dog' 'bag' 'baton' 'beanbag' 'less'\n",
      " 'restraint' 'pepper']\n",
      "[None 'gun' 'shotgun' 'lethal' 'physical' 'spray' 'beaten']\n",
      "[None 'weapon' 'restraint']\n"
     ]
    }
   ],
   "source": [
    "for col in causes:\n",
    "    print(causes[col].unique())"
   ]
  },
  {
   "cell_type": "code",
   "execution_count": 87,
   "id": "ad6406cc-59c4-43ca-bfa6-6d011e32251d",
   "metadata": {},
   "outputs": [
    {
     "ename": "AttributeError",
     "evalue": "'DataFrame' object has no attribute 'unique'",
     "output_type": "error",
     "traceback": [
      "\u001b[1;31m---------------------------------------------------------------------------\u001b[0m",
      "\u001b[1;31mAttributeError\u001b[0m                            Traceback (most recent call last)",
      "\u001b[1;32m~\\AppData\\Local\\Temp/ipykernel_8220/3896889712.py\u001b[0m in \u001b[0;36m<module>\u001b[1;34m\u001b[0m\n\u001b[0;32m      5\u001b[0m               \u001b[1;34m'shotgun'\u001b[0m\u001b[1;33m:\u001b[0m \u001b[0mnp\u001b[0m\u001b[1;33m.\u001b[0m\u001b[0mnan\u001b[0m\u001b[1;33m,\u001b[0m \u001b[1;34m'lethal'\u001b[0m\u001b[1;33m:\u001b[0m \u001b[0mnp\u001b[0m\u001b[1;33m.\u001b[0m\u001b[0mnan\u001b[0m\u001b[1;33m,\u001b[0m \u001b[1;34m'weapon'\u001b[0m\u001b[1;33m:\u001b[0m \u001b[1;34m'unspecified'\u001b[0m\u001b[1;33m,\u001b[0m \u001b[1;32mNone\u001b[0m\u001b[1;33m:\u001b[0m \u001b[0mnp\u001b[0m\u001b[1;33m.\u001b[0m\u001b[0mnan\u001b[0m\u001b[1;33m\u001b[0m\u001b[1;33m\u001b[0m\u001b[0m\n\u001b[0;32m      6\u001b[0m              }\n\u001b[1;32m----> 7\u001b[1;33m \u001b[0mcauses\u001b[0m\u001b[1;33m.\u001b[0m\u001b[0mreplace\u001b[0m\u001b[1;33m(\u001b[0m\u001b[0mto_replace\u001b[0m\u001b[1;33m)\u001b[0m\u001b[1;33m.\u001b[0m\u001b[0munique\u001b[0m\u001b[1;33m(\u001b[0m\u001b[1;33m)\u001b[0m\u001b[1;33m\u001b[0m\u001b[1;33m\u001b[0m\u001b[0m\n\u001b[0m",
      "\u001b[1;32m~\\anaconda3\\lib\\site-packages\\pandas\\core\\generic.py\u001b[0m in \u001b[0;36m__getattr__\u001b[1;34m(self, name)\u001b[0m\n\u001b[0;32m   5485\u001b[0m         ):\n\u001b[0;32m   5486\u001b[0m             \u001b[1;32mreturn\u001b[0m \u001b[0mself\u001b[0m\u001b[1;33m[\u001b[0m\u001b[0mname\u001b[0m\u001b[1;33m]\u001b[0m\u001b[1;33m\u001b[0m\u001b[1;33m\u001b[0m\u001b[0m\n\u001b[1;32m-> 5487\u001b[1;33m         \u001b[1;32mreturn\u001b[0m \u001b[0mobject\u001b[0m\u001b[1;33m.\u001b[0m\u001b[0m__getattribute__\u001b[0m\u001b[1;33m(\u001b[0m\u001b[0mself\u001b[0m\u001b[1;33m,\u001b[0m \u001b[0mname\u001b[0m\u001b[1;33m)\u001b[0m\u001b[1;33m\u001b[0m\u001b[1;33m\u001b[0m\u001b[0m\n\u001b[0m\u001b[0;32m   5488\u001b[0m \u001b[1;33m\u001b[0m\u001b[0m\n\u001b[0;32m   5489\u001b[0m     \u001b[1;32mdef\u001b[0m \u001b[0m__setattr__\u001b[0m\u001b[1;33m(\u001b[0m\u001b[0mself\u001b[0m\u001b[1;33m,\u001b[0m \u001b[0mname\u001b[0m\u001b[1;33m:\u001b[0m \u001b[0mstr\u001b[0m\u001b[1;33m,\u001b[0m \u001b[0mvalue\u001b[0m\u001b[1;33m)\u001b[0m \u001b[1;33m->\u001b[0m \u001b[1;32mNone\u001b[0m\u001b[1;33m:\u001b[0m\u001b[1;33m\u001b[0m\u001b[1;33m\u001b[0m\u001b[0m\n",
      "\u001b[1;31mAttributeError\u001b[0m: 'DataFrame' object has no attribute 'unique'"
     ]
    }
   ],
   "source": [
    "to_replace = {'physical': np.nan, 'other': 'unspecified', 'tasered': 'taser',\n",
    "             'beaten/bludgeoned': 'beaten', 'bean': 'beanbag', 'pepper': 'chemical',\n",
    "              'asphyxiated': 'asphyxia', 'agent/pepper': 'chemical', 'with': np.nan,\n",
    "              'police': np.nan, 'spray': np.nan, 'less': np.nan, 'gun': np.nan,\n",
    "              'shotgun': np.nan, 'lethal': np.nan, 'weapon': 'unspecified', None: np.nan,\n",
    "              'instrument': np.nan\n",
    "             }\n",
    "causes.replace(to_replace)"
   ]
  },
  {
   "cell_type": "code",
   "execution_count": 89,
   "id": "e45d6572-f9b6-438b-84e4-8d518613c50a",
   "metadata": {},
   "outputs": [
    {
     "name": "stdout",
     "output_type": "stream",
     "text": [
      "['gunshot' nan 'vehicle' 'taser' 'unspecified' 'chemical' 'beaten'\n",
      " 'beanbag' 'asphyxia' 'bomb' 'baton']\n",
      "[nan 'restraint' 'taser' 'chemical' 'beanbag' 'bag' 'unspecified' 'baton'\n",
      " 'vehicle' 'stabbed' 'beaten']\n",
      "[nan 'instrument' 'dog' 'bag' 'baton' 'beanbag' 'restraint' 'chemical']\n",
      "[nan 'beaten']\n",
      "[nan 'unspecified' 'restraint']\n"
     ]
    }
   ],
   "source": [
    "for col in causes.replace(to_replace):\n",
    "    print(causes.replace(to_replace)[col].unique())"
   ]
  },
  {
   "cell_type": "code",
   "execution_count": null,
   "id": "ef18e072-4721-4c18-bb6b-d869bac22608",
   "metadata": {},
   "outputs": [],
   "source": []
  }
 ],
 "metadata": {
  "kernelspec": {
   "display_name": "Python 3 (ipykernel)",
   "language": "python",
   "name": "python3"
  },
  "language_info": {
   "codemirror_mode": {
    "name": "ipython",
    "version": 3
   },
   "file_extension": ".py",
   "mimetype": "text/x-python",
   "name": "python",
   "nbconvert_exporter": "python",
   "pygments_lexer": "ipython3",
   "version": "3.8.11"
  }
 },
 "nbformat": 4,
 "nbformat_minor": 5
}
