{
 "cells": [
  {
   "cell_type": "code",
   "execution_count": 2,
   "id": "e50a50a2-9305-4189-9d29-0181d4148264",
   "metadata": {},
   "outputs": [],
   "source": [
    "# load libraries\n",
    "import numpy as np\n",
    "import pandas as pd\n",
    "from datetime import datetime\n",
    "#import matplotlib.pyplot as plt\n",
    "#import seaborn as sns"
   ]
  },
  {
   "cell_type": "code",
   "execution_count": 24,
   "id": "fd1d3fc0-214b-457d-84c4-cc8077fe0e98",
   "metadata": {},
   "outputs": [],
   "source": [
    "pd.set_option('display.max_rows', 50)\n",
    "pd.set_option('display.max_colwidth', 50)"
   ]
  },
  {
   "cell_type": "code",
   "execution_count": 4,
   "id": "8df436ab-59f0-4c09-a783-d1cfb9812e8e",
   "metadata": {},
   "outputs": [],
   "source": [
    "# Load data\n",
    "raw1 = pd.read_csv ('../data/Innocent Deaths caused by Police (All time).csv')"
   ]
  },
  {
   "cell_type": "code",
   "execution_count": 5,
   "id": "be8e1710-9f06-4e66-bc04-3522bc4715fc",
   "metadata": {},
   "outputs": [],
   "source": [
    "# make a copy to handle\n",
    "df = raw1.copy()"
   ]
  },
  {
   "cell_type": "code",
   "execution_count": 39,
   "id": "8a6a06b9-874e-4fd2-b7ca-08d8259a2a7c",
   "metadata": {},
   "outputs": [
    {
     "name": "stdout",
     "output_type": "stream",
     "text": [
      "<class 'pandas.core.frame.DataFrame'>\n",
      "RangeIndex: 30860 entries, 0 to 30859\n",
      "Data columns (total 29 columns):\n",
      " #   Column               Non-Null Count  Dtype         \n",
      "---  ------               --------------  -----         \n",
      " 0   name_key             30860 non-null  object        \n",
      " 1   name                 30860 non-null  object        \n",
      " 2   age                  29686 non-null  float64       \n",
      " 3   gender               30724 non-null  object        \n",
      " 4   race                 30860 non-null  object        \n",
      " 5   image_url            14355 non-null  object        \n",
      " 6   date                 30860 non-null  datetime64[ns]\n",
      " 7   address              30306 non-null  object        \n",
      " 8   city                 30822 non-null  object        \n",
      " 9   state                30860 non-null  object        \n",
      " 10  zipcode              30860 non-null  int32         \n",
      " 11  county               30845 non-null  object        \n",
      " 12  full_address         30860 non-null  object        \n",
      " 13  latitude             30859 non-null  float64       \n",
      " 14  longitude            30860 non-null  float64       \n",
      " 15  agency               30783 non-null  object        \n",
      " 16  force_level          30857 non-null  object        \n",
      " 17  weapon               13860 non-null  object        \n",
      " 18  aggressive_movement  13863 non-null  object        \n",
      " 19  fleeing              13863 non-null  object        \n",
      " 20  description_temp     842 non-null    object        \n",
      " 21  url_temp             3 non-null      object        \n",
      " 22  description          30859 non-null  object        \n",
      " 23  dispositions         30859 non-null  object        \n",
      " 24  intented_force       30858 non-null  object        \n",
      " 25  document_link        30859 non-null  object        \n",
      " 26  mental_illness       30799 non-null  object        \n",
      " 27  weapon_category      13860 non-null  object        \n",
      " 28  dispositions_cat     30859 non-null  object        \n",
      "dtypes: datetime64[ns](1), float64(3), int32(1), object(24)\n",
      "memory usage: 6.7+ MB\n"
     ]
    }
   ],
   "source": [
    "df.info()"
   ]
  },
  {
   "cell_type": "code",
   "execution_count": 6,
   "id": "b842e0c0-0a45-43b1-a108-8468a6515997",
   "metadata": {},
   "outputs": [],
   "source": [
    "#Change column names\n",
    "df.columns = ['id', 'name', 'age', 'gender', 'race', 'image_url',\n",
    "       'date','address', 'city', 'state',\n",
    "       'zipcode', 'county',\n",
    "       'full_address', 'latitude', 'longitude', 'agency',\n",
    "       'force_level', 'weapon',\n",
    "       'aggressive_movement', 'fleeing',\n",
    "       'description_temp', 'url_temp', 'description',\n",
    "       'dispositions',\n",
    "       'intented_force', 'document_link',\n",
    "       'mental_illness']"
   ]
  },
  {
   "cell_type": "code",
   "execution_count": 7,
   "id": "73e4e04c-6a6e-40b5-9d43-e6bf916199e4",
   "metadata": {},
   "outputs": [],
   "source": [
    "# age col from sring to numeric\n",
    "df.age = pd.to_numeric(df.age, downcast='integer', errors='coerce')"
   ]
  },
  {
   "cell_type": "code",
   "execution_count": 8,
   "id": "f7428a06-b088-467b-b1d8-07cc4ece8c22",
   "metadata": {},
   "outputs": [],
   "source": [
    "# date col to datetime\n",
    "df.date=pd.to_datetime(df.date)"
   ]
  },
  {
   "cell_type": "code",
   "execution_count": 9,
   "id": "277e5f71-3158-4ac4-b33c-e3301dc5888e",
   "metadata": {},
   "outputs": [],
   "source": [
    "# latitude col from sring to numeric\n",
    "df.latitude = pd.to_numeric(df.latitude, downcast='integer', errors='coerce')"
   ]
  },
  {
   "cell_type": "code",
   "execution_count": 10,
   "id": "aec1d6e6-5535-42f7-bbc6-243871e957df",
   "metadata": {},
   "outputs": [],
   "source": [
    "# nan zipcodes to 0\n",
    "df.zipcode = df.zipcode.fillna(0).astype(int)"
   ]
  },
  {
   "cell_type": "code",
   "execution_count": 11,
   "id": "ab62dbf4-c02f-47dc-a20b-dc8be3cf5725",
   "metadata": {},
   "outputs": [],
   "source": [
    "# strip all string columns\n",
    "df_obj = df.select_dtypes(['object'])\n",
    "df[df_obj.columns] = df_obj.apply(lambda s: s.str.strip())"
   ]
  },
  {
   "cell_type": "code",
   "execution_count": 12,
   "id": "f226fc18-1ac9-48b7-8e82-fa2a4df975be",
   "metadata": {},
   "outputs": [],
   "source": [
    "# race column fix\n",
    "df.race=df.race.replace('european-American/White','European-American/White')"
   ]
  },
  {
   "cell_type": "code",
   "execution_count": 13,
   "id": "dde1a7a8-57d2-4316-b43e-aa880621ff56",
   "metadata": {},
   "outputs": [],
   "source": [
    "# force_level column fix\n",
    "df.force_level=df.force_level.str.replace('.*Asphyx.*','Asphyxiated/Restrained', regex=True)"
   ]
  },
  {
   "cell_type": "code",
   "execution_count": 14,
   "id": "54f9f0fa-88c6-4af6-bc98-4f189d377056",
   "metadata": {
    "tags": []
   },
   "outputs": [],
   "source": [
    "# weapon column fix\n",
    "df.weapon=df.weapon.replace('Duplicate of 13419?', 'None')\n",
    "df.weapon=df.weapon.replace('Duplicate of 13457?', 'Vehicle')\n",
    "df.weapon=df.weapon.replace('Rifle', 'Firearm/Rifle')\n",
    "df.weapon=df.weapon.replace('Edged Weapon/Knife', 'Edged weapon/Knife')\n",
    "df.weapon=df.weapon.replace('Edged weapon/Ax', 'Edged weapon/Axe')\n",
    "df.weapon=df.weapon.replace('Stun Gun', 'Stun gun')\n",
    "df.weapon=df.weapon.replace('Edged Weapon/Large piece of metal', 'Edged weapon/Large piece of metal')\n",
    "df.weapon=df.weapon.replace('Edged Weapon/Kubotan', 'Edged weapon/Kubotan')\n",
    "df.weapon=df.weapon.replace('Armed', 'Firearm/Gun')"
   ]
  },
  {
   "cell_type": "code",
   "execution_count": 15,
   "id": "3bf197fd-5561-4306-817c-60035f5ffefe",
   "metadata": {},
   "outputs": [],
   "source": [
    "# create weapon_category column\n",
    "df['weapon_category']=df.weapon.str.split('/').str[0]"
   ]
  },
  {
   "cell_type": "code",
   "execution_count": 16,
   "id": "66121a30-3a78-41c8-a76a-d2949a1640c1",
   "metadata": {},
   "outputs": [],
   "source": [
    "# aggressive_movement column fix\n",
    "df.aggressive_movement=df.aggressive_movement.replace('None/Police alleged vehicular assault.', 'None/Police alleged vehicular assault')\n",
    "df.aggressive_movement=df.aggressive_movement.replace('None. Police alleged vehicular assault.', 'None/Police alleged vehicular assault')\n",
    "df.aggressive_movement=df.aggressive_movement.replace('Uncertain/Police alleged vehicular assault', 'None/Police alleged vehicular assault')\n",
    "df.aggressive_movement=df.aggressive_movement.replace('Advanced upon officer(s)', 'Advanced toward officer(s)')\n",
    "df.aggressive_movement=df.aggressive_movement.replace('Used Weapon', 'Used weapon')\n",
    "df.aggressive_movement=df.aggressive_movement.replace('Duplicate of 13457?', 'None')\n",
    "df.aggressive_movement=df.aggressive_movement.replace('None.', 'None')\n",
    "df.aggressive_movement=df.aggressive_movement.replace('Duplicate of 13419?', 'None/Police alleged vehicular assault')\n",
    "df.aggressive_movement=df.aggressive_movement.replace('Sudden Threatening Movement', 'Sudden threatening movement')\n",
    "df.aggressive_movement=df.aggressive_movement.replace('None/Police allege vehicular assault', 'None/Police alleged vehicular assault')\n",
    "df.aggressive_movement=df.aggressive_movement.replace('Police allege vehicular assault', 'None/Police alleged vehicular assault')\n",
    "df.aggressive_movement=df.aggressive_movement.replace('None/Police alleged vehicular assault', 'Police alleged vehicular assault')\n",
    "df.aggressive_movement=df.aggressive_movement.replace('Edged weapon/Unspecified', 'Brandished weapon')\n",
    "df.aggressive_movement=df.aggressive_movement.replace('Self-inflicted Injury', 'Self-inflicted injury')"
   ]
  },
  {
   "cell_type": "code",
   "execution_count": 17,
   "id": "c8b5f74e-0cdd-424b-b5f9-d2512680aafc",
   "metadata": {},
   "outputs": [],
   "source": [
    "# fleeing column fix\n",
    "df.fleeing=df.fleeing.replace('Duplicate of 13419?', 'Uncertain')\n",
    "df.fleeing=df.fleeing.replace('Duplicate of 13457?', 'Not fleeing')\n",
    "df.fleeing=df.fleeing.replace('Vehicle', 'Fleeing/Vehicle')\n",
    "df.fleeing=df.fleeing.replace('Vehicle/Fleeing', 'Fleeing/Vehicle')\n",
    "df.fleeing=df.fleeing.replace('Not Fleeing', 'Not fleeing')\n",
    "df.fleeing=df.fleeing.replace('Foot', 'Fleeing/Foot')\n",
    "df.fleeing=df.fleeing.replace('Motorcycle', 'Fleeing/Motorcycle')\n",
    "df.fleeing=df.fleeing.replace('Vehicle/Motorcycle', 'Fleeing/Motorcycle')\n",
    "df.fleeing=df.fleeing.replace('Fleeling/Vehicle', 'Fleeing/Vehicle')\n",
    "df.fleeing=df.fleeing.replace('Fleeing/Veh', 'Fleeing/Vehicle')\n",
    "df.fleeing=df.fleeing.replace('Uncertain/Police alleged vehicular assault', 'Not fleeing')\n",
    "df.fleeing=df.fleeing.replace('None', 'Not fleeing')\n",
    "df.fleeing=df.fleeing.replace('Fleeing/vehicle', 'Fleeing/Vehicle')"
   ]
  },
  {
   "cell_type": "code",
   "execution_count": 18,
   "id": "e876a272-7be6-4b33-9f38-e32e49ba90ac",
   "metadata": {},
   "outputs": [],
   "source": [
    "# create dispositions_cat column (copy dispositions)\n",
    "df['dispositions_cat']=df.dispositions.copy()"
   ]
  },
  {
   "cell_type": "code",
   "execution_count": 19,
   "id": "739633a7-d469-4464-b986-489b099b4d42",
   "metadata": {},
   "outputs": [],
   "source": [
    "# all lowercase and strip '/'\n",
    "df.dispositions_cat=df.dispositions_cat.str.lower()\n",
    "df.dispositions_cat=df.dispositions_cat.str.strip('/')"
   ]
  },
  {
   "cell_type": "code",
   "execution_count": 20,
   "id": "594728d8-b9c6-4853-898d-f5c87bcfc7a4",
   "metadata": {},
   "outputs": [],
   "source": [
    "# dispositions_cat column fix\n",
    "df.dispositions_cat=df.dispositions_cat.str.lower()\n",
    "df.dispositions_cat=df.dispositions_cat.str.strip('/')\n",
    "df.dispositions_cat=df.dispositions_cat.replace('.*unjustified.*','convicted',regex=True) \n",
    "df.dispositions_cat=df.dispositions_cat.replace('.*convicted.*','convicted',regex=True)\n",
    "df.dispositions_cat=df.dispositions_cat.replace('.*guilty.*','convicted',regex=True)\n",
    "df.dispositions_cat=df.dispositions_cat.replace('.*justif.*','justified',regex=True)\n",
    "df.dispositions_cat=df.dispositions_cat.replace('.*jutif.*','justified',regex=True)\n",
    "df.dispositions_cat=df.dispositions_cat.replace('.*pending.*','pending investigation',regex=True)\n",
    "df.dispositions_cat=df.dispositions_cat.replace('.*suicide.*','suicide',regex=True)\n",
    "df.dispositions_cat=df.dispositions_cat.replace('.*cleared.*','justified',regex=True)\n",
    "df.dispositions_cat=df.dispositions_cat.replace('.*accidental.*','accidental',regex=True)\n",
    "df.dispositions_cat=df.dispositions_cat.replace('.*civil suit.*','civil suit',regex=True)\n",
    "df.dispositions_cat=df.dispositions_cat.replace('.*excusable.*','justified',regex=True)\n",
    "df.dispositions_cat=df.dispositions_cat.replace('.*criminal.*','criminal',regex=True)\n",
    "df.dispositions_cat=df.dispositions_cat.replace('.*indicted.*','indicted',regex=True)\n",
    "df.dispositions_cat=df.dispositions_cat.replace('.*prosecutor.*','indicted',regex=True)\n",
    "df.dispositions_cat=df.dispositions_cat.replace('.*overdose.*','accidental',regex=True)\n",
    "df.dispositions_cat=df.dispositions_cat.replace('.*pursuit.*','justified',regex=True)\n",
    "df.dispositions_cat=df.dispositions_cat.replace('.*drowned.*','accidental',regex=True)\n",
    "df.dispositions_cat=df.dispositions_cat.replace('.*chemical.*','pending investigation',regex=True)"
   ]
  },
  {
   "cell_type": "code",
   "execution_count": 29,
   "id": "bf74f7e3-9688-4a8f-b150-3c9e78811709",
   "metadata": {},
   "outputs": [
    {
     "ename": "AttributeError",
     "evalue": "'Series' object has no attribute 'isnan'",
     "output_type": "error",
     "traceback": [
      "\u001b[1;31m---------------------------------------------------------------------------\u001b[0m",
      "\u001b[1;31mAttributeError\u001b[0m                            Traceback (most recent call last)",
      "\u001b[1;32m~\\AppData\\Local\\Temp/ipykernel_7952/4280551699.py\u001b[0m in \u001b[0;36m<module>\u001b[1;34m\u001b[0m\n\u001b[1;32m----> 1\u001b[1;33m \u001b[0mdf\u001b[0m\u001b[1;33m.\u001b[0m\u001b[0mage\u001b[0m\u001b[1;33m.\u001b[0m\u001b[0misnan\u001b[0m\u001b[1;33m(\u001b[0m\u001b[1;33m)\u001b[0m\u001b[1;33m\u001b[0m\u001b[1;33m\u001b[0m\u001b[0m\n\u001b[0m",
      "\u001b[1;32m~\\anaconda3\\lib\\site-packages\\pandas\\core\\generic.py\u001b[0m in \u001b[0;36m__getattr__\u001b[1;34m(self, name)\u001b[0m\n\u001b[0;32m   5485\u001b[0m         ):\n\u001b[0;32m   5486\u001b[0m             \u001b[1;32mreturn\u001b[0m \u001b[0mself\u001b[0m\u001b[1;33m[\u001b[0m\u001b[0mname\u001b[0m\u001b[1;33m]\u001b[0m\u001b[1;33m\u001b[0m\u001b[1;33m\u001b[0m\u001b[0m\n\u001b[1;32m-> 5487\u001b[1;33m         \u001b[1;32mreturn\u001b[0m \u001b[0mobject\u001b[0m\u001b[1;33m.\u001b[0m\u001b[0m__getattribute__\u001b[0m\u001b[1;33m(\u001b[0m\u001b[0mself\u001b[0m\u001b[1;33m,\u001b[0m \u001b[0mname\u001b[0m\u001b[1;33m)\u001b[0m\u001b[1;33m\u001b[0m\u001b[1;33m\u001b[0m\u001b[0m\n\u001b[0m\u001b[0;32m   5488\u001b[0m \u001b[1;33m\u001b[0m\u001b[0m\n\u001b[0;32m   5489\u001b[0m     \u001b[1;32mdef\u001b[0m \u001b[0m__setattr__\u001b[0m\u001b[1;33m(\u001b[0m\u001b[0mself\u001b[0m\u001b[1;33m,\u001b[0m \u001b[0mname\u001b[0m\u001b[1;33m:\u001b[0m \u001b[0mstr\u001b[0m\u001b[1;33m,\u001b[0m \u001b[0mvalue\u001b[0m\u001b[1;33m)\u001b[0m \u001b[1;33m->\u001b[0m \u001b[1;32mNone\u001b[0m\u001b[1;33m:\u001b[0m\u001b[1;33m\u001b[0m\u001b[1;33m\u001b[0m\u001b[0m\n",
      "\u001b[1;31mAttributeError\u001b[0m: 'Series' object has no attribute 'isnan'"
     ]
    }
   ],
   "source": []
  },
  {
   "cell_type": "code",
   "execution_count": 31,
   "id": "b37c4e1b-8cad-4efa-b7c1-88f2e1fa30f1",
   "metadata": {},
   "outputs": [],
   "source": [
    "name_key = df.name.str.strip().str.lower().str.replace(' ', '')\n",
    "df.insert(1, 'name_key', name_key)"
   ]
  },
  {
   "cell_type": "code",
   "execution_count": 34,
   "id": "3a4c6d43-566f-4cbc-b9e6-b3a75fcdd609",
   "metadata": {},
   "outputs": [
    {
     "data": {
      "text/plain": [
       "Index(['id', 'name_key', 'name', 'age', 'gender', 'race', 'image_url', 'date',\n",
       "       'address', 'city', 'state', 'zipcode', 'county', 'full_address',\n",
       "       'latitude', 'longitude', 'agency', 'force_level', 'weapon',\n",
       "       'aggressive_movement', 'fleeing', 'description_temp', 'url_temp',\n",
       "       'description', 'dispositions', 'intented_force', 'document_link',\n",
       "       'mental_illness', 'weapon_category', 'dispositions_cat'],\n",
       "      dtype='object')"
      ]
     },
     "execution_count": 34,
     "metadata": {},
     "output_type": "execute_result"
    }
   ],
   "source": [
    "df.columns"
   ]
  },
  {
   "cell_type": "code",
   "execution_count": 36,
   "id": "2817c805-444e-417f-a7f9-7e66d82738f8",
   "metadata": {},
   "outputs": [],
   "source": [
    "df.drop('id', inplace=True, axis=1)"
   ]
  },
  {
   "cell_type": "code",
   "execution_count": 37,
   "id": "763b6791-9c5b-4b00-b280-8526e3eb31be",
   "metadata": {},
   "outputs": [
    {
     "data": {
      "text/html": [
       "<div>\n",
       "<style scoped>\n",
       "    .dataframe tbody tr th:only-of-type {\n",
       "        vertical-align: middle;\n",
       "    }\n",
       "\n",
       "    .dataframe tbody tr th {\n",
       "        vertical-align: top;\n",
       "    }\n",
       "\n",
       "    .dataframe thead th {\n",
       "        text-align: right;\n",
       "    }\n",
       "</style>\n",
       "<table border=\"1\" class=\"dataframe\">\n",
       "  <thead>\n",
       "    <tr style=\"text-align: right;\">\n",
       "      <th></th>\n",
       "      <th>name_key</th>\n",
       "      <th>name</th>\n",
       "      <th>age</th>\n",
       "      <th>gender</th>\n",
       "      <th>race</th>\n",
       "      <th>image_url</th>\n",
       "      <th>date</th>\n",
       "      <th>address</th>\n",
       "      <th>city</th>\n",
       "      <th>state</th>\n",
       "      <th>zipcode</th>\n",
       "      <th>county</th>\n",
       "      <th>full_address</th>\n",
       "      <th>latitude</th>\n",
       "      <th>longitude</th>\n",
       "      <th>agency</th>\n",
       "      <th>force_level</th>\n",
       "      <th>weapon</th>\n",
       "      <th>aggressive_movement</th>\n",
       "      <th>fleeing</th>\n",
       "      <th>description_temp</th>\n",
       "      <th>url_temp</th>\n",
       "      <th>description</th>\n",
       "      <th>dispositions</th>\n",
       "      <th>intented_force</th>\n",
       "      <th>document_link</th>\n",
       "      <th>mental_illness</th>\n",
       "      <th>weapon_category</th>\n",
       "      <th>dispositions_cat</th>\n",
       "    </tr>\n",
       "  </thead>\n",
       "  <tbody>\n",
       "    <tr>\n",
       "      <th>0</th>\n",
       "      <td>marka.horton</td>\n",
       "      <td>Mark A. Horton</td>\n",
       "      <td>21.0</td>\n",
       "      <td>Male</td>\n",
       "      <td>African-American/Black</td>\n",
       "      <td>NaN</td>\n",
       "      <td>2000-01-01</td>\n",
       "      <td>Davison Freeway</td>\n",
       "      <td>Detroit</td>\n",
       "      <td>MI</td>\n",
       "      <td>48203</td>\n",
       "      <td>Wayne</td>\n",
       "      <td>Davison Freeway Detroit MI 48203 Wayne</td>\n",
       "      <td>42.4045</td>\n",
       "      <td>-83.0923</td>\n",
       "      <td>NaN</td>\n",
       "      <td>Vehicle</td>\n",
       "      <td>NaN</td>\n",
       "      <td>NaN</td>\n",
       "      <td>NaN</td>\n",
       "      <td>NaN</td>\n",
       "      <td>NaN</td>\n",
       "      <td>Two Detroit men killed when their car crashed ...</td>\n",
       "      <td>Unreported</td>\n",
       "      <td>Pursuit</td>\n",
       "      <td>https://drive.google.com/file/d/1-nK-RohgiM-tZ...</td>\n",
       "      <td>No</td>\n",
       "      <td>NaN</td>\n",
       "      <td>unreported</td>\n",
       "    </tr>\n",
       "    <tr>\n",
       "      <th>1</th>\n",
       "      <td>phillipa.blurbridge</td>\n",
       "      <td>Phillip A. Blurbridge</td>\n",
       "      <td>19.0</td>\n",
       "      <td>Male</td>\n",
       "      <td>African-American/Black</td>\n",
       "      <td>NaN</td>\n",
       "      <td>2000-01-01</td>\n",
       "      <td>Davison Freeway</td>\n",
       "      <td>Detroit</td>\n",
       "      <td>MI</td>\n",
       "      <td>48203</td>\n",
       "      <td>Wayne</td>\n",
       "      <td>Davison Freeway Detroit MI 48203 Wayne</td>\n",
       "      <td>42.4045</td>\n",
       "      <td>-83.0923</td>\n",
       "      <td>NaN</td>\n",
       "      <td>Vehicle</td>\n",
       "      <td>NaN</td>\n",
       "      <td>NaN</td>\n",
       "      <td>NaN</td>\n",
       "      <td>NaN</td>\n",
       "      <td>NaN</td>\n",
       "      <td>Two Detroit men killed when their car crashed ...</td>\n",
       "      <td>Unreported</td>\n",
       "      <td>Pursuit</td>\n",
       "      <td>https://drive.google.com/file/d/1-nK-RohgiM-tZ...</td>\n",
       "      <td>No</td>\n",
       "      <td>NaN</td>\n",
       "      <td>unreported</td>\n",
       "    </tr>\n",
       "    <tr>\n",
       "      <th>2</th>\n",
       "      <td>samuelh.knapp</td>\n",
       "      <td>Samuel H. Knapp</td>\n",
       "      <td>17.0</td>\n",
       "      <td>Male</td>\n",
       "      <td>European-American/White</td>\n",
       "      <td>NaN</td>\n",
       "      <td>2000-01-01</td>\n",
       "      <td>27898-27804 US-101</td>\n",
       "      <td>Willits</td>\n",
       "      <td>CA</td>\n",
       "      <td>95490</td>\n",
       "      <td>Mendocino</td>\n",
       "      <td>27898-27804 US-101 Willits CA 95490 Mendocino</td>\n",
       "      <td>39.4709</td>\n",
       "      <td>-123.3618</td>\n",
       "      <td>Mendocino County Sheriff's Office</td>\n",
       "      <td>Vehicle</td>\n",
       "      <td>NaN</td>\n",
       "      <td>NaN</td>\n",
       "      <td>NaN</td>\n",
       "      <td>NaN</td>\n",
       "      <td>NaN</td>\n",
       "      <td>Samuel Knapp was allegedly driving a stolen ve...</td>\n",
       "      <td>Unreported</td>\n",
       "      <td>Pursuit</td>\n",
       "      <td>https://drive.google.com/file/d/10DisrV8K5ReP1...</td>\n",
       "      <td>No</td>\n",
       "      <td>NaN</td>\n",
       "      <td>unreported</td>\n",
       "    </tr>\n",
       "    <tr>\n",
       "      <th>3</th>\n",
       "      <td>markortiz</td>\n",
       "      <td>Mark Ortiz</td>\n",
       "      <td>23.0</td>\n",
       "      <td>Male</td>\n",
       "      <td>Hispanic/Latino</td>\n",
       "      <td>NaN</td>\n",
       "      <td>2000-01-01</td>\n",
       "      <td>600 W Cherry Ln</td>\n",
       "      <td>Carlsbad</td>\n",
       "      <td>NM</td>\n",
       "      <td>88220</td>\n",
       "      <td>Eddy</td>\n",
       "      <td>600 W Cherry Ln Carlsbad NM 88220 Eddy</td>\n",
       "      <td>32.4501</td>\n",
       "      <td>-104.2376</td>\n",
       "      <td>Eddy County Sheriff's Office</td>\n",
       "      <td>Vehicle</td>\n",
       "      <td>NaN</td>\n",
       "      <td>NaN</td>\n",
       "      <td>NaN</td>\n",
       "      <td>NaN</td>\n",
       "      <td>NaN</td>\n",
       "      <td>A motorcycle was allegedly being driven errati...</td>\n",
       "      <td>Unreported</td>\n",
       "      <td>Pursuit</td>\n",
       "      <td>https://drive.google.com/file/d/1qAEefRjX_aTtC...</td>\n",
       "      <td>No</td>\n",
       "      <td>NaN</td>\n",
       "      <td>unreported</td>\n",
       "    </tr>\n",
       "    <tr>\n",
       "      <th>4</th>\n",
       "      <td>latanyajanellemccoy</td>\n",
       "      <td>LaTanya Janelle McCoy</td>\n",
       "      <td>24.0</td>\n",
       "      <td>Female</td>\n",
       "      <td>African-American/Black</td>\n",
       "      <td>NaN</td>\n",
       "      <td>2000-01-02</td>\n",
       "      <td>5700 block Mack Road</td>\n",
       "      <td>Sacramento</td>\n",
       "      <td>CA</td>\n",
       "      <td>95823</td>\n",
       "      <td>Sacramento</td>\n",
       "      <td>5700 block Mack Road Sacramento CA 95823 Sacra...</td>\n",
       "      <td>38.4739</td>\n",
       "      <td>-121.4338</td>\n",
       "      <td>Sacramento Police Department</td>\n",
       "      <td>Vehicle</td>\n",
       "      <td>NaN</td>\n",
       "      <td>NaN</td>\n",
       "      <td>NaN</td>\n",
       "      <td>NaN</td>\n",
       "      <td>NaN</td>\n",
       "      <td>LaTanya Janelle McCoy's car was struck from be...</td>\n",
       "      <td>Unknown</td>\n",
       "      <td>Pursuit</td>\n",
       "      <td>http://www.recordnet.com/article/20000110/A_NE...</td>\n",
       "      <td>No</td>\n",
       "      <td>NaN</td>\n",
       "      <td>unknown</td>\n",
       "    </tr>\n",
       "  </tbody>\n",
       "</table>\n",
       "</div>"
      ],
      "text/plain": [
       "              name_key                   name   age  gender                     race image_url       date               address        city state  zipcode      county                                       full_address  latitude  longitude                             agency force_level weapon aggressive_movement fleeing description_temp url_temp                                        description dispositions intented_force                                      document_link mental_illness weapon_category dispositions_cat\n",
       "0         marka.horton         Mark A. Horton  21.0    Male   African-American/Black       NaN 2000-01-01       Davison Freeway     Detroit    MI    48203       Wayne             Davison Freeway Detroit MI 48203 Wayne   42.4045   -83.0923                                NaN     Vehicle    NaN                 NaN     NaN              NaN      NaN  Two Detroit men killed when their car crashed ...   Unreported        Pursuit  https://drive.google.com/file/d/1-nK-RohgiM-tZ...             No             NaN       unreported\n",
       "1  phillipa.blurbridge  Phillip A. Blurbridge  19.0    Male   African-American/Black       NaN 2000-01-01       Davison Freeway     Detroit    MI    48203       Wayne             Davison Freeway Detroit MI 48203 Wayne   42.4045   -83.0923                                NaN     Vehicle    NaN                 NaN     NaN              NaN      NaN  Two Detroit men killed when their car crashed ...   Unreported        Pursuit  https://drive.google.com/file/d/1-nK-RohgiM-tZ...             No             NaN       unreported\n",
       "2        samuelh.knapp        Samuel H. Knapp  17.0    Male  European-American/White       NaN 2000-01-01    27898-27804 US-101     Willits    CA    95490   Mendocino      27898-27804 US-101 Willits CA 95490 Mendocino   39.4709  -123.3618  Mendocino County Sheriff's Office     Vehicle    NaN                 NaN     NaN              NaN      NaN  Samuel Knapp was allegedly driving a stolen ve...   Unreported        Pursuit  https://drive.google.com/file/d/10DisrV8K5ReP1...             No             NaN       unreported\n",
       "3            markortiz             Mark Ortiz  23.0    Male          Hispanic/Latino       NaN 2000-01-01       600 W Cherry Ln    Carlsbad    NM    88220        Eddy             600 W Cherry Ln Carlsbad NM 88220 Eddy   32.4501  -104.2376       Eddy County Sheriff's Office     Vehicle    NaN                 NaN     NaN              NaN      NaN  A motorcycle was allegedly being driven errati...   Unreported        Pursuit  https://drive.google.com/file/d/1qAEefRjX_aTtC...             No             NaN       unreported\n",
       "4  latanyajanellemccoy  LaTanya Janelle McCoy  24.0  Female   African-American/Black       NaN 2000-01-02  5700 block Mack Road  Sacramento    CA    95823  Sacramento  5700 block Mack Road Sacramento CA 95823 Sacra...   38.4739  -121.4338       Sacramento Police Department     Vehicle    NaN                 NaN     NaN              NaN      NaN  LaTanya Janelle McCoy's car was struck from be...      Unknown        Pursuit  http://www.recordnet.com/article/20000110/A_NE...             No             NaN          unknown"
      ]
     },
     "execution_count": 37,
     "metadata": {},
     "output_type": "execute_result"
    }
   ],
   "source": [
    "df.head()"
   ]
  },
  {
   "cell_type": "code",
   "execution_count": 38,
   "id": "4b8c39bb-2307-4545-a021-22fa9e39112f",
   "metadata": {},
   "outputs": [],
   "source": [
    "df.to_csv('../data/Innocent Deaths caused by Police (All time)_cleaned.csv', index=False)"
   ]
  },
  {
   "cell_type": "code",
   "execution_count": null,
   "id": "0a230354-5e6d-4545-babf-6b877af716a4",
   "metadata": {},
   "outputs": [],
   "source": []
  }
 ],
 "metadata": {
  "kernelspec": {
   "display_name": "Python 3",
   "language": "python",
   "name": "python3"
  },
  "language_info": {
   "codemirror_mode": {
    "name": "ipython",
    "version": 3
   },
   "file_extension": ".py",
   "mimetype": "text/x-python",
   "name": "python",
   "nbconvert_exporter": "python",
   "pygments_lexer": "ipython3",
   "version": "3.8.8"
  }
 },
 "nbformat": 4,
 "nbformat_minor": 5
}
