{
 "cells": [
  {
   "cell_type": "code",
   "execution_count": 1,
   "id": "e50a50a2-9305-4189-9d29-0181d4148264",
   "metadata": {},
   "outputs": [],
   "source": [
    "# load libraries\n",
    "import numpy as np\n",
    "import pandas as pd\n",
    "from datetime import datetime\n",
    "#import matplotlib.pyplot as plt\n",
    "#import seaborn as sns"
   ]
  },
  {
   "cell_type": "code",
   "execution_count": 2,
   "id": "fd1d3fc0-214b-457d-84c4-cc8077fe0e98",
   "metadata": {},
   "outputs": [],
   "source": [
    "pd.set_option('display.max_rows', 500)\n",
    "pd.set_option('display.max_colwidth', 20)"
   ]
  },
  {
   "cell_type": "code",
   "execution_count": 3,
   "id": "8df436ab-59f0-4c09-a783-d1cfb9812e8e",
   "metadata": {},
   "outputs": [],
   "source": [
    "# Load data\n",
    "raw1 = pd.read_csv ('C:/Users/droic/Desktop/bigblue/Projects/Projects/Project_1/Project_1 Local/Innocent Deaths caused by Police (All time).csv')"
   ]
  },
  {
   "cell_type": "code",
   "execution_count": 4,
   "id": "be8e1710-9f06-4e66-bc04-3522bc4715fc",
   "metadata": {},
   "outputs": [],
   "source": [
    "# make a copy to handle\n",
    "df = raw1.copy()"
   ]
  },
  {
   "cell_type": "code",
   "execution_count": 5,
   "id": "b842e0c0-0a45-43b1-a108-8468a6515997",
   "metadata": {},
   "outputs": [],
   "source": [
    "#Change column names\n",
    "df.columns = ['id', 'name', 'age', 'gender', 'race', 'image_url',\n",
    "       'date','address', 'city', 'state',\n",
    "       'zipcode', 'county',\n",
    "       'full_address', 'latitude', 'longitude', 'agency',\n",
    "       'force_level', 'weapon',\n",
    "       'aggressive_movement', 'fleeing',\n",
    "       'description_temp', 'url_temp', 'description',\n",
    "       'dispositions',\n",
    "       'intented_force', 'document_link',\n",
    "       'mental_illness']"
   ]
  },
  {
   "cell_type": "code",
   "execution_count": 6,
   "id": "73e4e04c-6a6e-40b5-9d43-e6bf916199e4",
   "metadata": {},
   "outputs": [],
   "source": [
    "# age col from sring to numeric\n",
    "df.age = pd.to_numeric(df.age, downcast='integer', errors='coerce')"
   ]
  },
  {
   "cell_type": "code",
   "execution_count": 7,
   "id": "f7428a06-b088-467b-b1d8-07cc4ece8c22",
   "metadata": {},
   "outputs": [],
   "source": [
    "# date col to datetime\n",
    "df.date=pd.to_datetime(df.date)"
   ]
  },
  {
   "cell_type": "code",
   "execution_count": 8,
   "id": "277e5f71-3158-4ac4-b33c-e3301dc5888e",
   "metadata": {},
   "outputs": [],
   "source": [
    "# latitude col from sring to numeric\n",
    "df.latitude = pd.to_numeric(df.latitude, downcast='integer', errors='coerce')"
   ]
  },
  {
   "cell_type": "code",
   "execution_count": 9,
   "id": "aec1d6e6-5535-42f7-bbc6-243871e957df",
   "metadata": {},
   "outputs": [],
   "source": [
    "# nan zipcodes to 0\n",
    "df.zipcode = df.zipcode.fillna(0).astype(int)"
   ]
  },
  {
   "cell_type": "code",
   "execution_count": 10,
   "id": "ab62dbf4-c02f-47dc-a20b-dc8be3cf5725",
   "metadata": {},
   "outputs": [],
   "source": [
    "# strip all string columns\n",
    "df_obj = df.select_dtypes(['object'])\n",
    "df[df_obj.columns] = df_obj.apply(lambda s: s.str.strip())"
   ]
  },
  {
   "cell_type": "code",
   "execution_count": 12,
   "id": "f226fc18-1ac9-48b7-8e82-fa2a4df975be",
   "metadata": {},
   "outputs": [],
   "source": [
    "# race column fix\n",
    "df.race=df.race.replace('european-American/White','European-American/White')"
   ]
  },
  {
   "cell_type": "code",
   "execution_count": 15,
   "id": "dde1a7a8-57d2-4316-b43e-aa880621ff56",
   "metadata": {},
   "outputs": [],
   "source": [
    "# force_level column fix\n",
    "df.force_level=df.force_level.str.replace('.*Asphyx.*','Asphyxiated/Restrained', regex=True)"
   ]
  },
  {
   "cell_type": "code",
   "execution_count": 18,
   "id": "54f9f0fa-88c6-4af6-bc98-4f189d377056",
   "metadata": {
    "tags": []
   },
   "outputs": [],
   "source": [
    "# weapon column fix\n",
    "df.weapon=df.weapon.replace('Duplicate of 13419?', 'None')\n",
    "df.weapon=df.weapon.replace('Duplicate of 13457?', 'Vehicle')\n",
    "df.weapon=df.weapon.replace('Rifle', 'Firearm/Rifle')\n",
    "df.weapon=df.weapon.replace('Edged Weapon/Knife', 'Edged weapon/Knife')\n",
    "df.weapon=df.weapon.replace('Edged weapon/Ax', 'Edged weapon/Axe')\n",
    "df.weapon=df.weapon.replace('Stun Gun', 'Stun gun')\n",
    "df.weapon=df.weapon.replace('Edged Weapon/Large piece of metal', 'Edged weapon/Large piece of metal')\n",
    "df.weapon=df.weapon.replace('Edged Weapon/Kubotan', 'Edged weapon/Kubotan')\n",
    "df.weapon=df.weapon.replace('Armed', 'Firearm/Gun')"
   ]
  },
  {
   "cell_type": "code",
   "execution_count": 20,
   "id": "3bf197fd-5561-4306-817c-60035f5ffefe",
   "metadata": {},
   "outputs": [],
   "source": [
    "# create weapon_category column\n",
    "df['weapon_category']=df.weapon.str.split('/').str[0]"
   ]
  },
  {
   "cell_type": "code",
   "execution_count": 23,
   "id": "66121a30-3a78-41c8-a76a-d2949a1640c1",
   "metadata": {},
   "outputs": [],
   "source": [
    "# aggressive_movement column fix\n",
    "df.aggressive_movement=df.aggressive_movement.replace('None/Police alleged vehicular assault.', 'None/Police alleged vehicular assault')\n",
    "df.aggressive_movement=df.aggressive_movement.replace('None. Police alleged vehicular assault.', 'None/Police alleged vehicular assault')\n",
    "df.aggressive_movement=df.aggressive_movement.replace('Uncertain/Police alleged vehicular assault', 'None/Police alleged vehicular assault')\n",
    "df.aggressive_movement=df.aggressive_movement.replace('Advanced upon officer(s)', 'Advanced toward officer(s)')\n",
    "df.aggressive_movement=df.aggressive_movement.replace('Used Weapon', 'Used weapon')\n",
    "df.aggressive_movement=df.aggressive_movement.replace('Duplicate of 13457?', 'None')\n",
    "df.aggressive_movement=df.aggressive_movement.replace('None.', 'None')\n",
    "df.aggressive_movement=df.aggressive_movement.replace('Duplicate of 13419?', 'None/Police alleged vehicular assault')\n",
    "df.aggressive_movement=df.aggressive_movement.replace('Sudden Threatening Movement', 'Sudden threatening movement')\n",
    "df.aggressive_movement=df.aggressive_movement.replace('None/Police allege vehicular assault', 'None/Police alleged vehicular assault')\n",
    "df.aggressive_movement=df.aggressive_movement.replace('Police allege vehicular assault', 'None/Police alleged vehicular assault')\n",
    "df.aggressive_movement=df.aggressive_movement.replace('None/Police alleged vehicular assault', 'Police alleged vehicular assault')\n",
    "df.aggressive_movement=df.aggressive_movement.replace('Edged weapon/Unspecified', 'Brandished weapon')\n",
    "df.aggressive_movement=df.aggressive_movement.replace('Self-inflicted Injury', 'Self-inflicted injury')"
   ]
  },
  {
   "cell_type": "code",
   "execution_count": 25,
   "id": "c8b5f74e-0cdd-424b-b5f9-d2512680aafc",
   "metadata": {},
   "outputs": [],
   "source": [
    "# fleeing column fix\n",
    "df.fleeing=df.fleeing.replace('Duplicate of 13419?', 'Uncertain')\n",
    "df.fleeing=df.fleeing.replace('Duplicate of 13457?', 'Not fleeing')\n",
    "df.fleeing=df.fleeing.replace('Vehicle', 'Fleeing/Vehicle')\n",
    "df.fleeing=df.fleeing.replace('Vehicle/Fleeing', 'Fleeing/Vehicle')\n",
    "df.fleeing=df.fleeing.replace('Not Fleeing', 'Not fleeing')\n",
    "df.fleeing=df.fleeing.replace('Foot', 'Fleeing/Foot')\n",
    "df.fleeing=df.fleeing.replace('Motorcycle', 'Fleeing/Motorcycle')\n",
    "df.fleeing=df.fleeing.replace('Vehicle/Motorcycle', 'Fleeing/Motorcycle')\n",
    "df.fleeing=df.fleeing.replace('Fleeling/Vehicle', 'Fleeing/Vehicle')\n",
    "df.fleeing=df.fleeing.replace('Fleeing/Veh', 'Fleeing/Vehicle')\n",
    "df.fleeing=df.fleeing.replace('Uncertain/Police alleged vehicular assault', 'Not fleeing')\n",
    "df.fleeing=df.fleeing.replace('None', 'Not fleeing')\n",
    "df.fleeing=df.fleeing.replace('Fleeing/vehicle', 'Fleeing/Vehicle')"
   ]
  },
  {
   "cell_type": "code",
   "execution_count": 113,
   "id": "e876a272-7be6-4b33-9f38-e32e49ba90ac",
   "metadata": {},
   "outputs": [],
   "source": [
    "# create dispositions_cat column (copy dispositions)\n",
    "df['dispositions_cat']=df.dispositions.copy()"
   ]
  },
  {
   "cell_type": "code",
   "execution_count": 114,
   "id": "739633a7-d469-4464-b986-489b099b4d42",
   "metadata": {},
   "outputs": [],
   "source": [
    "# all lowercase and strip '/'\n",
    "df.dispositions_cat=df.dispositions_cat.str.lower()\n",
    "df.dispositions_cat=df.dispositions_cat.str.strip('/')"
   ]
  },
  {
   "cell_type": "code",
   "execution_count": 115,
   "id": "594728d8-b9c6-4853-898d-f5c87bcfc7a4",
   "metadata": {},
   "outputs": [],
   "source": [
    "# dispositions_cat column fix\n",
    "df.dispositions_cat=df.dispositions_cat.str.lower()\n",
    "df.dispositions_cat=df.dispositions_cat.str.strip('/')\n",
    "df.dispositions_cat=df.dispositions_cat.replace('.*unjustified.*','convicted',regex=True) \n",
    "df.dispositions_cat=df.dispositions_cat.replace('.*convicted.*','convicted',regex=True)\n",
    "df.dispositions_cat=df.dispositions_cat.replace('.*guilty.*','convicted',regex=True)\n",
    "df.dispositions_cat=df.dispositions_cat.replace('.*justif.*','justified',regex=True)\n",
    "df.dispositions_cat=df.dispositions_cat.replace('.*jutif.*','justified',regex=True)\n",
    "df.dispositions_cat=df.dispositions_cat.replace('.*pending.*','pending investigation',regex=True)\n",
    "df.dispositions_cat=df.dispositions_cat.replace('.*suicide.*','suicide',regex=True)\n",
    "df.dispositions_cat=df.dispositions_cat.replace('.*cleared.*','justified',regex=True)\n",
    "df.dispositions_cat=df.dispositions_cat.replace('.*accidental.*','accidental',regex=True)\n",
    "df.dispositions_cat=df.dispositions_cat.replace('.*civil suit.*','civil suit',regex=True)\n",
    "df.dispositions_cat=df.dispositions_cat.replace('.*excusable.*','justified',regex=True)\n",
    "df.dispositions_cat=df.dispositions_cat.replace('.*criminal.*','criminal',regex=True)\n",
    "df.dispositions_cat=df.dispositions_cat.replace('.*indicted.*','indicted',regex=True)\n",
    "df.dispositions_cat=df.dispositions_cat.replace('.*prosecutor.*','indicted',regex=True)\n",
    "df.dispositions_cat=df.dispositions_cat.replace('.*overdose.*','accidental',regex=True)\n",
    "df.dispositions_cat=df.dispositions_cat.replace('.*pursuit.*','justified',regex=True)\n",
    "df.dispositions_cat=df.dispositions_cat.replace('.*drowned.*','accidental',regex=True)\n",
    "df.dispositions_cat=df.dispositions_cat.replace('.*chemical.*','pending investigation',regex=True)"
   ]
  }
 ],
 "metadata": {
  "kernelspec": {
   "display_name": "Python 3",
   "language": "python",
   "name": "python3"
  },
  "language_info": {
   "codemirror_mode": {
    "name": "ipython",
    "version": 3
   },
   "file_extension": ".py",
   "mimetype": "text/x-python",
   "name": "python",
   "nbconvert_exporter": "python",
   "pygments_lexer": "ipython3",
   "version": "3.8.8"
  }
 },
 "nbformat": 4,
 "nbformat_minor": 5
}
