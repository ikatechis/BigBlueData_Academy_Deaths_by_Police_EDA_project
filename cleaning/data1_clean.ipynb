{
 "cells": [
  {
   "cell_type": "code",
   "execution_count": 8,
   "id": "e50a50a2-9305-4189-9d29-0181d4148264",
   "metadata": {},
   "outputs": [],
   "source": [
    "# load libraries\n",
    "import numpy as np\n",
    "import pandas as pd\n",
    "from datetime import datetime\n",
    "#import matplotlib.pyplot as plt\n",
    "#import seaborn as sns"
   ]
  },
  {
   "cell_type": "code",
   "execution_count": null,
   "id": "8df436ab-59f0-4c09-a783-d1cfb9812e8e",
   "metadata": {},
   "outputs": [],
   "source": [
    "# Load data\n",
    "raw1 = pd.read_csv ('C:/Users/droic/Desktop/bigblue/Projects/Projects/Project_1/Project_1 Local/Innocent Deaths caused by Police (All time).csv')"
   ]
  },
  {
   "cell_type": "code",
   "execution_count": 137,
   "id": "be8e1710-9f06-4e66-bc04-3522bc4715fc",
   "metadata": {},
   "outputs": [],
   "source": [
    "# make a copy to handle\n",
    "df = raw1.copy()"
   ]
  },
  {
   "cell_type": "code",
   "execution_count": 196,
   "id": "b993adf1-9a01-4b66-bde1-a86cdd866e61",
   "metadata": {},
   "outputs": [
    {
     "name": "stdout",
     "output_type": "stream",
     "text": [
      "Unique ID\n",
      "Name\n",
      "Age\n",
      "Gender\n",
      "Race\n",
      "URL of image\n",
      " Date of injury resulting in death (month/day/year)\n",
      "Location of injury (address)\n",
      "Location of death (city)\n",
      "State\n",
      "Location of death (zip code)\n",
      "Location of death (county)\n",
      "Full Address\n",
      "Latitude\n",
      "Longitude\n",
      "Agency or agencies involved\n",
      "Highest level of force\n",
      "Alleged weapon\n",
      "Aggressive physical movement\n",
      "Fleeing/Not fleeing\n",
      "Description Temp\n",
      "URL Temp\n",
      "Brief description\n",
      "Dispositions/Exclusions INTERNAL USE, NOT FOR ANALYSIS\n",
      "Intended use of force (Developing)\n",
      "Supporting document link\n",
      "Foreknowledge of mental illness\n"
     ]
    },
    {
     "data": {
      "text/plain": [
       "Index([None, None, None, None, None, None, None, None, None, None, None, None,\n",
       "       None, None, None, None, None, None, None, None, None, None, None, None,\n",
       "       None, None, None],\n",
       "      dtype='object')"
      ]
     },
     "execution_count": 196,
     "metadata": {},
     "output_type": "execute_result"
    }
   ],
   "source": [
    "raw1.columns.map(print)"
   ]
  },
  {
   "cell_type": "code",
   "execution_count": 213,
   "id": "b842e0c0-0a45-43b1-a108-8468a6515997",
   "metadata": {},
   "outputs": [],
   "source": [
    "#Change column names\n",
    "df.columns = ['id', 'name', 'age', 'gender', 'race', 'image_url',\n",
    "       'date','address', 'city', 'state',\n",
    "       'zipcode', 'county',\n",
    "       'full_address', 'latitude', 'longitude', 'agency',\n",
    "       'force_level', 'weapon',\n",
    "       'aggressive_movement', 'fleeing',\n",
    "       'description_temp', 'url_temp', 'description',\n",
    "       'dispositions',\n",
    "       'intented_force', 'document_link',\n",
    "       'mental_illness']"
   ]
  },
  {
   "cell_type": "code",
   "execution_count": 233,
   "id": "cbfb5a44-e0c8-4e3a-a58f-294454152082",
   "metadata": {},
   "outputs": [
    {
     "name": "stdout",
     "output_type": "stream",
     "text": [
      "<class 'pandas.core.frame.DataFrame'>\n",
      "RangeIndex: 30860 entries, 0 to 30859\n",
      "Data columns (total 27 columns):\n",
      " #   Column               Non-Null Count  Dtype         \n",
      "---  ------               --------------  -----         \n",
      " 0   id                   30860 non-null  int64         \n",
      " 1   name                 30860 non-null  object        \n",
      " 2   age                  29686 non-null  float64       \n",
      " 3   gender               30724 non-null  object        \n",
      " 4   race                 22178 non-null  object        \n",
      " 5   image_url            14355 non-null  object        \n",
      " 6   date                 30860 non-null  datetime64[ns]\n",
      " 7   address              30306 non-null  object        \n",
      " 8   city                 30822 non-null  object        \n",
      " 9   state                30860 non-null  object        \n",
      " 10  zipcode              30860 non-null  int32         \n",
      " 11  county               30845 non-null  object        \n",
      " 12  full_address         30860 non-null  object        \n",
      " 13  latitude             30859 non-null  float64       \n",
      " 14  longitude            30860 non-null  float64       \n",
      " 15  agency               30783 non-null  object        \n",
      " 16  force_level          30857 non-null  object        \n",
      " 17  weapon               13860 non-null  object        \n",
      " 18  aggressive_movement  13863 non-null  object        \n",
      " 19  fleeing              13863 non-null  object        \n",
      " 20  description_temp     842 non-null    object        \n",
      " 21  url_temp             3 non-null      object        \n",
      " 22  description          30859 non-null  object        \n",
      " 23  dispositions         30859 non-null  object        \n",
      " 24  intented_force       30858 non-null  object        \n",
      " 25  document_link        30859 non-null  object        \n",
      " 26  mental_illness       30799 non-null  object        \n",
      "dtypes: datetime64[ns](1), float64(3), int32(1), int64(1), object(21)\n",
      "memory usage: 6.2+ MB\n"
     ]
    }
   ],
   "source": [
    "df.info()"
   ]
  },
  {
   "cell_type": "code",
   "execution_count": 153,
   "id": "73e4e04c-6a6e-40b5-9d43-e6bf916199e4",
   "metadata": {},
   "outputs": [],
   "source": [
    "# age col from sring to numeric\n",
    "df.age = pd.to_numeric(df.age, downcast='integer', errors='coerce')"
   ]
  },
  {
   "cell_type": "code",
   "execution_count": 182,
   "id": "f7428a06-b088-467b-b1d8-07cc4ece8c22",
   "metadata": {},
   "outputs": [],
   "source": [
    "# date col to datetime\n",
    "df.date=pd.to_datetime(df.date)"
   ]
  },
  {
   "cell_type": "code",
   "execution_count": 186,
   "id": "277e5f71-3158-4ac4-b33c-e3301dc5888e",
   "metadata": {},
   "outputs": [],
   "source": [
    "# latitude col from sring to numeric\n",
    "df.latitude = pd.to_numeric(df.latitude, downcast='integer', errors='coerce')"
   ]
  },
  {
   "cell_type": "code",
   "execution_count": 192,
   "id": "aec1d6e6-5535-42f7-bbc6-243871e957df",
   "metadata": {},
   "outputs": [],
   "source": [
    "# nan zipcodes to 0\n",
    "df.zipcode = df.zipcode.fillna(0).astype(int)"
   ]
  },
  {
   "cell_type": "code",
   "execution_count": 194,
   "id": "ab62dbf4-c02f-47dc-a20b-dc8be3cf5725",
   "metadata": {},
   "outputs": [],
   "source": [
    "# strip all string columns\n",
    "df_obj = df.select_dtypes(['object'])\n",
    "df[df_obj.columns] = df_obj.apply(lambda s: s.str.strip())"
   ]
  },
  {
   "cell_type": "code",
   "execution_count": 199,
   "id": "beb1a454-c15a-4f3d-bb1a-db37d5fcedf3",
   "metadata": {
    "collapsed": true,
    "jupyter": {
     "outputs_hidden": true
    },
    "tags": []
   },
   "outputs": [
    {
     "name": "stderr",
     "output_type": "stream",
     "text": [
      "<ipython-input-199-0fbf078d1b5e>:1: SettingWithCopyWarning: \n",
      "A value is trying to be set on a copy of a slice from a DataFrame\n",
      "\n",
      "See the caveats in the documentation: https://pandas.pydata.org/pandas-docs/stable/user_guide/indexing.html#returning-a-view-versus-a-copy\n",
      "  df.race[df.race == 'european-American/White'] = 'European-American/White'\n"
     ]
    }
   ],
   "source": [
    "# race column fix\n",
    "df.race[df.race == 'european-American/White'] = 'European-American/White'\n",
    "df.race[df.race == 'Race unspecified'] = np.nan"
   ]
  },
  {
   "cell_type": "code",
   "execution_count": null,
   "id": "e1290cf0-00ac-441d-b553-d44906a44817",
   "metadata": {},
   "outputs": [],
   "source": []
  }
 ],
 "metadata": {
  "kernelspec": {
   "display_name": "Python 3",
   "language": "python",
   "name": "python3"
  },
  "language_info": {
   "codemirror_mode": {
    "name": "ipython",
    "version": 3
   },
   "file_extension": ".py",
   "mimetype": "text/x-python",
   "name": "python",
   "nbconvert_exporter": "python",
   "pygments_lexer": "ipython3",
   "version": "3.8.8"
  }
 },
 "nbformat": 4,
 "nbformat_minor": 5
}
