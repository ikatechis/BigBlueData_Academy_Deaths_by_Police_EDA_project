{
 "cells": [
  {
   "cell_type": "code",
   "execution_count": 18,
   "id": "cf68d5cb-ce52-4546-a653-aa1116124c6d",
   "metadata": {},
   "outputs": [],
   "source": [
    "import pandas as pd\n",
    "import numpy as np\n",
    "\n",
    "pd.set_option('display.max_rows', 50)\n",
    "pd.set_option('display.max_colwidth', 20)"
   ]
  },
  {
   "cell_type": "code",
   "execution_count": 23,
   "id": "82a381e5-fd9b-4a3f-b408-3c869c05be03",
   "metadata": {},
   "outputs": [],
   "source": [
    "dataset1 = '../data/Innocent Deaths caused by Police (All time).csv'\n",
    "dataset2 = '../data/Visualizing inequity - 2013-2020 Police Killings.csv'"
   ]
  },
  {
   "cell_type": "code",
   "execution_count": 24,
   "id": "65a5f915-2c91-44a7-93ee-de29aa244f93",
   "metadata": {},
   "outputs": [],
   "source": [
    "df1 = pd.read_csv(dataset1)\n",
    "df2 = pd.read_csv(dataset2)"
   ]
  },
  {
   "cell_type": "code",
   "execution_count": 21,
   "id": "12797d72-ad74-4073-8e7e-86590a5e063a",
   "metadata": {},
   "outputs": [
    {
     "name": "stdout",
     "output_type": "stream",
     "text": [
      "Unique ID\n",
      "Name\n",
      "Age\n",
      "Gender\n",
      "Race\n",
      "URL of image\n",
      " Date of injury resulting in death (month/day/year)\n",
      "Location of injury (address)\n",
      "Location of death (city)\n",
      "State\n",
      "Location of death (zip code)\n",
      "Location of death (county)\n",
      "Full Address\n",
      "Latitude\n",
      "Longitude\n",
      "Agency or agencies involved\n",
      "Highest level of force\n",
      "Alleged weapon\n",
      "Aggressive physical movement\n",
      "Fleeing/Not fleeing\n",
      "Description Temp\n",
      "URL Temp\n",
      "Brief description\n",
      "Dispositions/Exclusions INTERNAL USE, NOT FOR ANALYSIS\n",
      "Intended use of force (Developing)\n",
      "Supporting document link\n",
      "Foreknowledge of mental illness\n"
     ]
    }
   ],
   "source": [
    "\n",
    "pd.Series(df1.columns).map(print)\n",
    "None"
   ]
  },
  {
   "cell_type": "code",
   "execution_count": 25,
   "id": "1b3095f1-6109-4128-bf13-faab3b744e7e",
   "metadata": {},
   "outputs": [
    {
     "name": "stdout",
     "output_type": "stream",
     "text": [
      "Victim's name\n",
      "Victim's age\n",
      "Victim's gender\n",
      "Victim's race\n",
      "URL of image of victim\n",
      "Date of Incident (month/day/year)\n",
      "Street Address of Incident\n",
      "City\n",
      "State\n",
      "Zipcode\n",
      "County\n",
      "Agency responsible for death\n",
      "ORI Agency Identifier (if available)\n",
      "Cause of death\n",
      "A brief description of the circumstances surrounding the death\n",
      "Official disposition of death (justified or other)\n",
      "Criminal Charges?\n",
      "Link to news article or photo of official document\n",
      "Symptoms of mental illness?\n",
      "Armed/Unarmed Status\n",
      "Alleged Weapon (Source: WaPo and Review of Cases Not Included in WaPo Database)\n",
      "Alleged Threat Level (Source: WaPo)\n",
      "Fleeing (Source: WaPo)\n",
      "Body Camera (Source: WaPo)\n",
      "WaPo ID (If included in WaPo database)\n",
      "Off-Duty Killing?\n",
      "Geography (via Trulia methodology based on zipcode population density: http://jedkolko.com/wp-content/uploads/2015/05/full-ZCTA-urban-suburban-rural-classification.xlsx )\n",
      "MPV ID\n",
      "Fatal Encounters ID\n",
      "Encounter Type (DRAFT)\n",
      "Initial Reported Reason for Encounter (DRAFT)\n",
      "Names of Officers Involved (DRAFT)\n",
      "Race of Officers Involved (DRAFT)\n",
      "Known Past Shootings of Officer(s) (DRAFT)\n",
      "Call for Service? (DRAFT)\n"
     ]
    },
    {
     "data": {
      "text/plain": [
       "0     None\n",
       "1     None\n",
       "2     None\n",
       "3     None\n",
       "4     None\n",
       "5     None\n",
       "6     None\n",
       "7     None\n",
       "8     None\n",
       "9     None\n",
       "10    None\n",
       "11    None\n",
       "12    None\n",
       "13    None\n",
       "14    None\n",
       "15    None\n",
       "16    None\n",
       "17    None\n",
       "18    None\n",
       "19    None\n",
       "20    None\n",
       "21    None\n",
       "22    None\n",
       "23    None\n",
       "24    None\n",
       "25    None\n",
       "26    None\n",
       "27    None\n",
       "28    None\n",
       "29    None\n",
       "30    None\n",
       "31    None\n",
       "32    None\n",
       "33    None\n",
       "34    None\n",
       "dtype: object"
      ]
     },
     "execution_count": 25,
     "metadata": {},
     "output_type": "execute_result"
    }
   ],
   "source": [
    "pd.Series(df2.columns).map(print)"
   ]
  },
  {
   "cell_type": "code",
   "execution_count": null,
   "id": "ec5d06c1-6370-4b8a-bc31-9e29f95484c4",
   "metadata": {},
   "outputs": [],
   "source": []
  }
 ],
 "metadata": {
  "kernelspec": {
   "display_name": "Python 3 (ipykernel)",
   "language": "python",
   "name": "python3"
  },
  "language_info": {
   "codemirror_mode": {
    "name": "ipython",
    "version": 3
   },
   "file_extension": ".py",
   "mimetype": "text/x-python",
   "name": "python",
   "nbconvert_exporter": "python",
   "pygments_lexer": "ipython3",
   "version": "3.8.11"
  }
 },
 "nbformat": 4,
 "nbformat_minor": 5
}
