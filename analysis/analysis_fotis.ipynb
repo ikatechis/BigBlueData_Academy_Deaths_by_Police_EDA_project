{
 "cells": [
  {
   "cell_type": "code",
   "execution_count": null,
   "id": "8631f3b1-58d7-435d-9733-2ada58805ea9",
   "metadata": {},
   "outputs": [],
   "source": [
    "import pandas as pd\n",
    "import numpy as np\n",
    "import json\n",
    "import matplotlib.pyplot as plt\n",
    "import seaborn as sns\n",
    "import squarify\n",
    "sns.set_theme()"
   ]
  },
  {
   "cell_type": "code",
   "execution_count": null,
   "id": "b1f83742-f7df-4851-bf74-f79d6bd586cd",
   "metadata": {},
   "outputs": [],
   "source": [
    "pd.options.mode.chained_assignment = None"
   ]
  },
  {
   "cell_type": "code",
   "execution_count": null,
   "id": "66cd8bdc-07e7-4bc5-ad63-fe8942cf47e7",
   "metadata": {},
   "outputs": [],
   "source": [
    "pd.set_option('display.max_rows',25)\n",
    "pd.set_option('display.max_colwidth', 500)"
   ]
  },
  {
   "cell_type": "code",
   "execution_count": null,
   "id": "d288476a-54b0-42ec-a92a-2baf6272240f",
   "metadata": {},
   "outputs": [],
   "source": [
    "with open('../data/data_final_dtypes.json', 'r') as f:\n",
    "    dtypes = json.load(f)"
   ]
  },
  {
   "cell_type": "code",
   "execution_count": null,
   "id": "f6018459-c67c-452b-a58a-07f9b36e6808",
   "metadata": {},
   "outputs": [],
   "source": [
    "df = pd.read_csv('../data/data_final.csv', dtype=dtypes)"
   ]
  },
  {
   "cell_type": "code",
   "execution_count": null,
   "id": "526e0dbb-4881-41dc-8cdc-6908a6b8a605",
   "metadata": {},
   "outputs": [],
   "source": [
    "df.date = pd.to_datetime(df.date)"
   ]
  },
  {
   "cell_type": "code",
   "execution_count": null,
   "id": "fe85ed6a-5733-4fac-b470-56a790761a04",
   "metadata": {},
   "outputs": [],
   "source": [
    "c_w =sns.color_palette(\"deep\")[9] # white\n",
    "c_b =sns.color_palette(\"deep\")[4] # black\n",
    "c_na =sns.color_palette(\"deep\")[1] # native american\n",
    "c_a =sns.color_palette(\"deep\")[2] # asian\n",
    "c_me =sns.color_palette(\"deep\")[3] # middle eastern\n",
    "c_h =sns.color_palette(\"deep\")[6] # hispanic"
   ]
  },
  {
   "cell_type": "code",
   "execution_count": null,
   "id": "c138fcab-4ad5-43ab-9de4-02be8222eb84",
   "metadata": {},
   "outputs": [],
   "source": [
    "def change_width(ax, new_value) :\n",
    "    for patch in ax.patches :\n",
    "        current_width = patch.get_width()\n",
    "        diff = current_width - new_value\n",
    "        # we change the bar width\n",
    "        patch.set_width(new_value)\n",
    "        # we recenter the bar\n",
    "        patch.set_x(patch.get_x() + diff * .5)"
   ]
  },
  {
   "cell_type": "code",
   "execution_count": null,
   "id": "16164cc8-b10a-4a65-8dcd-35830c625267",
   "metadata": {},
   "outputs": [],
   "source": [
    "# total deaths per race 2000-2021\n",
    "plt.rcParams['figure.figsize'] = 10,8\n",
    "sns.set(font_scale=1.5, style='dark')\n",
    "plt.style.use(\"dark_background\")\n",
    "\n",
    "fig = sns.countplot(data=df, x='race', \n",
    "                    order = df['race'].value_counts().index, \n",
    "                    palette=[c_w,c_b,c_h,c_a,c_na,c_me])\n",
    "\n",
    "values = df['race'].value_counts().values\n",
    "values = [x for x in values.tolist()]\n",
    "pos = range(len(values))\n",
    "for tick,label in zip(pos,fig.get_xticklabels()):\n",
    "    fig.text(pos[tick], values[tick]+170, values[tick], horizontalalignment='center', size=15, color=(1,1,1), weight='semibold')\n",
    "\n",
    "        \n",
    "change_width(fig, .7)\n",
    "        \n",
    "fig.set(xticklabels=['white','black','hispanic','asian/\\npacific islander','native\\n american','middle eastern'])\n",
    "plt.xlabel('', size=30)\n",
    "plt.ylabel('', size=30)\n",
    "plt.title('Total Deaths per race', size=20)\n",
    "#plt.xticks(rotation=30)\n",
    "\n",
    "plt.savefig('../presentation/total_deaths_per__race.png', dpi=200)\n",
    "plt.savefig('../presentation/total_deaths_per__race_transparent.png', dpi=200, transparent=True)"
   ]
  },
  {
   "cell_type": "code",
   "execution_count": null,
   "id": "351d83f9-b6f7-44a1-afda-891d2b46686b",
   "metadata": {},
   "outputs": [],
   "source": [
    "# Race population percentages in US: https://en.wikipedia.org/wiki/Demographics_of_the_United_States#Race\n",
    "race_perc = {\n",
    "'white':0.615,\n",
    "'black':0.123,\n",
    "'hispanic':0.176,\n",
    "'asian':0.053,\n",
    "'native american':0.007,\n",
    "'middle eastern':0.003,}"
   ]
  },
  {
   "cell_type": "code",
   "execution_count": null,
   "id": "721216b5-b23d-4032-8753-60264ea55b15",
   "metadata": {
    "tags": []
   },
   "outputs": [],
   "source": [
    "race_counts = df.race.value_counts()\n",
    "race_counts = pd.DataFrame(race_counts)\n",
    "race_counts.rename(index={'asian/pacific islander': 'asian'}, inplace=True)\n",
    "race_counts['pop_perc']=race_counts.index.map(race_perc)\n",
    "# Average per million of population killed every year by police per race (average total population 310m 2000-2020)\n",
    "race_counts['death_perc']=race_counts.race*1000000/(310000000*race_counts.pop_perc*20)"
   ]
  },
  {
   "cell_type": "code",
   "execution_count": null,
   "id": "769e2774-2686-45ca-a1bb-6930be3e0651",
   "metadata": {},
   "outputs": [],
   "source": [
    "plt.rcParams['figure.figsize'] = 10,8\n",
    "sns.set(font_scale=1.5, style='dark')\n",
    "plt.style.use(\"dark_background\")\n",
    "\n",
    "fig = sns.barplot(data=race_counts, x=race_counts.index, y='death_perc',\n",
    "                  order = race_counts['death_perc'].sort_values(ascending=False).index, \n",
    "                  palette=[c_b,c_na,c_h,c_w,c_me,c_a])\n",
    "\n",
    "values = race_counts['death_perc'].sort_values(ascending=False).values.round(2)\n",
    "values = [x for x in values.tolist()]\n",
    "pos = range(len(values))\n",
    "for tick,label in zip(pos,fig.get_xticklabels()):\n",
    "    fig.text(pos[tick], values[tick]+0.1, values[tick], horizontalalignment='center', size=15, color=(1,1,1), weight='semibold')\n",
    "\n",
    "plt.xlabel('', size=30)\n",
    "plt.ylabel('Deaths per million', size=20)\n",
    "fig.set(xticklabels=['black','native\\n american','hispanic','white','middle eastern','asian/\\npacific islander'])\n",
    "change_width(fig, .7)\n",
    "plt.title('Average yearly deaths / population of each race', size=20)\n",
    "\n",
    "plt.savefig('../presentation/average_yearly_deaths_per_population_each_race.png', dpi=200)\n",
    "plt.savefig('../presentation/average_yearly_deaths_per_population_each_race_transparent.png', dpi=200, transparent=True)"
   ]
  },
  {
   "cell_type": "code",
   "execution_count": null,
   "id": "d8b6d109-49bc-4439-a911-c404a1984f55",
   "metadata": {},
   "outputs": [],
   "source": [
    "# Gender\n",
    "data = [29318, 3048]\n",
    "labels = ['Male', 'Female']\n",
    "plt.rcParams['figure.figsize'] = 10,10\n",
    "sns.set(font_scale=3, style='dark')\n",
    "plt.style.use(\"dark_background\")\n",
    "\n",
    "plt.pie(data, labels = labels, colors =['b','r'] , autopct='%.0f%%')\n",
    "\n",
    "plt.title('Total deaths: 32391', size=30)\n",
    "\n",
    "plt.savefig('../presentation/gender_pie.png', dpi=200)\n",
    "plt.savefig('../presentation/gender_pie_transparent.png', dpi=200, transparent=True)"
   ]
  },
  {
   "cell_type": "code",
   "execution_count": null,
   "id": "a1f9f6ed-e5d6-469d-b168-1675b3d77e12",
   "metadata": {},
   "outputs": [],
   "source": [
    "# Age distribution of deaths of each race.\n",
    "age_race = df.pivot_table(index = df.index, columns=['race'], values='age')\n",
    "age_race = age_race[age_race<=90]\n",
    "age_race = age_race[['white','black','hispanic','asian/pacific islander','native american','middle eastern']]\n",
    "\n",
    "plt.rcParams['figure.figsize'] = 19,10\n",
    "sns.set(font_scale=2.5, style='dark')\n",
    "plt.style.use(\"dark_background\")\n",
    "\n",
    "fig = sns.violinplot(data=age_race,cut=1, palette=[c_w,c_b,c_h,c_a,c_na,c_me])\n",
    "\n",
    "plt.title('Age distribution of deaths', size=30)\n",
    "plt.xlabel('', size=30)\n",
    "plt.ylabel('Age', size=30)\n",
    "fig.set(yticks=range(0,95,10))\n",
    "\n",
    "# Calculate median to position labels\n",
    "medians = age_race.median().values\n",
    "nobs = medians\n",
    "nobs = [str(int(x)) for x in nobs.tolist()]\n",
    "nobs = [\"       \" + i for i in nobs] \n",
    "\n",
    "# Add text to the figure\n",
    "pos = range(len(nobs))\n",
    "for tick, label in zip(pos, fig.get_xticklabels()):\n",
    "    fig.text(pos[tick], medians[tick]-0.8, nobs[tick],\n",
    "            horizontalalignment='center',\n",
    "            size=20,\n",
    "            color=(1,1,1),\n",
    "            weight='semibold')\n",
    "    \n",
    "fig.set(xticklabels=['white','black','hispanic','asian/\\npacific islander','native\\n american','middle eastern'])\n",
    "#plt.xticks(rotation=30)\n",
    "\n",
    "plt.savefig('../presentation/age_destribution_per_race.png', dpi=200)\n",
    "plt.savefig('../presentation/age_destribution_per_race_transparent.png', dpi=200, transparent=True)"
   ]
  },
  {
   "cell_type": "code",
   "execution_count": null,
   "id": "73a78822-41c5-442d-b749-6e193ed1e999",
   "metadata": {},
   "outputs": [],
   "source": [
    "yearly_deaths"
   ]
  },
  {
   "cell_type": "code",
   "execution_count": null,
   "id": "55675b85-acee-4cbf-abf0-33697b66c195",
   "metadata": {},
   "outputs": [],
   "source": [
    "df['year']=pd.DatetimeIndex(df['date']).year\n",
    "yearly_deaths = df.groupby('year').count().race.drop(2021)\n",
    "\n",
    "plt.rcParams['figure.figsize'] = 19,10\n",
    "sns.set(font_scale=2, style='dark')\n",
    "plt.style.use(\"dark_background\")\n",
    "\n",
    "fig = sns.lineplot(data=yearly_deaths, linewidth = 5)\n",
    "\n",
    "fig.set(xticks=range(2000,2021,1))\n",
    "plt.xlabel(' ', size=30)\n",
    "plt.xticks(rotation=90)\n",
    "plt.ylabel(' ', size=30)\n",
    "plt.title('Total deaths per year', size=30)\n",
    "\n",
    "plt.savefig('../presentation/total_deaths_per_year.png', dpi=200)\n",
    "plt.savefig('../presentation/total_deaths_per_year_transparent.png', dpi=200, transparent=True)"
   ]
  },
  {
   "cell_type": "code",
   "execution_count": null,
   "id": "8a27fe63-27fe-40f5-84af-88ddc455733a",
   "metadata": {
    "tags": []
   },
   "outputs": [],
   "source": [
    "ho = list(a.sum().sort_values(ascending=False).index)"
   ]
  },
  {
   "cell_type": "code",
   "execution_count": null,
   "id": "2ce6a417-26fd-489a-a55b-1e24ccfa343f",
   "metadata": {},
   "outputs": [],
   "source": [
    "a = pd.crosstab(df['year'], df['race']).drop(2021)\n",
    "plt.rcParams['figure.figsize'] = 19,10\n",
    "sns.set(font_scale=2, style='dark')\n",
    "plt.style.use(\"dark_background\")\n",
    "\n",
    "fig = sns.lineplot(data=a, linewidth = 6.5, palette=[c_w,c_b,c_h,c_a,c_na,c_me], hue_order = ho)\n",
    "\n",
    "fig.set(xticks=range(2000,2021,1))\n",
    "plt.xlabel('', size=30)\n",
    "plt.xticks(rotation=90)\n",
    "plt.ylabel('', size=30)\n",
    "plt.title('Deaths per year per race', size=30)\n",
    "\n",
    "plt.savefig('../presentation/deaths_per_race_per_year.png', dpi=200)\n",
    "plt.savefig('../presentation/deaths_per_race_per_year_transparent.png', dpi=200, transparent=True)"
   ]
  },
  {
   "cell_type": "code",
   "execution_count": null,
   "id": "f3f62882-8f2e-4f47-a9aa-feddbbd7e43a",
   "metadata": {},
   "outputs": [],
   "source": [
    "sns.color_palette('deep')"
   ]
  },
  {
   "cell_type": "code",
   "execution_count": null,
   "id": "db8df62d-739d-4c59-9a75-24bc6e2b0c2a",
   "metadata": {},
   "outputs": [],
   "source": [
    "color=(sns.color_palette('deep')[7],sns.color_palette('deep')[2],sns.color_palette('deep')[9],sns.color_palette('deep')[3],sns.color_palette('deep')[8])"
   ]
  },
  {
   "cell_type": "code",
   "execution_count": null,
   "id": "6ccf1499-5a48-4940-a980-737f6e764179",
   "metadata": {},
   "outputs": [],
   "source": [
    "# What were the official dispositions of killings? (Were the officers prosecuted?)\n",
    "data = df.disposition.value_counts()\n",
    "data.justified = data.justified+data['criminal charges']+data['civil suit']\n",
    "data.accidental = data.accidental+data.suicide+data['medical emergency']\n",
    "data.drop(labels=['suicide','criminal charges','civil suit','medical emergency'], inplace=True)\n",
    "data.index = ['Pending investigation','Justified  / Criminal charges acquitted','Accidental /\\n Suicide /\\n Medical \\nemergency',' ',' ']\n",
    "color=(sns.color_palette('deep')[7],sns.color_palette('deep')[2],sns.color_palette('deep')[9],sns.color_palette('deep')[3],sns.color_palette('deep')[8])\n",
    "\n",
    "plt.rcParams['figure.figsize'] = 19,10\n",
    "sns.set(font_scale = 3)\n",
    "\n",
    "squarify.plot(data, label = data.index, color=color)\n",
    "\n",
    "#plt.title('Dispositions', size=30)\n",
    "plt.axis('off')\n",
    "plt.tight_layout()\n",
    "plt.savefig('../presentation/disposistions_boxplot.png', dpi=200)\n"
   ]
  },
  {
   "cell_type": "code",
   "execution_count": null,
   "id": "8687d6f5-c676-4e0b-90cf-fa890c64a95f",
   "metadata": {
    "tags": []
   },
   "outputs": [],
   "source": [
    "df2=df.copy()\n",
    "df2['death_cat']=''\n",
    "df2.death_cat[df2.death_cause=='gunshot']='Gunshot'\n",
    "df2.death_cat[df2.death_cause=='vehicle']='Vehicle'\n",
    "df2.death_cat[df2.death_cause=='taser']='Taser/ Gas/\\n Pepper spray'\n",
    "df2.death_cat[df2.death_cause=='medical emergency']='Medical\\n emergency \\ne.g. heart attack'\n",
    "df2.death_cat[df2.death_cause=='asphyxia']='Beaten/ Stabbed/\\n Restrained'\n",
    "df2.death_cat[df2.death_cause=='drowned']='Accidental'\n",
    "df2.death_cat[df2.death_cause=='beaten']='Beaten/ Stabbed/\\n Restrained'\n",
    "df2.death_cat[df2.death_cause=='drug overdose']='Drug\\n overdose'\n",
    "df2.death_cat[df2.death_cause=='fell from a height']='Accidental'\n",
    "df2.death_cat[df2.death_cause=='stabbed']='Beaten/ Stabbed/\\n Restrained'\n",
    "df2.death_cat[df2.death_cause=='burned/smoke inhalation']='Accidental'\n",
    "df2.death_cat[df2.death_cause=='chemical']='Taser/ Gas/\\n Pepper spray'\n",
    "df2.death_cat[df2.death_cause=='restraint']='Beaten/ Stabbed/\\n Restrained'\n",
    "df2.death_cat[df2.death_cause=='beanbag']='Gunshot'\n",
    "df2.death_cat[df2.death_cause=='bomb']='Gunshot'\n",
    "df2 = df2[df2.death_cat != '']\n",
    "df2=df2.groupby('death_cat')['name'].count()\n",
    "df2 = 100*df2 / df2.sum()\n",
    "df2 = df2.reset_index().sort_values('name', ascending=False)"
   ]
  },
  {
   "cell_type": "code",
   "execution_count": null,
   "id": "c4d1f6f7-ebc1-4b53-b7ee-023afd4fc733",
   "metadata": {
    "tags": []
   },
   "outputs": [],
   "source": [
    "sns.set(font_scale=1.5, style='dark')\n",
    "plt.style.use(\"dark_background\")\n",
    "plt.figure(figsize=(30, 20))\n",
    "\n",
    "sns.catplot(x='name', y='death_cat' , orient='h', kind=\"bar\", palette=sns.color_palette('deep'), data=df2, aspect=1.5, height=8)\n",
    "\n",
    "plt.ylabel('')\n",
    "plt.xlabel('%')\n",
    "#plt.title('Cause of death', size=20)\n",
    "\n",
    "plt.savefig('../presentation/cause_of_deaths_catplot.png', dpi=200)\n",
    "plt.savefig('../presentation/cause_of_deaths_catplot_transparent.png', dpi=200, transparent=True)\n"
   ]
  }
 ],
 "metadata": {
  "kernelspec": {
   "display_name": "Python 3",
   "language": "python",
   "name": "python3"
  },
  "language_info": {
   "codemirror_mode": {
    "name": "ipython",
    "version": 3
   },
   "file_extension": ".py",
   "mimetype": "text/x-python",
   "name": "python",
   "nbconvert_exporter": "python",
   "pygments_lexer": "ipython3",
   "version": "3.8.8"
  }
 },
 "nbformat": 4,
 "nbformat_minor": 5
}
