{
 "cells": [
  {
   "cell_type": "code",
   "execution_count": null,
   "id": "ead3a6d3-b16f-42f0-9336-ec22bd5a1379",
   "metadata": {},
   "outputs": [],
   "source": [
    "import pandas as pd\n",
    "import numpy as np\n",
    "import json\n",
    "from urllib.request import urlopen\n",
    "\n",
    "import plotly.express as px\n",
    "import plotly.graph_objects as go\n",
    "import matplotlib.pyplot as plt\n",
    "import seaborn as sns"
   ]
  },
  {
   "cell_type": "code",
   "execution_count": null,
   "id": "45265fa0-f6a0-4eae-84f3-04315f7b45ed",
   "metadata": {},
   "outputs": [],
   "source": [
    "df = pd.read_csv('../data/data_with_fips_info.csv', low_memory=False)"
   ]
  },
  {
   "cell_type": "code",
   "execution_count": null,
   "id": "d5fdd87a-f34e-4fd8-91d7-c6cdb5fb8593",
   "metadata": {},
   "outputs": [],
   "source": [
    "df.shape"
   ]
  },
  {
   "cell_type": "code",
   "execution_count": null,
   "id": "1845a235-5db5-4185-bfb0-d3e6ef9d2d16",
   "metadata": {},
   "outputs": [],
   "source": [
    "df.date =  pd.to_datetime(df.date)"
   ]
  },
  {
   "cell_type": "code",
   "execution_count": null,
   "id": "7aad803b-b563-403a-b086-7eca20d20d6e",
   "metadata": {},
   "outputs": [],
   "source": [
    "years = df.date.dt.year"
   ]
  },
  {
   "cell_type": "code",
   "execution_count": null,
   "id": "e4f790dd-b0db-41e8-ab55-33021effc820",
   "metadata": {},
   "outputs": [],
   "source": [
    "df['years'] = years"
   ]
  },
  {
   "cell_type": "code",
   "execution_count": null,
   "id": "7d9799d4-4b7e-4311-a0b5-88cc67920cb1",
   "metadata": {},
   "outputs": [],
   "source": [
    "df.head()"
   ]
  },
  {
   "cell_type": "code",
   "execution_count": null,
   "id": "817b34cc-1b4d-42f0-9bc7-dfc407a3f354",
   "metadata": {},
   "outputs": [],
   "source": [
    "token = 'pk.eyJ1IjoiaWFzb25pdXMiLCJhIjoiY2t2aXN3ZzJ2NG01bjJubHVoZjM1cWo1NiJ9.XTrnRp8a8GMZyhjre0iZOQ'\n",
    "\n",
    "fig = px.scatter_mapbox(df, lat=\"latitude\", lon=\"longitude\", hover_name=\"city\", hover_data=[\"name\"],\n",
    "                        color_discrete_sequence=[\"gold\"], zoom=3, height=1000, animation_frame='years')\n",
    "fig.update_layout(mapbox_style=\"dark\", mapbox_accesstoken=token)\n",
    "fig.update_layout(margin={\"r\":0,\"t\":0,\"l\":0,\"b\":0})\n",
    "fig.show()\n",
    "fig.write_html(\"timelapse.html\")"
   ]
  },
  {
   "cell_type": "code",
   "execution_count": null,
   "id": "0a0bdbfb-1e96-4b43-b3c6-b8ae88b4c71c",
   "metadata": {},
   "outputs": [],
   "source": [
    "import plotly.graph_objects as go\n",
    "\n",
    "mapbox_access_token = 'pk.eyJ1IjoiaWFzb25pdXMiLCJhIjoiY2t2aXN3ZzJ2NG01bjJubHVoZjM1cWo1NiJ9.XTrnRp8a8GMZyhjre0iZOQ'\n",
    "\n",
    "fig = go.Figure(go.Scattermapbox(\n",
    "        lat=['37.0902'],\n",
    "        lon=['-95.7129'],\n",
    "        mode='markers',\n",
    "        marker=go.scattermapbox.Marker(opacity=1,\n",
    "            size=1\n",
    "        ),\n",
    "    ))\n",
    "\n",
    "fig.update_layout(\n",
    "    hovermode='closest', height=780, width=1300,\n",
    "    mapbox=dict(style=\"dark\",\n",
    "        accesstoken=mapbox_access_token,\n",
    "        bearing=0,\n",
    "        center=go.layout.mapbox.Center(\n",
    "            lat=37,\n",
    "            lon=-95\n",
    "        ),\n",
    "        pitch=0,\n",
    "        zoom=5, \n",
    "    ) ,\n",
    "    margin=dict(\n",
    "        l=0,\n",
    "        r=0,\n",
    "        b=0,\n",
    "        t=0,\n",
    "        pad=4\n",
    "    )\n",
    ")\n",
    "\n",
    "# import plotly.io as pio\n",
    "# #save a figure of 300dpi, with 1.5 inches, and  height 0.75inches\n",
    "# pio.write_image(fig, \"test.pdf\", scale=1)"
   ]
  },
  {
   "cell_type": "code",
   "execution_count": null,
   "id": "30726b6f-ab5c-425e-a20b-54986fc12b29",
   "metadata": {},
   "outputs": [],
   "source": []
  }
 ],
 "metadata": {
  "kernelspec": {
   "display_name": "Python 3 (ipykernel)",
   "language": "python",
   "name": "python3"
  },
  "language_info": {
   "codemirror_mode": {
    "name": "ipython",
    "version": 3
   },
   "file_extension": ".py",
   "mimetype": "text/x-python",
   "name": "python",
   "nbconvert_exporter": "python",
   "pygments_lexer": "ipython3",
   "version": "3.9.7"
  }
 },
 "nbformat": 4,
 "nbformat_minor": 5
}
