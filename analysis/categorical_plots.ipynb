{
 "cells": [
  {
   "cell_type": "code",
   "execution_count": null,
   "id": "d2e35f94-a3ed-498f-85df-f0a864760150",
   "metadata": {
    "tags": []
   },
   "outputs": [],
   "source": [
    "import pandas as pd\n",
    "import numpy as np\n",
    "import json\n",
    "from urllib.request import urlopen\n",
    "\n",
    "import plotly.express as px\n",
    "import plotly.graph_objects as go\n",
    "import matplotlib.pyplot as plt\n",
    "import seaborn as sns"
   ]
  },
  {
   "cell_type": "code",
   "execution_count": null,
   "id": "137f3b27-c4c6-4d70-bb5d-737a277df978",
   "metadata": {},
   "outputs": [],
   "source": [
    "pd.set_option('display.max_rows',50)\n",
    "pd.set_option('display.max_colwidth', 20)"
   ]
  },
  {
   "cell_type": "markdown",
   "id": "09b98054-3745-4e81-b907-28a80295fd8c",
   "metadata": {},
   "source": [
    "Load and assign data types"
   ]
  },
  {
   "cell_type": "code",
   "execution_count": null,
   "id": "47093346-648d-42ed-ae96-10c3e33c3870",
   "metadata": {},
   "outputs": [],
   "source": [
    "\n",
    "with open('../data/data_final_dtypes.json', 'r') as f:\n",
    "    dtypes = json.load(f)"
   ]
  },
  {
   "cell_type": "code",
   "execution_count": null,
   "id": "715d5ed3-af0c-4a2d-afa9-a6a3d45be74b",
   "metadata": {},
   "outputs": [],
   "source": [
    "df = pd.read_csv('../data/data_final.csv', dtype=dtypes)"
   ]
  },
  {
   "cell_type": "code",
   "execution_count": null,
   "id": "23f64e9c-519d-4412-ab34-360aff95bf15",
   "metadata": {},
   "outputs": [],
   "source": [
    "df.date = pd.to_datetime(df.date)"
   ]
  },
  {
   "cell_type": "code",
   "execution_count": null,
   "id": "69075bed-890e-41b4-9813-2e8e01c98c1a",
   "metadata": {},
   "outputs": [],
   "source": [
    "df.threat.value_counts()"
   ]
  },
  {
   "cell_type": "code",
   "execution_count": null,
   "id": "a9c421f9-8f53-4c2e-9ee4-e7a9b362bde3",
   "metadata": {},
   "outputs": [],
   "source": []
  },
  {
   "cell_type": "code",
   "execution_count": null,
   "id": "d7d904bc-fcb6-4347-b1a7-57ad961b1799",
   "metadata": {},
   "outputs": [],
   "source": [
    "df.head(1)"
   ]
  },
  {
   "cell_type": "code",
   "execution_count": null,
   "id": "ae2dd3e3-16f2-463f-8981-a33597d76f01",
   "metadata": {},
   "outputs": [],
   "source": [
    "threat = df.groupby(['race', 'threat'])['name'].count().reset_index().rename({'name': 'kills_total'}, axis=1)"
   ]
  },
  {
   "cell_type": "code",
   "execution_count": null,
   "id": "876f3f6e-5e68-45e0-90b5-69bfc9073ed5",
   "metadata": {},
   "outputs": [],
   "source": [
    "threat.head()"
   ]
  },
  {
   "cell_type": "code",
   "execution_count": null,
   "id": "2c7deccf-4477-4b24-866b-08a4262bd966",
   "metadata": {},
   "outputs": [],
   "source": [
    "order = ['white', 'black', 'native american', 'hispanic', 'asian/pacific islander', 'middle eastern']\n",
    "hue_order = ['no', 'attack', 'threatening movement', 'struggled', 'self-inflicted injury', 'reached to waist']"
   ]
  },
  {
   "cell_type": "code",
   "execution_count": null,
   "id": "5699550b-0da4-4e62-a5c7-e923821f3f7a",
   "metadata": {},
   "outputs": [],
   "source": [
    "sns.set(font_scale=2, style='dark')\n",
    "plt.style.use(\"dark_background\")\n",
    "plt.figure(figsize=(30, 20))\n",
    "\n",
    "sns.catplot(x=\"kills_total\", y=\"race\", hue=\"threat\", orient='h', order=order, hue_order=hue_order,\n",
    "            kind=\"bar\", palette=sns.color_palette('deep'), data=threat, aspect=1.5, height=8)\n",
    "\n",
    "plt.xlabel('Deaths Total')\n",
    "plt.ylabel('Race')\n",
    "plt.tight_layout()\n",
    "plt.savefig('../presentation/threat_per_race_transp.png', dpi=200, transparent=True)\n",
    "plt.savefig('../presentation/threat_per_race.png', dpi=200, transparent=False)"
   ]
  },
  {
   "cell_type": "code",
   "execution_count": null,
   "id": "001b40af-b07b-4b01-a766-122eb363201c",
   "metadata": {},
   "outputs": [],
   "source": [
    "piv = threat.pivot_table(index='threat', columns='race', values='kills_total')"
   ]
  },
  {
   "cell_type": "code",
   "execution_count": null,
   "id": "9f787aa1-dc2f-480a-a972-cd96a26954c1",
   "metadata": {},
   "outputs": [],
   "source": [
    "piv_perc = piv.apply(lambda c: c/c.sum(), axis=0).reset_index()"
   ]
  },
  {
   "cell_type": "code",
   "execution_count": null,
   "id": "8653d0b1-9f99-4c5a-9c1a-575f36bcb1dd",
   "metadata": {},
   "outputs": [],
   "source": [
    "piv_perc"
   ]
  },
  {
   "cell_type": "code",
   "execution_count": null,
   "id": "0b99bd1c-0757-445a-8b9f-77f2126b5311",
   "metadata": {},
   "outputs": [],
   "source": [
    "threat_perc = piv_perc.melt(id_vars='threat').groupby(['race', 'threat'])['value'].sum().reset_index()"
   ]
  },
  {
   "cell_type": "code",
   "execution_count": null,
   "id": "91c666e8-31f5-4f89-b823-b3de783cb681",
   "metadata": {},
   "outputs": [],
   "source": [
    "threat_perc.head(2)"
   ]
  },
  {
   "cell_type": "code",
   "execution_count": null,
   "id": "fdbe3f18-396b-440a-b3e1-908f949a683c",
   "metadata": {},
   "outputs": [],
   "source": [
    "sns.set(font_scale=2, style='dark')\n",
    "plt.style.use(\"dark_background\")\n",
    "plt.figure(figsize=(30, 20))\n",
    "\n",
    "sns.catplot(x=\"value\", y=\"race\", hue=\"threat\", orient='h', order=order, hue_order=hue_order,\n",
    "            kind=\"bar\", palette=sns.color_palette('deep'), data=threat_perc, aspect=1.7, height=8)\n",
    "\n",
    "plt.xlabel('Deaths (%)')\n",
    "plt.ylabel('Race')\n",
    "plt.tight_layout()\n",
    "plt.savefig('../presentation/threat_per_race_percent_transp.png', dpi=200, transparent=True)\n",
    "plt.savefig('../presentation/threat_per_race_percent.png', dpi=200, transparent=False)"
   ]
  },
  {
   "cell_type": "code",
   "execution_count": null,
   "id": "e13a0604-1368-49eb-b22b-c94527e1d62a",
   "metadata": {},
   "outputs": [],
   "source": []
  }
 ],
 "metadata": {
  "kernelspec": {
   "display_name": "Python 3 (ipykernel)",
   "language": "python",
   "name": "python3"
  },
  "language_info": {
   "codemirror_mode": {
    "name": "ipython",
    "version": 3
   },
   "file_extension": ".py",
   "mimetype": "text/x-python",
   "name": "python",
   "nbconvert_exporter": "python",
   "pygments_lexer": "ipython3",
   "version": "3.9.7"
  }
 },
 "nbformat": 4,
 "nbformat_minor": 5
}
