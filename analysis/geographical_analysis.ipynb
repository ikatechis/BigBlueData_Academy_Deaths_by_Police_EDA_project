{
 "cells": [
  {
   "cell_type": "code",
   "execution_count": null,
   "id": "c020182c-a60c-4dfe-92bb-93a1e4ca5d29",
   "metadata": {
    "tags": []
   },
   "outputs": [],
   "source": [
    "import pandas as pd\n",
    "import numpy as np\n",
    "import json\n",
    "from urllib.request import urlopen\n",
    "\n",
    "import plotly.express as px\n",
    "import matplotlib.pyplot as plt\n",
    "import seaborn as sns\n",
    "sns.set_theme()"
   ]
  },
  {
   "cell_type": "code",
   "execution_count": null,
   "id": "4e67bc4f-5cc6-45b4-a4d9-ac79a9743d4f",
   "metadata": {},
   "outputs": [],
   "source": [
    "pd.set_option('display.max_rows',50)\n",
    "pd.set_option('display.max_colwidth', 20)"
   ]
  },
  {
   "cell_type": "markdown",
   "id": "cd8ec1e3-c14f-4da0-9d4a-5a90b3b2a24e",
   "metadata": {},
   "source": [
    "Load and assign data types"
   ]
  },
  {
   "cell_type": "code",
   "execution_count": null,
   "id": "577290eb-d249-4db3-b3f6-f2543d030523",
   "metadata": {},
   "outputs": [],
   "source": [
    "\n",
    "with open('../data/data_final_dtypes.json', 'r') as f:\n",
    "    dtypes = json.load(f)"
   ]
  },
  {
   "cell_type": "code",
   "execution_count": null,
   "id": "699f751a-d05f-4eb7-bfc1-6471446a687c",
   "metadata": {},
   "outputs": [],
   "source": [
    "df = pd.read_csv('../data/data_final.csv', dtype=dtypes)"
   ]
  },
  {
   "cell_type": "code",
   "execution_count": null,
   "id": "f22449da-36f9-4bc1-86c8-7bdc17f44f69",
   "metadata": {},
   "outputs": [],
   "source": [
    "df.date = pd.to_datetime(df.date)"
   ]
  },
  {
   "cell_type": "markdown",
   "id": "5e9fe2c9-e549-4785-bfbb-c36c72aff6bf",
   "metadata": {},
   "source": [
    "Import fips codes for states and counties"
   ]
  },
  {
   "cell_type": "code",
   "execution_count": null,
   "id": "205c4180-e7f4-41bc-a2ab-dec9d00d63d2",
   "metadata": {},
   "outputs": [],
   "source": [
    "geocodes = pd.read_excel('../data/geodata/all-geocodes-v2018.xlsx', header=4, dtype=str)"
   ]
  },
  {
   "cell_type": "code",
   "execution_count": null,
   "id": "6d7cf0d7-c8d5-4fc7-b57d-5cca973b4df1",
   "metadata": {},
   "outputs": [],
   "source": [
    "geocodes.head(2)"
   ]
  },
  {
   "cell_type": "code",
   "execution_count": null,
   "id": "9d63b6b7-5b23-4394-8b27-8742f0bc7a00",
   "metadata": {},
   "outputs": [],
   "source": [
    "geocodes.rename({'State Code (FIPS)': 'state_fips', \n",
    "                 'County Code (FIPS)': 'county_fips',\n",
    "                 'County Subdivision Code (FIPS)': 'sub_county_fips',\n",
    "                 'Place Code (FIPS)': 'place_fips',\n",
    "                 'Area Name (including legal/statistical area description)': 'area'},\n",
    "               axis=1, inplace=True)"
   ]
  },
  {
   "cell_type": "code",
   "execution_count": null,
   "id": "98c2efa6-ba84-4ff2-8462-ff41093df179",
   "metadata": {},
   "outputs": [],
   "source": [
    "geocodes = geocodes[['state_fips', 'county_fips', 'sub_county_fips', 'place_fips','area']].iloc[1:, :]"
   ]
  },
  {
   "cell_type": "code",
   "execution_count": null,
   "id": "c9d97f85-5c47-46c6-8966-07c04dbae8c3",
   "metadata": {},
   "outputs": [],
   "source": [
    "geocodes.head(2)"
   ]
  },
  {
   "cell_type": "code",
   "execution_count": null,
   "id": "0374d3b6-d42c-4625-b8cf-f6a13647252e",
   "metadata": {},
   "outputs": [],
   "source": [
    "states = geocodes.drop_duplicates(subset='state_fips').reset_index()"
   ]
  },
  {
   "cell_type": "code",
   "execution_count": null,
   "id": "d7dedc24-a287-468b-b9be-4f86b55fbcfb",
   "metadata": {},
   "outputs": [],
   "source": [
    "county_fips_long = geocodes.state_fips + geocodes.county_fips"
   ]
  },
  {
   "cell_type": "code",
   "execution_count": null,
   "id": "de51b0aa-0c61-4de1-a999-a4258017d2ae",
   "metadata": {
    "tags": []
   },
   "outputs": [],
   "source": [
    "geocodes.insert(2, 'county_fips_long', county_fips_long)"
   ]
  },
  {
   "cell_type": "code",
   "execution_count": null,
   "id": "83edfed5-c759-4b08-9dde-244fcd9a88a8",
   "metadata": {},
   "outputs": [],
   "source": [
    "counties = geocodes.query('county_fips != \"000\"').drop_duplicates(subset='county_fips_long')"
   ]
  },
  {
   "cell_type": "code",
   "execution_count": null,
   "id": "221dad01-b3ba-47d2-b8a4-000377734d44",
   "metadata": {},
   "outputs": [],
   "source": [
    "counties = counties[counties.state_fips != '72'] # drop Puerto Rico"
   ]
  },
  {
   "cell_type": "code",
   "execution_count": null,
   "id": "3c9b26ae-dccf-4d3d-8ab8-a712e4d46efa",
   "metadata": {},
   "outputs": [],
   "source": [
    "counties['area_key'] = counties.area.str.rsplit(' ', 1).str[0].str.lower()"
   ]
  },
  {
   "cell_type": "code",
   "execution_count": null,
   "id": "9e99866a-942e-4f3d-8f2c-4d0feab4316d",
   "metadata": {},
   "outputs": [],
   "source": [
    "# make column with state codes\n",
    "state_fips = pd.read_csv('../data/geodata/states_fips.csv', dtype=str)"
   ]
  },
  {
   "cell_type": "code",
   "execution_count": null,
   "id": "afa332ed-07d5-4df4-8113-4a089c3a27b7",
   "metadata": {
    "tags": []
   },
   "outputs": [],
   "source": [
    "state_fips.head()"
   ]
  },
  {
   "cell_type": "code",
   "execution_count": null,
   "id": "0f829dbb-939d-411f-a63a-a32312e192e0",
   "metadata": {},
   "outputs": [],
   "source": [
    "state_fips = state_fips[['st', 'stusps']]"
   ]
  },
  {
   "cell_type": "code",
   "execution_count": null,
   "id": "813af70d-fcf4-4407-bcf2-b65d45787a06",
   "metadata": {},
   "outputs": [],
   "source": [
    "state_fips.stusps = state_fips.stusps.str.strip()\n",
    "state_fips.st = state_fips.st.str.strip()"
   ]
  },
  {
   "cell_type": "code",
   "execution_count": null,
   "id": "3162bbad-d55e-442a-a1bc-18e1838e59d9",
   "metadata": {},
   "outputs": [],
   "source": [
    "state_fips = state_fips.set_index('st').to_dict()['stusps']"
   ]
  },
  {
   "cell_type": "code",
   "execution_count": null,
   "id": "45010ab9-056d-40a5-bafc-c5a5899dcbfe",
   "metadata": {},
   "outputs": [],
   "source": [
    "counties['state_code'] = counties.state_fips.map(state_fips)"
   ]
  },
  {
   "cell_type": "code",
   "execution_count": null,
   "id": "4d32c6a8-0b99-4635-ac7f-b8fd787d979f",
   "metadata": {},
   "outputs": [],
   "source": [
    "counties"
   ]
  },
  {
   "cell_type": "code",
   "execution_count": null,
   "id": "bc63ac34-bbc0-42bd-8561-8db7edf22a05",
   "metadata": {},
   "outputs": [],
   "source": [
    "\n",
    "with urlopen('https://raw.githubusercontent.com/plotly/datasets/master/geojson-counties-fips.json') as response:\n",
    "    counties_json = json.load(response)\n",
    "\n",
    "dfips = pd.read_csv(\"https://raw.githubusercontent.com/plotly/datasets/master/fips-unemp-16.csv\",\n",
    "                   dtype={\"fips\": str})"
   ]
  },
  {
   "cell_type": "code",
   "execution_count": null,
   "id": "6c033234-f848-44ce-ba02-50c5089d4398",
   "metadata": {
    "tags": []
   },
   "outputs": [],
   "source": [
    "# fig = px.choropleth(geojson=counties_json, locations=counties.county_fips_long,\n",
    "#                            color_continuous_scale=\"Viridis\",\n",
    "#                            range_color=(0, 12),\n",
    "#                            scope=\"usa\",\n",
    "#                            labels={'unemp':'unemployment rate'}\n",
    "#                           )\n",
    "# fig.update_layout(margin={\"r\":0,\"t\":0,\"l\":0,\"b\":0})\n",
    "# fig.show()"
   ]
  },
  {
   "cell_type": "markdown",
   "id": "91ecc9d7-6e41-41da-9db0-588b3c56e72e",
   "metadata": {},
   "source": [
    "Add fips code information for all the counties and states in the main dataset"
   ]
  },
  {
   "cell_type": "code",
   "execution_count": null,
   "id": "ea30b2ee-8d0d-4509-9303-14d6490f2aa3",
   "metadata": {},
   "outputs": [],
   "source": [
    "df['county_key'] = df.county.str.lower() "
   ]
  },
  {
   "cell_type": "code",
   "execution_count": null,
   "id": "097c8c56-d6ec-4eee-962d-33e61cc6c75c",
   "metadata": {},
   "outputs": [],
   "source": [
    "df_fips = pd.merge(df, counties, how='left', \n",
    "                   left_on=['county_key', 'state'], right_on=['area_key', 'state_code'])"
   ]
  },
  {
   "cell_type": "code",
   "execution_count": null,
   "id": "8a77fe54-f5dd-4c01-bbcf-d450af70f129",
   "metadata": {},
   "outputs": [],
   "source": [
    "df_fips = df_fips.drop_duplicates(subset=['name', 'date', 'county', 'state'])"
   ]
  },
  {
   "cell_type": "code",
   "execution_count": null,
   "id": "a3fd3ffb-fa8c-4620-890f-050c6da08559",
   "metadata": {},
   "outputs": [],
   "source": [
    "df_fips.head()"
   ]
  },
  {
   "cell_type": "markdown",
   "id": "e31146b0-9b74-4000-8f45-f044a60fdf35",
   "metadata": {},
   "source": [
    "## Killings per County 2000-2021"
   ]
  },
  {
   "cell_type": "markdown",
   "id": "62e7e5c7-8114-4925-92ca-3144e821aa2e",
   "metadata": {},
   "source": [
    "Get total killings per county - all-time"
   ]
  },
  {
   "cell_type": "code",
   "execution_count": null,
   "id": "ae59b92d-5916-475e-8230-2a3bbada4f94",
   "metadata": {},
   "outputs": [],
   "source": [
    "kills_per_county = (df_fips.groupby(['county_fips_long', 'county', 'state'])['name']\n",
    "         .count()\n",
    "         .reset_index()\n",
    "         .rename({'name': 'kills_total'}, axis=1)\n",
    "        )"
   ]
  },
  {
   "cell_type": "code",
   "execution_count": null,
   "id": "c4e45e90-79ae-42f3-977e-23795721f61b",
   "metadata": {},
   "outputs": [],
   "source": [
    "# kills_per_county.head()"
   ]
  },
  {
   "cell_type": "code",
   "execution_count": null,
   "id": "434adef8-021d-4c63-af5f-11acdf13aeb0",
   "metadata": {
    "tags": []
   },
   "outputs": [],
   "source": [
    "# fig = px.choropleth(kills_per_county, geojson=counties_json, locations='county_fips_long',\n",
    "#                     color='kills_total',\n",
    "#                     hover_data=['county', 'kills_total'],\n",
    "#                            color_continuous_scale=\"Viridis\",\n",
    "#                            scope=\"usa\",\n",
    "#                            labels={'unemp':'unemployment rate'}\n",
    "#                           )\n",
    "# fig.update_layout(margin={\"r\":0,\"t\":0,\"l\":0,\"b\":0})\n",
    "# fig.show()"
   ]
  },
  {
   "cell_type": "markdown",
   "id": "562a5e86-aa0b-46f9-b1f0-693949b69f31",
   "metadata": {},
   "source": [
    "Merge `kills_per_county` dataframe with population per county info"
   ]
  },
  {
   "cell_type": "code",
   "execution_count": null,
   "id": "cf4712ea-3d67-4271-b47b-41324a3b4293",
   "metadata": {},
   "outputs": [],
   "source": [
    "pop = pd.read_csv('../data/geodata/co-population-est2019-alldata.csv',\n",
    "                  encoding = \"ISO-8859-1\", \n",
    "                  dtype=str, \n",
    "                  usecols=['STATE', 'STNAME', 'CTYNAME', 'COUNTY', \n",
    "                           'CENSUS2010POP', 'ESTIMATESBASE2010',\n",
    "                          'POPESTIMATE2010', 'POPESTIMATE2011', 'POPESTIMATE2012', \n",
    "                          'POPESTIMATE2013', 'POPESTIMATE2014', 'POPESTIMATE2015', \n",
    "                          'POPESTIMATE2016', 'POPESTIMATE2017', 'POPESTIMATE2018',\n",
    "                          'POPESTIMATE2019'])"
   ]
  },
  {
   "cell_type": "code",
   "execution_count": null,
   "id": "8de14e69-9625-4b8a-83fe-1f23f3723573",
   "metadata": {},
   "outputs": [],
   "source": [
    "# Average the population per county for 2010 - 2019 estimates\n",
    "pop_estimates = pop.iloc[:, 4:].apply(pd.to_numeric, axis=1)"
   ]
  },
  {
   "cell_type": "code",
   "execution_count": null,
   "id": "1c9f4fc8-81e7-4f7e-913d-1bf98eb41e81",
   "metadata": {},
   "outputs": [],
   "source": [
    "pop_avrg = pop.iloc[:, :4]"
   ]
  },
  {
   "cell_type": "code",
   "execution_count": null,
   "id": "1bc859a1-e9c7-4edf-83da-60770ae2b45d",
   "metadata": {},
   "outputs": [],
   "source": [
    "pop_avrg.insert(4, 'pop_avrg', pop_estimates.mean(axis=1))"
   ]
  },
  {
   "cell_type": "code",
   "execution_count": null,
   "id": "0111c3df-48d8-4dbd-89a8-6de91ab6f4e2",
   "metadata": {},
   "outputs": [],
   "source": [
    "pop_avrg.insert(2, 'county_fips', pop_avrg.STATE + pop_avrg.COUNTY)"
   ]
  },
  {
   "cell_type": "code",
   "execution_count": null,
   "id": "017f7a96-fea0-447c-98f5-e882cf526005",
   "metadata": {},
   "outputs": [],
   "source": [
    "pop_avrg_min = pop_avrg[['county_fips', 'pop_avrg', 'STNAME']]"
   ]
  },
  {
   "cell_type": "code",
   "execution_count": null,
   "id": "8a55d8ae-3876-4a6e-9da7-75f0c83f4909",
   "metadata": {},
   "outputs": [],
   "source": [
    "pop_avrg_min.head()"
   ]
  },
  {
   "cell_type": "code",
   "execution_count": null,
   "id": "a72943b8-c15d-4201-8dcd-a08a4196448f",
   "metadata": {},
   "outputs": [],
   "source": [
    "# Now we are ready to merge with killings\n",
    "kills_county_pop = kills_per_county.merge(pop_avrg_min, how='left', \n",
    "                                         left_on='county_fips_long',\n",
    "                                         right_on='county_fips', indicator=True)"
   ]
  },
  {
   "cell_type": "code",
   "execution_count": null,
   "id": "bb71bb30-5a85-43ac-8b64-1fb61d87b7cb",
   "metadata": {},
   "outputs": [],
   "source": [
    "kills_county_pop.pop_avrg = kills_county_pop.pop_avrg.astype(int)"
   ]
  },
  {
   "cell_type": "code",
   "execution_count": null,
   "id": "116d884f-5019-4d58-9aee-fb3416666067",
   "metadata": {},
   "outputs": [],
   "source": [
    "kills_county_pop.rename({'county_fips_long': 'fips', 'STNAME': 'state_name'}, \n",
    "                       axis=1, inplace=True)"
   ]
  },
  {
   "cell_type": "code",
   "execution_count": null,
   "id": "f352438c-a72b-4324-a575-7d8846f086a9",
   "metadata": {},
   "outputs": [],
   "source": [
    "kills_county_pop.drop(labels=['county_fips', '_merge'], axis=1, inplace=True)"
   ]
  },
  {
   "cell_type": "code",
   "execution_count": null,
   "id": "1b15e8b0-99e3-4f46-9bf9-b72b91dc3dca",
   "metadata": {},
   "outputs": [],
   "source": [
    "kills_per_1000 = kills_county_pop.kills_total / kills_county_pop.pop_avrg * 1000 "
   ]
  },
  {
   "cell_type": "code",
   "execution_count": null,
   "id": "31c804b7-6ba6-418a-b710-1055e2f699a5",
   "metadata": {},
   "outputs": [],
   "source": [
    "kills_county_pop.insert(3, 'kills_per_1000', kills_per_1000)"
   ]
  },
  {
   "cell_type": "code",
   "execution_count": null,
   "id": "e1a368a5-e75e-4e5a-a2dd-5e6b11cc3f78",
   "metadata": {},
   "outputs": [],
   "source": [
    "fig = px.choropleth(kills_county_pop, geojson=counties_json, locations='fips',\n",
    "                    color='kills_per_1000',\n",
    "                    hover_data=['county', 'pop_avrg', 'kills_total', 'kills_per_1000'],\n",
    "                           color_continuous_scale=\"Viridis\",\n",
    "                           scope=\"usa\",\n",
    "                           labels={'unemp':'unemployment rate'}\n",
    "                          )\n",
    "fig.update_layout(margin={\"r\":0,\"t\":0,\"l\":0,\"b\":0})\n",
    "fig.show()"
   ]
  },
  {
   "cell_type": "markdown",
   "id": "c5cf0609-9715-4530-823e-62e798e75525",
   "metadata": {},
   "source": [
    "\n",
    "## Study Crime Data"
   ]
  },
  {
   "cell_type": "code",
   "execution_count": null,
   "id": "61755f7d-8c2b-4832-9ca5-1bb713db903e",
   "metadata": {},
   "outputs": [],
   "source": [
    "# https://www.kaggle.com/mikejohnsonjr/united-states-crime-rates-by-county\n",
    "# Crime (2016): https://www.icpsr.umich.edu/icpsrweb/\n",
    "# Population (2013): https://census.gov\n",
    "crime = pd.read_csv('../data/geodata/crime_data_w_population_and_crime_rate_per_county.csv', dtype=str)"
   ]
  },
  {
   "cell_type": "code",
   "execution_count": null,
   "id": "5e3f43f6-2ea7-45d6-afd0-da90f48d2879",
   "metadata": {},
   "outputs": [],
   "source": [
    "crime = crime[['county_name', 'population','crime_rate_per_100000', 'MURDER', 'RAPE', \n",
    "              'AGASSLT', 'BURGLRY', 'FIPS_ST', 'FIPS_CTY']]"
   ]
  },
  {
   "cell_type": "code",
   "execution_count": null,
   "id": "228ede68-3143-4b49-b078-69e2438c7578",
   "metadata": {},
   "outputs": [],
   "source": [
    "crime.columns"
   ]
  },
  {
   "cell_type": "code",
   "execution_count": null,
   "id": "453121aa-cfa7-488a-8cfd-43f49e478cb6",
   "metadata": {},
   "outputs": [],
   "source": [
    "# correct the fips codes so they all have the same number of digits. i.e add zeros to the front of the string\n",
    "def correct_fips(s, length=3):\n",
    "    while len(s) < length:\n",
    "        s = '0' + s\n",
    "    return s\n",
    "\n",
    "crime.FIPS_ST = crime.FIPS_ST.apply(correct_fips, args=[2])\n",
    "crime.FIPS_CTY = crime.FIPS_CTY.apply(correct_fips, args=[3])"
   ]
  },
  {
   "cell_type": "code",
   "execution_count": null,
   "id": "8b939302-112c-4991-aa44-2d45a1c8696c",
   "metadata": {},
   "outputs": [],
   "source": [
    "crime['fips_county'] = crime.FIPS_ST + crime.FIPS_CTY"
   ]
  },
  {
   "cell_type": "code",
   "execution_count": null,
   "id": "774d26c4-4091-4174-8a54-7201a227cbb9",
   "metadata": {},
   "outputs": [],
   "source": [
    "crime.iloc[:, 1:7] = crime.iloc[:, 1:-1].apply(pd.to_numeric)"
   ]
  },
  {
   "cell_type": "code",
   "execution_count": null,
   "id": "374a33d2-775f-43ed-8307-16e05acd6946",
   "metadata": {
    "tags": []
   },
   "outputs": [],
   "source": [
    "crime.crime_rate_per_100000 = crime.crime_rate_per_100000.astype(int)"
   ]
  },
  {
   "cell_type": "code",
   "execution_count": null,
   "id": "3b836ebf-b736-42e3-b72e-d818d9fb0cbe",
   "metadata": {},
   "outputs": [],
   "source": [
    "violent = crime.loc[:, 'MURDER':'BURGLRY'].sum(axis=1)/crime.population * 100000"
   ]
  },
  {
   "cell_type": "code",
   "execution_count": null,
   "id": "f5594d3c-7d32-4eca-aca4-9f151a608e55",
   "metadata": {},
   "outputs": [],
   "source": [
    "crime.insert(3, 'violent_crimes_per_100000', violent.astype(int))"
   ]
  },
  {
   "cell_type": "code",
   "execution_count": null,
   "id": "46a56583-2621-499a-80a4-252a1d947c89",
   "metadata": {},
   "outputs": [],
   "source": [
    "crime"
   ]
  },
  {
   "cell_type": "code",
   "execution_count": null,
   "id": "70960c29-80d3-402e-a2f0-cf8e6b974bb7",
   "metadata": {},
   "outputs": [],
   "source": [
    "# fig = px.choropleth(crime, geojson=counties_json, locations='fips_county',\n",
    "#                     color='violent_crimes_per_100000',\n",
    "#                     hover_data=['county_name', 'population', 'violent_crimes_per_100000'],\n",
    "#                            color_continuous_scale=\"Viridis\",\n",
    "#                            scope=\"usa\",\n",
    "#                            labels={'unemp':'unemployment rate'}\n",
    "#                           )\n",
    "# fig.update_layout(margin={\"r\":0,\"t\":0,\"l\":0,\"b\":0})\n",
    "# fig.show()"
   ]
  },
  {
   "cell_type": "code",
   "execution_count": null,
   "id": "7b9e2b87-1e62-4801-8e5f-b46103afdb29",
   "metadata": {},
   "outputs": [],
   "source": [
    "# make quantiles for the crime-rates\n",
    "crime.violent_crimes_per_100000.quantile([.2, .4, .6, .8, 1])"
   ]
  },
  {
   "cell_type": "code",
   "execution_count": null,
   "id": "0f580877-53ec-480b-9b1c-c7a29b369df4",
   "metadata": {},
   "outputs": [],
   "source": [
    "crime.violent_crimes_per_100000.describe(percentiles=[.2, .4, .6, .8, 1])"
   ]
  },
  {
   "cell_type": "code",
   "execution_count": null,
   "id": "e9329b15-eefb-42f5-be91-5d118c0bbfea",
   "metadata": {},
   "outputs": [],
   "source": [
    "cq = pd.qcut(crime.violent_crimes_per_100000, q=4)\n",
    "crime['vc_per100k_quant'] = cq"
   ]
  },
  {
   "cell_type": "code",
   "execution_count": null,
   "id": "952382e5-dc7d-43ea-904d-e8502f925d70",
   "metadata": {},
   "outputs": [],
   "source": [
    "colormap = ['#edf8fb','#bfd3e6','#9ebcda','#8c96c6','#8856a7','#810f7c']\n",
    "fig = px.choropleth(crime, geojson=counties_json, locations='fips_county',\n",
    "                    color='vc_per100k_quant',\n",
    "                    hover_data=['county_name', 'population', 'violent_crimes_per_100000'],\n",
    "                           color_discrete_sequence=colormap[::-1],\n",
    "                           scope=\"usa\",\n",
    "                           labels={'unemp':'unemployment rate'}\n",
    "                          )\n",
    "fig.update_layout(margin={\"r\":0,\"t\":0,\"l\":0,\"b\":0})\n",
    "fig.show()"
   ]
  },
  {
   "cell_type": "code",
   "execution_count": null,
   "id": "1f55e2a6-0c0a-4c6a-bd88-dd08848a7388",
   "metadata": {
    "jupyter": {
     "source_hidden": true
    },
    "tags": []
   },
   "outputs": [],
   "source": [
    "cq"
   ]
  },
  {
   "cell_type": "code",
   "execution_count": null,
   "id": "24c02b60-4396-418a-8b90-60dc32384ca5",
   "metadata": {
    "tags": []
   },
   "outputs": [],
   "source": [
    "kills_q = pd.qcut(kills_county_pop.kills_per_1000, q=4)\n",
    "kills_county_pop['kills_quant'] = kills_q"
   ]
  },
  {
   "cell_type": "code",
   "execution_count": null,
   "id": "9e118125-c6c6-4275-8b7a-5890c824fd85",
   "metadata": {
    "tags": []
   },
   "outputs": [],
   "source": [
    "colormap = ['#edf8fb','#bfd3e6','#9ebcda','#8c96c6','#8856a7','#810f7c']\n",
    "fig = px.choropleth(kills_county_pop.sort_values(by='kills_quant', ascending=False), \n",
    "                    geojson=counties_json, locations='fips',\n",
    "                    color='kills_quant',\n",
    "                    hover_data=['county', 'pop_avrg', 'kills_total', 'kills_per_1000'],\n",
    "                           color_discrete_sequence=colormap[::-1],\n",
    "                           scope=\"usa\",\n",
    "                           labels={'unemp':'unemployment rate'}\n",
    "                          )\n",
    "fig.update_layout(margin={\"r\":0,\"t\":0,\"l\":0,\"b\":0})\n",
    "fig.show()\n"
   ]
  },
  {
   "cell_type": "code",
   "execution_count": null,
   "id": "582d953a-6484-4dab-85d8-63c1538b2c1a",
   "metadata": {
    "tags": []
   },
   "outputs": [],
   "source": [
    "# Merge crime rates with killings\n",
    "dm = kills_county_pop.merge(crime, how='left', left_on='fips', right_on='fips_county')"
   ]
  },
  {
   "cell_type": "code",
   "execution_count": null,
   "id": "891be3c3-3805-4833-bc7c-817f1f4905fe",
   "metadata": {
    "tags": []
   },
   "outputs": [],
   "source": [
    "dm.head(1)"
   ]
  },
  {
   "cell_type": "code",
   "execution_count": null,
   "id": "1a4f7169-95d2-4f7b-9539-60c6aa5169cb",
   "metadata": {
    "tags": []
   },
   "outputs": [],
   "source": [
    "cq = pd.qcut(dm.violent_crimes_per_100000, q=4)\n",
    "dm['vc_per100k_quant'] = cq"
   ]
  },
  {
   "cell_type": "code",
   "execution_count": null,
   "id": "721a8cdb-07c5-4ca0-b943-ef6c05cb98f3",
   "metadata": {
    "tags": []
   },
   "outputs": [],
   "source": [
    "dm.dropna(subset=['fips_county'], inplace=True)"
   ]
  },
  {
   "cell_type": "code",
   "execution_count": null,
   "id": "43c7639f-c1be-4808-900d-573a46e81726",
   "metadata": {
    "tags": []
   },
   "outputs": [],
   "source": [
    "colormap = ['#edf8fb','#bfd3e6','#9ebcda','#8c96c6','#8856a7','#810f7c']\n",
    "fig = px.choropleth(dm.sort_values(by='vc_per100k_quant', ascending=False), \n",
    "                    geojson=counties_json, locations='fips',\n",
    "                    color='vc_per100k_quant',\n",
    "                    hover_data=['county', 'pop_avrg', 'kills_per_1000'],\n",
    "                           color_discrete_sequence=colormap[::-1],\n",
    "                           scope=\"usa\",\n",
    "                           labels={'unemp':'unemployment rate'}\n",
    "                          )\n",
    "fig.update_layout(margin={\"r\":0,\"t\":0,\"l\":0,\"b\":0})\n",
    "fig.show()"
   ]
  },
  {
   "cell_type": "code",
   "execution_count": null,
   "id": "44dae31e-fc1f-4602-ad1b-0b585baa9a93",
   "metadata": {},
   "outputs": [],
   "source": [
    "df_fips.head(2)"
   ]
  },
  {
   "cell_type": "markdown",
   "id": "3cb9c9c7-9a21-482c-aa30-047ca868c0d1",
   "metadata": {},
   "source": [
    "## Killings per State 2000-2021"
   ]
  },
  {
   "cell_type": "code",
   "execution_count": null,
   "id": "a709b5a2-de34-4523-a82e-47675ac45c0f",
   "metadata": {},
   "outputs": [],
   "source": [
    "kills_per_state = (df_fips.groupby(['state_fips', 'state'])['name']\n",
    "         .count()\n",
    "         .reset_index()\n",
    "         .rename({'name': 'kills_total'}, axis=1)\n",
    "        )"
   ]
  },
  {
   "cell_type": "code",
   "execution_count": null,
   "id": "3e3048f0-685a-4ce7-af08-79ed5aa0fabb",
   "metadata": {},
   "outputs": [],
   "source": [
    "kills_per_state.head()"
   ]
  },
  {
   "cell_type": "code",
   "execution_count": null,
   "id": "bf705917-216d-4769-95c8-ef0d8a272423",
   "metadata": {},
   "outputs": [],
   "source": [
    "pop_avrg.head(2)"
   ]
  },
  {
   "cell_type": "code",
   "execution_count": null,
   "id": "fba50b8e-9795-462e-bcf5-ce4aa3e84a71",
   "metadata": {},
   "outputs": [],
   "source": [
    "kills_state_pop = kills_per_state.merge(pop_avrg, how='left', \n",
    "                                     left_on='state_fips',\n",
    "                                     right_on='STATE', indicator=True)"
   ]
  },
  {
   "cell_type": "code",
   "execution_count": null,
   "id": "c3ea37a8-f523-4ba4-947b-a7f31395d184",
   "metadata": {},
   "outputs": [],
   "source": [
    "kills_state_pop = kills_state_pop.drop_duplicates(subset=['state', 'state_fips']).reset_index().drop('index', axis=1)"
   ]
  },
  {
   "cell_type": "code",
   "execution_count": null,
   "id": "f293494d-dfad-4d65-ad95-2d8bb52df74a",
   "metadata": {},
   "outputs": [],
   "source": [
    "kills_state_pop = kills_state_pop[['state_fips', 'state', 'kills_total', 'STNAME', 'pop_avrg']]"
   ]
  },
  {
   "cell_type": "code",
   "execution_count": null,
   "id": "1ebf25a2-fba7-4b1d-9c9c-fa33d5c88182",
   "metadata": {},
   "outputs": [],
   "source": [
    "kills_state_pop.head(2)"
   ]
  },
  {
   "cell_type": "code",
   "execution_count": null,
   "id": "95a09110-90f6-4a2c-bbe6-c0f2454b4f36",
   "metadata": {},
   "outputs": [],
   "source": [
    "# merge crimes dataset too\n",
    "crime_state = crime.groupby('FIPS_ST')[['population', 'crime_rate_per_100000', \n",
    "                          'MURDER', 'RAPE', 'AGASSLT', 'BURGLRY']].sum().reset_index()"
   ]
  },
  {
   "cell_type": "code",
   "execution_count": null,
   "id": "8efd6fff-6fbc-49d7-8eec-ac5f9ded6e94",
   "metadata": {},
   "outputs": [],
   "source": [
    "kills_state_crime = kills_state_pop.merge(crime_state, how='left', left_on='state_fips', right_on='FIPS_ST')"
   ]
  },
  {
   "cell_type": "code",
   "execution_count": null,
   "id": "e6e5df8c-d851-4391-b287-aca6556a4022",
   "metadata": {},
   "outputs": [],
   "source": [
    "violent_crimes = kills_state_crime.loc[:, 'MURDER':'BURGLRY'].sum(axis=1)/kills_state_crime.pop_avrg*100000"
   ]
  },
  {
   "cell_type": "code",
   "execution_count": null,
   "id": "d66b4ffd-2199-4150-a149-58a2a399d621",
   "metadata": {},
   "outputs": [],
   "source": [
    "violent_crimes.head(2)"
   ]
  },
  {
   "cell_type": "code",
   "execution_count": null,
   "id": "984e7aa4-3213-4a59-942a-9f1ad11b12c1",
   "metadata": {},
   "outputs": [],
   "source": [
    "kills_state_crime['viol_crimes_100k'] = violent_crimes"
   ]
  },
  {
   "cell_type": "code",
   "execution_count": null,
   "id": "7d1bd8d4-a6d8-435d-8054-e846fce09952",
   "metadata": {},
   "outputs": [],
   "source": [
    "kills_state_crime['kills_per_1k'] = kills_state_crime.kills_total/kills_state_crime.pop_avrg*1000"
   ]
  },
  {
   "cell_type": "code",
   "execution_count": null,
   "id": "92744edb-70b6-4fa0-a803-e3292f2a31e5",
   "metadata": {},
   "outputs": [],
   "source": [
    "kills_state_crime.head()"
   ]
  },
  {
   "cell_type": "code",
   "execution_count": null,
   "id": "42546863-4c7b-43f0-8d4e-3679520b3952",
   "metadata": {
    "tags": []
   },
   "outputs": [],
   "source": [
    "fig = px.choropleth(kills_state_crime, locations='state',\n",
    "                    color='kills_per_1k',\n",
    "                    hover_data=['STNAME', 'kills_per_1k', 'kills_total'],\n",
    "                           color_continuous_scale=\"Purples\",\n",
    "                           scope=\"usa\", locationmode=\"USA-states\",\n",
    "                           labels={'unemp':'unemployment rate'}\n",
    "                          )\n",
    "fig.update_layout(margin={\"r\":0,\"t\":0,\"l\":0,\"b\":0})\n",
    "fig.show()\n",
    "\n",
    "fig = px.choropleth(kills_state_crime, locations='state',\n",
    "                    color='viol_crimes_100k',\n",
    "                    hover_data=['STNAME', 'kills_per_1k', 'viol_crimes_100k'],\n",
    "                           color_continuous_scale=\"Purples\",\n",
    "                           scope=\"usa\", locationmode=\"USA-states\",\n",
    "                           labels={'unemp':'unemployment rate'}\n",
    "                          )\n",
    "fig.update_layout(margin={\"r\":0,\"t\":0,\"l\":0,\"b\":0})\n",
    "fig.show()"
   ]
  },
  {
   "cell_type": "code",
   "execution_count": null,
   "id": "471f712d-a893-41f6-9325-71c41d031aad",
   "metadata": {},
   "outputs": [],
   "source": [
    "kills_q = pd.qcut(kills_state_crime.kills_per_1k, q=4)\n",
    "kills_state_crime['kills_quant'] = kills_q"
   ]
  },
  {
   "cell_type": "code",
   "execution_count": null,
   "id": "45a0bfcd-605f-4d2e-95a7-cf5a5cbf2571",
   "metadata": {},
   "outputs": [],
   "source": [
    "cq = pd.qcut(kills_state_crime.viol_crimes_100k.astype(int), q=4)\n",
    "kills_state_crime['vc_quant'] = cq"
   ]
  },
  {
   "cell_type": "code",
   "execution_count": null,
   "id": "b1058883-c046-4c23-bb17-26726faa9adc",
   "metadata": {},
   "outputs": [],
   "source": [
    "colormap = ['#e66101','#fdb863','#b2abd2','#5e3c99']"
   ]
  },
  {
   "cell_type": "code",
   "execution_count": null,
   "id": "6be79f12-04e0-4f2c-903f-10d7a01c4b16",
   "metadata": {},
   "outputs": [],
   "source": [
    "kills_state_crime.head(2)"
   ]
  },
  {
   "cell_type": "code",
   "execution_count": null,
   "id": "2ea190a4-89da-4ad5-bd14-c85738768140",
   "metadata": {},
   "outputs": [],
   "source": [
    "kills_state_crime.info()"
   ]
  },
  {
   "cell_type": "code",
   "execution_count": null,
   "id": "7cb8ff2d-8c01-4b48-bdc2-4e41df262e84",
   "metadata": {},
   "outputs": [],
   "source": [
    "fig = px.choropleth(kills_state_crime.sort_values(by='kills_quant', ascending=False), \n",
    "                    locations='state', color='kills_quant',\n",
    "                    hover_data=['STNAME', 'pop_avrg', 'kills_per_1k', 'kills_total'],\n",
    "                           color_discrete_sequence=colormap[::-1],\n",
    "                           scope=\"usa\", locationmode=\"USA-states\",\n",
    "                           labels={'unemp':'unemployment rate'}\n",
    "                          )\n",
    "fig.update_layout(margin={\"r\":0,\"t\":0,\"l\":0,\"b\":0})\n",
    "fig.show()\n",
    "\n",
    "fig = px.choropleth(kills_state_crime.sort_values(by='vc_quant', ascending=False), \n",
    "                    locations='state', color='vc_quant',\n",
    "                    hover_data=['STNAME', 'pop_avrg', 'kills_per_1k'],\n",
    "                           color_discrete_sequence=colormap[::-1],\n",
    "                           scope=\"usa\", locationmode=\"USA-states\",\n",
    "                           labels={'unemp':'unemployment rate'}\n",
    "                          )\n",
    "fig.update_layout(margin={\"r\":0,\"t\":0,\"l\":0,\"b\":0})\n",
    "fig.show()"
   ]
  },
  {
   "cell_type": "markdown",
   "id": "1e4ca0fa-be00-4de2-81d6-eeb0f12c4c10",
   "metadata": {},
   "source": [
    "Graphical distributions for different races"
   ]
  },
  {
   "cell_type": "code",
   "execution_count": null,
   "id": "961a69f5-729a-4b78-91db-b0872fa1a85e",
   "metadata": {},
   "outputs": [],
   "source": [
    "# https://worldpopulationreview.com/states/states-by-race\n",
    "race_pop_perc = pd.read_csv('../data/geodata/population_perc_per_state_per_race.csv')"
   ]
  },
  {
   "cell_type": "code",
   "execution_count": null,
   "id": "1b071f7e-82cf-4228-a1fb-684a869e34d9",
   "metadata": {},
   "outputs": [],
   "source": [
    "race_pop_perc.head(2)"
   ]
  },
  {
   "cell_type": "code",
   "execution_count": null,
   "id": "4d24fc4e-32d9-4935-af1c-3ec4846e4782",
   "metadata": {},
   "outputs": [],
   "source": [
    "state_fips = pd.read_csv('../data/geodata/states_fips.csv', dtype=str)\n",
    "state_fips.stusps = state_fips.stusps.str.strip()\n",
    "state_fips.st = state_fips.st.str.strip()"
   ]
  },
  {
   "cell_type": "code",
   "execution_count": null,
   "id": "c1c0af6c-6a7b-4168-9b30-9ce248dc7654",
   "metadata": {},
   "outputs": [],
   "source": [
    "state_fips.head(1)"
   ]
  },
  {
   "cell_type": "code",
   "execution_count": null,
   "id": "26fda700-f82b-41b5-aa02-6cc2ca5084c7",
   "metadata": {},
   "outputs": [],
   "source": [
    "race_pop_perc = race_pop_perc.merge(state_fips, how='left', left_on='State', right_on='stname')"
   ]
  },
  {
   "cell_type": "code",
   "execution_count": null,
   "id": "a1ae33d6-abe2-4e95-b7a0-7683f7085b2d",
   "metadata": {},
   "outputs": [],
   "source": [
    "race_pop_perc = race_pop_perc.drop(labels=['stname'], axis=1).rename({'st': 'state_fips'}, axis=1)"
   ]
  },
  {
   "cell_type": "code",
   "execution_count": null,
   "id": "e52f4c27-4d0b-4c92-9eea-e0edb1f3b1eb",
   "metadata": {},
   "outputs": [],
   "source": [
    "race_pop_perc.head(2)"
   ]
  },
  {
   "cell_type": "code",
   "execution_count": null,
   "id": "73b4a85a-62b3-41bf-874e-493e3bf2832e",
   "metadata": {},
   "outputs": [],
   "source": [
    "# Group main dataframe by race\n",
    "kills_per_race = (df_fips.groupby(['race', 'state'])['name']\n",
    "         .count()\n",
    "         .reset_index()\n",
    "         .rename({'name': 'kills_total'}, axis=1)\n",
    "        )"
   ]
  },
  {
   "cell_type": "code",
   "execution_count": null,
   "id": "12d4f580-f318-4817-aa01-54bb4ceba678",
   "metadata": {},
   "outputs": [],
   "source": [
    "kills_per_race"
   ]
  },
  {
   "cell_type": "code",
   "execution_count": null,
   "id": "6d921a7e-06c9-4256-90dd-6ab8eff369ee",
   "metadata": {},
   "outputs": [],
   "source": [
    "kills_per_race = kills_per_race.query('race in [\"black\", \"white\", \"native american\"]').reset_index().drop('index', axis=1)"
   ]
  },
  {
   "cell_type": "code",
   "execution_count": null,
   "id": "a4c99cd7-8902-4816-9ec5-bcbc3cbc5061",
   "metadata": {},
   "outputs": [],
   "source": [
    "# merge with population avrg data"
   ]
  },
  {
   "cell_type": "code",
   "execution_count": null,
   "id": "86dc39cb-e17b-4071-9033-53e90d687b55",
   "metadata": {},
   "outputs": [],
   "source": [
    "pop_race = pd.merge(kills_state_pop, race_pop_perc, left_on='STNAME', right_on='State', how='inner')"
   ]
  },
  {
   "cell_type": "code",
   "execution_count": null,
   "id": "a14dbc1e-fc17-4ec1-9998-1fb067f2aa52",
   "metadata": {},
   "outputs": [],
   "source": [
    "kills_state_pop.head(1)"
   ]
  },
  {
   "cell_type": "code",
   "execution_count": null,
   "id": "e6db839a-6832-4725-ba46-bd499e013f3b",
   "metadata": {},
   "outputs": [],
   "source": [
    "pop_race = pop_race.drop(labels=['STNAME', 'state_fips_y', 'stusps', \n",
    "                                 'AsianTotalPerc','HawaiianTotalPerc','OtherTotalPerc'], axis=1).rename({\n",
    "            'state_fips_x': 'state_fips', 'state': 'state_usps'}, axis=1)"
   ]
  },
  {
   "cell_type": "code",
   "execution_count": null,
   "id": "cbf857df-2566-45e6-846f-04c55975fa06",
   "metadata": {},
   "outputs": [],
   "source": [
    "pop_race.head(2)"
   ]
  },
  {
   "cell_type": "code",
   "execution_count": null,
   "id": "7cd692d7-3f0e-47b7-b436-035d37d93b3f",
   "metadata": {},
   "outputs": [],
   "source": [
    "kills_per_race.head()"
   ]
  },
  {
   "cell_type": "code",
   "execution_count": null,
   "id": "412c71e4-4cf8-424f-8965-202760ecd6d2",
   "metadata": {},
   "outputs": [],
   "source": [
    "kills_race_pop = kills_per_race.merge(pop_race, how='left', left_on='state', right_on='state_usps')"
   ]
  },
  {
   "cell_type": "code",
   "execution_count": null,
   "id": "56186b92-79dc-4890-8c39-6525dd63410d",
   "metadata": {},
   "outputs": [],
   "source": [
    "kills_race = kills_race_pop.merge(crime_state, how='left', left_on='state_fips', right_on='FIPS_ST')"
   ]
  },
  {
   "cell_type": "code",
   "execution_count": null,
   "id": "d6ba7b44-6a7b-4145-83b8-1cfba129b0b8",
   "metadata": {},
   "outputs": [],
   "source": [
    "kills_race.shape"
   ]
  },
  {
   "cell_type": "code",
   "execution_count": null,
   "id": "840cb76e-8977-46fe-8392-c14f4810d939",
   "metadata": {},
   "outputs": [],
   "source": []
  }
 ],
 "metadata": {
  "kernelspec": {
   "display_name": "Python 3 (ipykernel)",
   "language": "python",
   "name": "python3"
  },
  "language_info": {
   "codemirror_mode": {
    "name": "ipython",
    "version": 3
   },
   "file_extension": ".py",
   "mimetype": "text/x-python",
   "name": "python",
   "nbconvert_exporter": "python",
   "pygments_lexer": "ipython3",
   "version": "3.9.7"
  }
 },
 "nbformat": 4,
 "nbformat_minor": 5
}
